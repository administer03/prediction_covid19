{
  "nbformat": 4,
  "nbformat_minor": 0,
  "metadata": {
    "colab": {
      "name": "prediction_covid2021.ipynb",
      "provenance": [],
      "collapsed_sections": [],
      "authorship_tag": "ABX9TyPEPuytWk0IRfqwsfGtX6gJ",
      "include_colab_link": true
    },
    "kernelspec": {
      "name": "python3",
      "display_name": "Python 3"
    },
    "language_info": {
      "name": "python"
    }
  },
  "cells": [
    {
      "cell_type": "markdown",
      "metadata": {
        "id": "view-in-github",
        "colab_type": "text"
      },
      "source": [
        "<a href=\"https://colab.research.google.com/github/administer03/prediction_covid19/blob/main/prediction_covid2021.ipynb\" target=\"_parent\"><img src=\"https://colab.research.google.com/assets/colab-badge.svg\" alt=\"Open In Colab\"/></a>"
      ]
    },
    {
      "cell_type": "code",
      "metadata": {
        "id": "OAcmz0fMMTFX",
        "colab": {
          "base_uri": "https://localhost:8080/"
        },
        "outputId": "8cd806c1-fb55-43af-8115-d9ab2b175cd3"
      },
      "source": [
        "import pandas as pd\n",
        "import io\n",
        "import requests\n",
        "url = 'https://covid19.th-stat.com/api/open/timeline'  \n",
        "s=requests.get(url).content\n",
        "# c=pd.read_csv(io.StringIO(s.decode('utf-8')))\n",
        "type(s)"
      ],
      "execution_count": null,
      "outputs": [
        {
          "output_type": "execute_result",
          "data": {
            "text/plain": [
              "bytes"
            ]
          },
          "metadata": {
            "tags": []
          },
          "execution_count": 256
        }
      ]
    },
    {
      "cell_type": "code",
      "metadata": {
        "id": "8VHZNDMtymQ_",
        "colab": {
          "base_uri": "https://localhost:8080/"
        },
        "outputId": "e2a57d9b-3f9a-483f-be3a-f47b5ab10bab"
      },
      "source": [
        "import ast\n",
        "byte_str = s\n",
        "dict_str = byte_str.decode(\"UTF-8\")\n",
        "mydata = ast.literal_eval(dict_str)\n",
        "print(repr(mydata))"
      ],
      "execution_count": null,
      "outputs": [
        {
          "output_type": "stream",
          "text": [
            "{'UpdateDate': '25\\\\/04\\\\/2021 11:59', 'Source': 'https:\\\\/\\\\/covid19.th-stat.com\\\\/', 'DevBy': 'https:\\\\/\\\\/www.kidkarnmai.com\\\\/', 'SeverBy': 'https:\\\\/\\\\/smilehost.asia\\\\/', 'Data': [{'Date': '01\\\\/01\\\\/2020', 'NewConfirmed': 0, 'NewRecovered': 0, 'NewHospitalized': 0, 'NewDeaths': 0, 'Confirmed': 0, 'Recovered': 0, 'Hospitalized': 0, 'Deaths': 0}, {'Date': '01\\\\/02\\\\/2020', 'NewConfirmed': 0, 'NewRecovered': 0, 'NewHospitalized': 0, 'NewDeaths': 0, 'Confirmed': 0, 'Recovered': 0, 'Hospitalized': 0, 'Deaths': 0}, {'Date': '01\\\\/03\\\\/2020', 'NewConfirmed': 0, 'NewRecovered': 0, 'NewHospitalized': 0, 'NewDeaths': 0, 'Confirmed': 0, 'Recovered': 0, 'Hospitalized': 0, 'Deaths': 0}, {'Date': '01\\\\/04\\\\/2020', 'NewConfirmed': 0, 'NewRecovered': 0, 'NewHospitalized': 0, 'NewDeaths': 0, 'Confirmed': 0, 'Recovered': 0, 'Hospitalized': 0, 'Deaths': 0}, {'Date': '01\\\\/05\\\\/2020', 'NewConfirmed': 0, 'NewRecovered': 0, 'NewHospitalized': 0, 'NewDeaths': 0, 'Confirmed': 0, 'Recovered': 0, 'Hospitalized': 0, 'Deaths': 0}, {'Date': '01\\\\/06\\\\/2020', 'NewConfirmed': 0, 'NewRecovered': 0, 'NewHospitalized': 0, 'NewDeaths': 0, 'Confirmed': 0, 'Recovered': 0, 'Hospitalized': 0, 'Deaths': 0}, {'Date': '01\\\\/07\\\\/2020', 'NewConfirmed': 0, 'NewRecovered': 0, 'NewHospitalized': 0, 'NewDeaths': 0, 'Confirmed': 0, 'Recovered': 0, 'Hospitalized': 0, 'Deaths': 0}, {'Date': '01\\\\/08\\\\/2020', 'NewConfirmed': 0, 'NewRecovered': 0, 'NewHospitalized': 0, 'NewDeaths': 0, 'Confirmed': 0, 'Recovered': 0, 'Hospitalized': 0, 'Deaths': 0}, {'Date': '01\\\\/09\\\\/2020', 'NewConfirmed': 0, 'NewRecovered': 0, 'NewHospitalized': 0, 'NewDeaths': 0, 'Confirmed': 0, 'Recovered': 0, 'Hospitalized': 0, 'Deaths': 0}, {'Date': '01\\\\/10\\\\/2020', 'NewConfirmed': 0, 'NewRecovered': 0, 'NewHospitalized': 0, 'NewDeaths': 0, 'Confirmed': 0, 'Recovered': 0, 'Hospitalized': 0, 'Deaths': 0}, {'Date': '01\\\\/11\\\\/2020', 'NewConfirmed': 0, 'NewRecovered': 0, 'NewHospitalized': 0, 'NewDeaths': 0, 'Confirmed': 0, 'Recovered': 0, 'Hospitalized': 0, 'Deaths': 0}, {'Date': '01\\\\/12\\\\/2020', 'NewConfirmed': 1, 'NewRecovered': 0, 'NewHospitalized': 1, 'NewDeaths': 0, 'Confirmed': 1, 'Recovered': 0, 'Hospitalized': 1, 'Deaths': 0}, {'Date': '01\\\\/13\\\\/2020', 'NewConfirmed': 0, 'NewRecovered': 0, 'NewHospitalized': 0, 'NewDeaths': 0, 'Confirmed': 1, 'Recovered': 0, 'Hospitalized': 1, 'Deaths': 0}, {'Date': '01\\\\/14\\\\/2020', 'NewConfirmed': 0, 'NewRecovered': 0, 'NewHospitalized': 0, 'NewDeaths': 0, 'Confirmed': 1, 'Recovered': 0, 'Hospitalized': 1, 'Deaths': 0}, {'Date': '01\\\\/15\\\\/2020', 'NewConfirmed': 0, 'NewRecovered': 0, 'NewHospitalized': 0, 'NewDeaths': 0, 'Confirmed': 1, 'Recovered': 0, 'Hospitalized': 1, 'Deaths': 0}, {'Date': '01\\\\/16\\\\/2020', 'NewConfirmed': 0, 'NewRecovered': 0, 'NewHospitalized': 0, 'NewDeaths': 0, 'Confirmed': 1, 'Recovered': 0, 'Hospitalized': 1, 'Deaths': 0}, {'Date': '01\\\\/17\\\\/2020', 'NewConfirmed': 1, 'NewRecovered': 0, 'NewHospitalized': 1, 'NewDeaths': 0, 'Confirmed': 2, 'Recovered': 0, 'Hospitalized': 2, 'Deaths': 0}, {'Date': '01\\\\/18\\\\/2020', 'NewConfirmed': 0, 'NewRecovered': 1, 'NewHospitalized': -1, 'NewDeaths': 0, 'Confirmed': 2, 'Recovered': 1, 'Hospitalized': 1, 'Deaths': 0}, {'Date': '01\\\\/19\\\\/2020', 'NewConfirmed': 0, 'NewRecovered': 0, 'NewHospitalized': 0, 'NewDeaths': 0, 'Confirmed': 2, 'Recovered': 1, 'Hospitalized': 1, 'Deaths': 0}, {'Date': '01\\\\/20\\\\/2020', 'NewConfirmed': 0, 'NewRecovered': 0, 'NewHospitalized': 0, 'NewDeaths': 0, 'Confirmed': 2, 'Recovered': 1, 'Hospitalized': 1, 'Deaths': 0}, {'Date': '01\\\\/21\\\\/2020', 'NewConfirmed': 0, 'NewRecovered': 1, 'NewHospitalized': -1, 'NewDeaths': 0, 'Confirmed': 2, 'Recovered': 2, 'Hospitalized': 0, 'Deaths': 0}, {'Date': '01\\\\/22\\\\/2020', 'NewConfirmed': 2, 'NewRecovered': 0, 'NewHospitalized': 2, 'NewDeaths': 0, 'Confirmed': 4, 'Recovered': 2, 'Hospitalized': 2, 'Deaths': 0}, {'Date': '01\\\\/23\\\\/2020', 'NewConfirmed': 0, 'NewRecovered': 0, 'NewHospitalized': 0, 'NewDeaths': 0, 'Confirmed': 4, 'Recovered': 2, 'Hospitalized': 2, 'Deaths': 0}, {'Date': '01\\\\/24\\\\/2020', 'NewConfirmed': 1, 'NewRecovered': 1, 'NewHospitalized': 0, 'NewDeaths': 0, 'Confirmed': 5, 'Recovered': 3, 'Hospitalized': 2, 'Deaths': 0}, {'Date': '01\\\\/25\\\\/2020', 'NewConfirmed': 1, 'NewRecovered': 0, 'NewHospitalized': 1, 'NewDeaths': 0, 'Confirmed': 6, 'Recovered': 3, 'Hospitalized': 3, 'Deaths': 0}, {'Date': '01\\\\/26\\\\/2020', 'NewConfirmed': 2, 'NewRecovered': 3, 'NewHospitalized': -1, 'NewDeaths': 0, 'Confirmed': 8, 'Recovered': 6, 'Hospitalized': 2, 'Deaths': 0}, {'Date': '01\\\\/27\\\\/2020', 'NewConfirmed': 0, 'NewRecovered': 0, 'NewHospitalized': 0, 'NewDeaths': 0, 'Confirmed': 8, 'Recovered': 6, 'Hospitalized': 2, 'Deaths': 0}, {'Date': '01\\\\/28\\\\/2020', 'NewConfirmed': 6, 'NewRecovered': 0, 'NewHospitalized': 6, 'NewDeaths': 0, 'Confirmed': 14, 'Recovered': 6, 'Hospitalized': 8, 'Deaths': 0}, {'Date': '01\\\\/29\\\\/2020', 'NewConfirmed': 0, 'NewRecovered': 0, 'NewHospitalized': 0, 'NewDeaths': 0, 'Confirmed': 14, 'Recovered': 6, 'Hospitalized': 8, 'Deaths': 0}, {'Date': '01\\\\/30\\\\/2020', 'NewConfirmed': 0, 'NewRecovered': 1, 'NewHospitalized': -1, 'NewDeaths': 0, 'Confirmed': 14, 'Recovered': 7, 'Hospitalized': 7, 'Deaths': 0}, {'Date': '01\\\\/31\\\\/2020', 'NewConfirmed': 5, 'NewRecovered': 1, 'NewHospitalized': 4, 'NewDeaths': 0, 'Confirmed': 19, 'Recovered': 8, 'Hospitalized': 11, 'Deaths': 0}, {'Date': '02\\\\/01\\\\/2020', 'NewConfirmed': 0, 'NewRecovered': 0, 'NewHospitalized': 0, 'NewDeaths': 0, 'Confirmed': 19, 'Recovered': 8, 'Hospitalized': 11, 'Deaths': 0}, {'Date': '02\\\\/02\\\\/2020', 'NewConfirmed': 0, 'NewRecovered': 1, 'NewHospitalized': -1, 'NewDeaths': 0, 'Confirmed': 19, 'Recovered': 9, 'Hospitalized': 10, 'Deaths': 0}, {'Date': '02\\\\/03\\\\/2020', 'NewConfirmed': 0, 'NewRecovered': 0, 'NewHospitalized': 0, 'NewDeaths': 0, 'Confirmed': 19, 'Recovered': 9, 'Hospitalized': 10, 'Deaths': 0}, {'Date': '02\\\\/04\\\\/2020', 'NewConfirmed': 6, 'NewRecovered': 1, 'NewHospitalized': 5, 'NewDeaths': 0, 'Confirmed': 25, 'Recovered': 10, 'Hospitalized': 15, 'Deaths': 0}, {'Date': '02\\\\/05\\\\/2020', 'NewConfirmed': 0, 'NewRecovered': 0, 'NewHospitalized': 0, 'NewDeaths': 0, 'Confirmed': 25, 'Recovered': 10, 'Hospitalized': 15, 'Deaths': 0}, {'Date': '02\\\\/06\\\\/2020', 'NewConfirmed': 0, 'NewRecovered': 0, 'NewHospitalized': 0, 'NewDeaths': 0, 'Confirmed': 25, 'Recovered': 10, 'Hospitalized': 15, 'Deaths': 0}, {'Date': '02\\\\/07\\\\/2020', 'NewConfirmed': 0, 'NewRecovered': 0, 'NewHospitalized': 0, 'NewDeaths': 0, 'Confirmed': 25, 'Recovered': 10, 'Hospitalized': 15, 'Deaths': 0}, {'Date': '02\\\\/08\\\\/2020', 'NewConfirmed': 7, 'NewRecovered': 0, 'NewHospitalized': 7, 'NewDeaths': 0, 'Confirmed': 32, 'Recovered': 10, 'Hospitalized': 22, 'Deaths': 0}, {'Date': '02\\\\/09\\\\/2020', 'NewConfirmed': 0, 'NewRecovered': 1, 'NewHospitalized': -1, 'NewDeaths': 0, 'Confirmed': 32, 'Recovered': 11, 'Hospitalized': 21, 'Deaths': 0}, {'Date': '02\\\\/10\\\\/2020', 'NewConfirmed': 0, 'NewRecovered': 0, 'NewHospitalized': 0, 'NewDeaths': 0, 'Confirmed': 32, 'Recovered': 11, 'Hospitalized': 21, 'Deaths': 0}, {'Date': '02\\\\/11\\\\/2020', 'NewConfirmed': 1, 'NewRecovered': 0, 'NewHospitalized': 1, 'NewDeaths': 0, 'Confirmed': 33, 'Recovered': 11, 'Hospitalized': 22, 'Deaths': 0}, {'Date': '02\\\\/12\\\\/2020', 'NewConfirmed': 0, 'NewRecovered': 0, 'NewHospitalized': 0, 'NewDeaths': 0, 'Confirmed': 33, 'Recovered': 11, 'Hospitalized': 22, 'Deaths': 0}, {'Date': '02\\\\/13\\\\/2020', 'NewConfirmed': 0, 'NewRecovered': 0, 'NewHospitalized': 0, 'NewDeaths': 0, 'Confirmed': 33, 'Recovered': 11, 'Hospitalized': 22, 'Deaths': 0}, {'Date': '02\\\\/14\\\\/2020', 'NewConfirmed': 0, 'NewRecovered': 0, 'NewHospitalized': 0, 'NewDeaths': 0, 'Confirmed': 33, 'Recovered': 11, 'Hospitalized': 22, 'Deaths': 0}, {'Date': '02\\\\/15\\\\/2020', 'NewConfirmed': 1, 'NewRecovered': 2, 'NewHospitalized': -1, 'NewDeaths': 0, 'Confirmed': 34, 'Recovered': 13, 'Hospitalized': 21, 'Deaths': 0}, {'Date': '02\\\\/16\\\\/2020', 'NewConfirmed': 0, 'NewRecovered': 2, 'NewHospitalized': -2, 'NewDeaths': 0, 'Confirmed': 34, 'Recovered': 15, 'Hospitalized': 19, 'Deaths': 0}, {'Date': '02\\\\/17\\\\/2020', 'NewConfirmed': 1, 'NewRecovered': 0, 'NewHospitalized': 1, 'NewDeaths': 0, 'Confirmed': 35, 'Recovered': 15, 'Hospitalized': 20, 'Deaths': 0}, {'Date': '02\\\\/18\\\\/2020', 'NewConfirmed': 0, 'NewRecovered': 0, 'NewHospitalized': 0, 'NewDeaths': 0, 'Confirmed': 35, 'Recovered': 15, 'Hospitalized': 20, 'Deaths': 0}, {'Date': '02\\\\/19\\\\/2020', 'NewConfirmed': 0, 'NewRecovered': 0, 'NewHospitalized': 0, 'NewDeaths': 0, 'Confirmed': 35, 'Recovered': 15, 'Hospitalized': 20, 'Deaths': 0}, {'Date': '02\\\\/20\\\\/2020', 'NewConfirmed': 0, 'NewRecovered': 2, 'NewHospitalized': -2, 'NewDeaths': 0, 'Confirmed': 35, 'Recovered': 17, 'Hospitalized': 18, 'Deaths': 0}, {'Date': '02\\\\/21\\\\/2020', 'NewConfirmed': 0, 'NewRecovered': 2, 'NewHospitalized': -2, 'NewDeaths': 0, 'Confirmed': 35, 'Recovered': 19, 'Hospitalized': 16, 'Deaths': 0}, {'Date': '02\\\\/22\\\\/2020', 'NewConfirmed': 0, 'NewRecovered': 1, 'NewHospitalized': -1, 'NewDeaths': 0, 'Confirmed': 35, 'Recovered': 20, 'Hospitalized': 15, 'Deaths': 0}, {'Date': '02\\\\/23\\\\/2020', 'NewConfirmed': 0, 'NewRecovered': 1, 'NewHospitalized': -1, 'NewDeaths': 0, 'Confirmed': 35, 'Recovered': 21, 'Hospitalized': 14, 'Deaths': 0}, {'Date': '02\\\\/24\\\\/2020', 'NewConfirmed': 0, 'NewRecovered': 0, 'NewHospitalized': 0, 'NewDeaths': 0, 'Confirmed': 35, 'Recovered': 21, 'Hospitalized': 14, 'Deaths': 0}, {'Date': '02\\\\/25\\\\/2020', 'NewConfirmed': 2, 'NewRecovered': 1, 'NewHospitalized': 1, 'NewDeaths': 0, 'Confirmed': 37, 'Recovered': 22, 'Hospitalized': 15, 'Deaths': 0}, {'Date': '02\\\\/26\\\\/2020', 'NewConfirmed': 3, 'NewRecovered': 2, 'NewHospitalized': 1, 'NewDeaths': 0, 'Confirmed': 40, 'Recovered': 24, 'Hospitalized': 16, 'Deaths': 0}, {'Date': '02\\\\/27\\\\/2020', 'NewConfirmed': 0, 'NewRecovered': 0, 'NewHospitalized': 0, 'NewDeaths': 0, 'Confirmed': 40, 'Recovered': 24, 'Hospitalized': 16, 'Deaths': 0}, {'Date': '02\\\\/28\\\\/2020', 'NewConfirmed': 1, 'NewRecovered': 4, 'NewHospitalized': -3, 'NewDeaths': 0, 'Confirmed': 41, 'Recovered': 28, 'Hospitalized': 13, 'Deaths': 0}, {'Date': '02\\\\/29\\\\/2020', 'NewConfirmed': 1, 'NewRecovered': 0, 'NewHospitalized': 1, 'NewDeaths': 0, 'Confirmed': 42, 'Recovered': 28, 'Hospitalized': 14, 'Deaths': 0}, {'Date': '03\\\\/01\\\\/2020', 'NewConfirmed': 0, 'NewRecovered': 2, 'NewHospitalized': -3, 'NewDeaths': 1, 'Confirmed': 42, 'Recovered': 30, 'Hospitalized': 11, 'Deaths': 1}, {'Date': '03\\\\/02\\\\/2020', 'NewConfirmed': 1, 'NewRecovered': 1, 'NewHospitalized': 0, 'NewDeaths': 0, 'Confirmed': 43, 'Recovered': 31, 'Hospitalized': 11, 'Deaths': 1}, {'Date': '03\\\\/03\\\\/2020', 'NewConfirmed': 0, 'NewRecovered': 0, 'NewHospitalized': 0, 'NewDeaths': 0, 'Confirmed': 43, 'Recovered': 31, 'Hospitalized': 11, 'Deaths': 1}, {'Date': '03\\\\/04\\\\/2020', 'NewConfirmed': 0, 'NewRecovered': 0, 'NewHospitalized': 0, 'NewDeaths': 0, 'Confirmed': 43, 'Recovered': 31, 'Hospitalized': 11, 'Deaths': 1}, {'Date': '03\\\\/05\\\\/2020', 'NewConfirmed': 4, 'NewRecovered': 0, 'NewHospitalized': 4, 'NewDeaths': 0, 'Confirmed': 47, 'Recovered': 31, 'Hospitalized': 15, 'Deaths': 1}, {'Date': '03\\\\/06\\\\/2020', 'NewConfirmed': 1, 'NewRecovered': 0, 'NewHospitalized': 1, 'NewDeaths': 0, 'Confirmed': 48, 'Recovered': 31, 'Hospitalized': 16, 'Deaths': 1}, {'Date': '03\\\\/07\\\\/2020', 'NewConfirmed': 2, 'NewRecovered': 0, 'NewHospitalized': 2, 'NewDeaths': 0, 'Confirmed': 50, 'Recovered': 31, 'Hospitalized': 18, 'Deaths': 1}, {'Date': '03\\\\/08\\\\/2020', 'NewConfirmed': 0, 'NewRecovered': 2, 'NewHospitalized': -2, 'NewDeaths': 0, 'Confirmed': 50, 'Recovered': 33, 'Hospitalized': 16, 'Deaths': 1}, {'Date': '03\\\\/09\\\\/2020', 'NewConfirmed': 0, 'NewRecovered': 0, 'NewHospitalized': 0, 'NewDeaths': 0, 'Confirmed': 50, 'Recovered': 33, 'Hospitalized': 16, 'Deaths': 1}, {'Date': '03\\\\/10\\\\/2020', 'NewConfirmed': 3, 'NewRecovered': 0, 'NewHospitalized': 3, 'NewDeaths': 0, 'Confirmed': 53, 'Recovered': 33, 'Hospitalized': 19, 'Deaths': 1}, {'Date': '03\\\\/11\\\\/2020', 'NewConfirmed': 6, 'NewRecovered': 1, 'NewHospitalized': 5, 'NewDeaths': 0, 'Confirmed': 59, 'Recovered': 34, 'Hospitalized': 24, 'Deaths': 1}, {'Date': '03\\\\/12\\\\/2020', 'NewConfirmed': 11, 'NewRecovered': 1, 'NewHospitalized': 10, 'NewDeaths': 0, 'Confirmed': 70, 'Recovered': 35, 'Hospitalized': 34, 'Deaths': 1}, {'Date': '03\\\\/13\\\\/2020', 'NewConfirmed': 5, 'NewRecovered': 0, 'NewHospitalized': 5, 'NewDeaths': 0, 'Confirmed': 75, 'Recovered': 35, 'Hospitalized': 39, 'Deaths': 1}, {'Date': '03\\\\/14\\\\/2020', 'NewConfirmed': 7, 'NewRecovered': 0, 'NewHospitalized': 7, 'NewDeaths': 0, 'Confirmed': 82, 'Recovered': 35, 'Hospitalized': 46, 'Deaths': 1}, {'Date': '03\\\\/15\\\\/2020', 'NewConfirmed': 32, 'NewRecovered': 2, 'NewHospitalized': 30, 'NewDeaths': 0, 'Confirmed': 114, 'Recovered': 37, 'Hospitalized': 76, 'Deaths': 1}, {'Date': '03\\\\/16\\\\/2020', 'NewConfirmed': 33, 'NewRecovered': 1, 'NewHospitalized': 32, 'NewDeaths': 0, 'Confirmed': 147, 'Recovered': 38, 'Hospitalized': 108, 'Deaths': 1}, {'Date': '03\\\\/17\\\\/2020', 'NewConfirmed': 30, 'NewRecovered': 3, 'NewHospitalized': 27, 'NewDeaths': 0, 'Confirmed': 177, 'Recovered': 41, 'Hospitalized': 135, 'Deaths': 1}, {'Date': '03\\\\/18\\\\/2020', 'NewConfirmed': 35, 'NewRecovered': 1, 'NewHospitalized': 34, 'NewDeaths': 0, 'Confirmed': 212, 'Recovered': 42, 'Hospitalized': 169, 'Deaths': 1}, {'Date': '03\\\\/19\\\\/2020', 'NewConfirmed': 60, 'NewRecovered': 0, 'NewHospitalized': 60, 'NewDeaths': 0, 'Confirmed': 272, 'Recovered': 42, 'Hospitalized': 229, 'Deaths': 1}, {'Date': '03\\\\/20\\\\/2020', 'NewConfirmed': 50, 'NewRecovered': 1, 'NewHospitalized': 49, 'NewDeaths': 0, 'Confirmed': 322, 'Recovered': 43, 'Hospitalized': 278, 'Deaths': 1}, {'Date': '03\\\\/21\\\\/2020', 'NewConfirmed': 89, 'NewRecovered': 1, 'NewHospitalized': 88, 'NewDeaths': 0, 'Confirmed': 411, 'Recovered': 44, 'Hospitalized': 366, 'Deaths': 1}, {'Date': '03\\\\/22\\\\/2020', 'NewConfirmed': 188, 'NewRecovered': 1, 'NewHospitalized': 187, 'NewDeaths': 0, 'Confirmed': 599, 'Recovered': 45, 'Hospitalized': 553, 'Deaths': 1}, {'Date': '03\\\\/23\\\\/2020', 'NewConfirmed': 122, 'NewRecovered': 7, 'NewHospitalized': 115, 'NewDeaths': 0, 'Confirmed': 721, 'Recovered': 52, 'Hospitalized': 668, 'Deaths': 1}, {'Date': '03\\\\/24\\\\/2020', 'NewConfirmed': 106, 'NewRecovered': 5, 'NewHospitalized': 98, 'NewDeaths': 3, 'Confirmed': 827, 'Recovered': 57, 'Hospitalized': 766, 'Deaths': 4}, {'Date': '03\\\\/25\\\\/2020', 'NewConfirmed': 107, 'NewRecovered': 13, 'NewHospitalized': 94, 'NewDeaths': 0, 'Confirmed': 934, 'Recovered': 70, 'Hospitalized': 860, 'Deaths': 4}, {'Date': '03\\\\/26\\\\/2020', 'NewConfirmed': 111, 'NewRecovered': 18, 'NewHospitalized': 93, 'NewDeaths': 0, 'Confirmed': 1045, 'Recovered': 88, 'Hospitalized': 953, 'Deaths': 4}, {'Date': '03\\\\/27\\\\/2020', 'NewConfirmed': 91, 'NewRecovered': 9, 'NewHospitalized': 81, 'NewDeaths': 1, 'Confirmed': 1136, 'Recovered': 97, 'Hospitalized': 1034, 'Deaths': 5}, {'Date': '03\\\\/28\\\\/2020', 'NewConfirmed': 109, 'NewRecovered': 3, 'NewHospitalized': 105, 'NewDeaths': 1, 'Confirmed': 1245, 'Recovered': 100, 'Hospitalized': 1139, 'Deaths': 6}, {'Date': '03\\\\/29\\\\/2020', 'NewConfirmed': 143, 'NewRecovered': 11, 'NewHospitalized': 131, 'NewDeaths': 1, 'Confirmed': 1388, 'Recovered': 111, 'Hospitalized': 1270, 'Deaths': 7}, {'Date': '03\\\\/30\\\\/2020', 'NewConfirmed': 136, 'NewRecovered': 16, 'NewHospitalized': 118, 'NewDeaths': 2, 'Confirmed': 1524, 'Recovered': 127, 'Hospitalized': 1388, 'Deaths': 9}, {'Date': '03\\\\/31\\\\/2020', 'NewConfirmed': 127, 'NewRecovered': 215, 'NewHospitalized': -89, 'NewDeaths': 1, 'Confirmed': 1651, 'Recovered': 342, 'Hospitalized': 1299, 'Deaths': 10}, {'Date': '04\\\\/01\\\\/2020', 'NewConfirmed': 120, 'NewRecovered': 74, 'NewHospitalized': 44, 'NewDeaths': 2, 'Confirmed': 1771, 'Recovered': 416, 'Hospitalized': 1343, 'Deaths': 12}, {'Date': '04\\\\/02\\\\/2020', 'NewConfirmed': 104, 'NewRecovered': 89, 'NewHospitalized': 12, 'NewDeaths': 3, 'Confirmed': 1875, 'Recovered': 505, 'Hospitalized': 1355, 'Deaths': 15}, {'Date': '04\\\\/03\\\\/2020', 'NewConfirmed': 103, 'NewRecovered': 76, 'NewHospitalized': 23, 'NewDeaths': 4, 'Confirmed': 1978, 'Recovered': 581, 'Hospitalized': 1378, 'Deaths': 19}, {'Date': '04\\\\/04\\\\/2020', 'NewConfirmed': 89, 'NewRecovered': 31, 'NewHospitalized': 57, 'NewDeaths': 1, 'Confirmed': 2067, 'Recovered': 612, 'Hospitalized': 1435, 'Deaths': 20}, {'Date': '04\\\\/05\\\\/2020', 'NewConfirmed': 102, 'NewRecovered': 62, 'NewHospitalized': 37, 'NewDeaths': 3, 'Confirmed': 2169, 'Recovered': 674, 'Hospitalized': 1472, 'Deaths': 23}, {'Date': '04\\\\/06\\\\/2020', 'NewConfirmed': 51, 'NewRecovered': 119, 'NewHospitalized': -71, 'NewDeaths': 3, 'Confirmed': 2220, 'Recovered': 793, 'Hospitalized': 1401, 'Deaths': 26}, {'Date': '04\\\\/07\\\\/2020', 'NewConfirmed': 38, 'NewRecovered': 31, 'NewHospitalized': 6, 'NewDeaths': 1, 'Confirmed': 2258, 'Recovered': 824, 'Hospitalized': 1407, 'Deaths': 27}, {'Date': '04\\\\/08\\\\/2020', 'NewConfirmed': 111, 'NewRecovered': 64, 'NewHospitalized': 44, 'NewDeaths': 3, 'Confirmed': 2369, 'Recovered': 888, 'Hospitalized': 1451, 'Deaths': 30}, {'Date': '04\\\\/09\\\\/2020', 'NewConfirmed': 54, 'NewRecovered': 52, 'NewHospitalized': 0, 'NewDeaths': 2, 'Confirmed': 2423, 'Recovered': 940, 'Hospitalized': 1451, 'Deaths': 32}, {'Date': '04\\\\/10\\\\/2020', 'NewConfirmed': 50, 'NewRecovered': 73, 'NewHospitalized': -24, 'NewDeaths': 1, 'Confirmed': 2473, 'Recovered': 1013, 'Hospitalized': 1427, 'Deaths': 33}, {'Date': '04\\\\/11\\\\/2020', 'NewConfirmed': 45, 'NewRecovered': 122, 'NewHospitalized': -79, 'NewDeaths': 2, 'Confirmed': 2518, 'Recovered': 1135, 'Hospitalized': 1348, 'Deaths': 35}, {'Date': '04\\\\/12\\\\/2020', 'NewConfirmed': 33, 'NewRecovered': 83, 'NewHospitalized': -53, 'NewDeaths': 3, 'Confirmed': 2551, 'Recovered': 1218, 'Hospitalized': 1295, 'Deaths': 38}, {'Date': '04\\\\/13\\\\/2020', 'NewConfirmed': 28, 'NewRecovered': 70, 'NewHospitalized': -44, 'NewDeaths': 2, 'Confirmed': 2579, 'Recovered': 1288, 'Hospitalized': 1251, 'Deaths': 40}, {'Date': '04\\\\/14\\\\/2020', 'NewConfirmed': 34, 'NewRecovered': 117, 'NewHospitalized': -84, 'NewDeaths': 1, 'Confirmed': 2613, 'Recovered': 1405, 'Hospitalized': 1167, 'Deaths': 41}, {'Date': '04\\\\/15\\\\/2020', 'NewConfirmed': 30, 'NewRecovered': 92, 'NewHospitalized': -64, 'NewDeaths': 2, 'Confirmed': 2643, 'Recovered': 1497, 'Hospitalized': 1103, 'Deaths': 43}, {'Date': '04\\\\/16\\\\/2020', 'NewConfirmed': 29, 'NewRecovered': 96, 'NewHospitalized': -70, 'NewDeaths': 3, 'Confirmed': 2672, 'Recovered': 1593, 'Hospitalized': 1033, 'Deaths': 46}, {'Date': '04\\\\/17\\\\/2020', 'NewConfirmed': 28, 'NewRecovered': 96, 'NewHospitalized': -69, 'NewDeaths': 1, 'Confirmed': 2700, 'Recovered': 1689, 'Hospitalized': 964, 'Deaths': 47}, {'Date': '04\\\\/18\\\\/2020', 'NewConfirmed': 33, 'NewRecovered': 98, 'NewHospitalized': -65, 'NewDeaths': 0, 'Confirmed': 2733, 'Recovered': 1787, 'Hospitalized': 899, 'Deaths': 47}, {'Date': '04\\\\/19\\\\/2020', 'NewConfirmed': 32, 'NewRecovered': 141, 'NewHospitalized': -109, 'NewDeaths': 0, 'Confirmed': 2765, 'Recovered': 1928, 'Hospitalized': 790, 'Deaths': 47}, {'Date': '04\\\\/20\\\\/2020', 'NewConfirmed': 27, 'NewRecovered': 71, 'NewHospitalized': -44, 'NewDeaths': 0, 'Confirmed': 2792, 'Recovered': 1999, 'Hospitalized': 746, 'Deaths': 47}, {'Date': '04\\\\/21\\\\/2020', 'NewConfirmed': 19, 'NewRecovered': 109, 'NewHospitalized': -91, 'NewDeaths': 1, 'Confirmed': 2811, 'Recovered': 2108, 'Hospitalized': 655, 'Deaths': 48}, {'Date': '04\\\\/22\\\\/2020', 'NewConfirmed': 15, 'NewRecovered': 244, 'NewHospitalized': -230, 'NewDeaths': 1, 'Confirmed': 2826, 'Recovered': 2352, 'Hospitalized': 425, 'Deaths': 49}, {'Date': '04\\\\/23\\\\/2020', 'NewConfirmed': 13, 'NewRecovered': 78, 'NewHospitalized': -66, 'NewDeaths': 1, 'Confirmed': 2839, 'Recovered': 2430, 'Hospitalized': 359, 'Deaths': 50}, {'Date': '04\\\\/24\\\\/2020', 'NewConfirmed': 15, 'NewRecovered': 60, 'NewHospitalized': -45, 'NewDeaths': 0, 'Confirmed': 2854, 'Recovered': 2490, 'Hospitalized': 314, 'Deaths': 50}, {'Date': '04\\\\/25\\\\/2020', 'NewConfirmed': 53, 'NewRecovered': 57, 'NewHospitalized': -5, 'NewDeaths': 1, 'Confirmed': 2907, 'Recovered': 2547, 'Hospitalized': 309, 'Deaths': 51}, {'Date': '04\\\\/26\\\\/2020', 'NewConfirmed': 15, 'NewRecovered': 47, 'NewHospitalized': -32, 'NewDeaths': 0, 'Confirmed': 2922, 'Recovered': 2594, 'Hospitalized': 277, 'Deaths': 51}, {'Date': '04\\\\/27\\\\/2020', 'NewConfirmed': 9, 'NewRecovered': 15, 'NewHospitalized': -7, 'NewDeaths': 1, 'Confirmed': 2931, 'Recovered': 2609, 'Hospitalized': 270, 'Deaths': 52}, {'Date': '04\\\\/28\\\\/2020', 'NewConfirmed': 7, 'NewRecovered': 43, 'NewHospitalized': -38, 'NewDeaths': 2, 'Confirmed': 2938, 'Recovered': 2652, 'Hospitalized': 232, 'Deaths': 54}, {'Date': '04\\\\/29\\\\/2020', 'NewConfirmed': 9, 'NewRecovered': 13, 'NewHospitalized': -4, 'NewDeaths': 0, 'Confirmed': 2947, 'Recovered': 2665, 'Hospitalized': 228, 'Deaths': 54}, {'Date': '04\\\\/30\\\\/2020', 'NewConfirmed': 7, 'NewRecovered': 22, 'NewHospitalized': -15, 'NewDeaths': 0, 'Confirmed': 2954, 'Recovered': 2687, 'Hospitalized': 213, 'Deaths': 54}, {'Date': '05\\\\/01\\\\/2020', 'NewConfirmed': 6, 'NewRecovered': 32, 'NewHospitalized': -26, 'NewDeaths': 0, 'Confirmed': 2960, 'Recovered': 2719, 'Hospitalized': 187, 'Deaths': 54}, {'Date': '05\\\\/02\\\\/2020', 'NewConfirmed': 6, 'NewRecovered': 13, 'NewHospitalized': -7, 'NewDeaths': 0, 'Confirmed': 2966, 'Recovered': 2732, 'Hospitalized': 180, 'Deaths': 54}, {'Date': '05\\\\/03\\\\/2020', 'NewConfirmed': 3, 'NewRecovered': 7, 'NewHospitalized': -4, 'NewDeaths': 0, 'Confirmed': 2969, 'Recovered': 2739, 'Hospitalized': 176, 'Deaths': 54}, {'Date': '05\\\\/04\\\\/2020', 'NewConfirmed': 18, 'NewRecovered': 1, 'NewHospitalized': 17, 'NewDeaths': 0, 'Confirmed': 2987, 'Recovered': 2740, 'Hospitalized': 193, 'Deaths': 54}, {'Date': '05\\\\/05\\\\/2020', 'NewConfirmed': 1, 'NewRecovered': 7, 'NewHospitalized': -6, 'NewDeaths': 0, 'Confirmed': 2988, 'Recovered': 2747, 'Hospitalized': 187, 'Deaths': 54}, {'Date': '05\\\\/06\\\\/2020', 'NewConfirmed': 1, 'NewRecovered': 14, 'NewHospitalized': -14, 'NewDeaths': 1, 'Confirmed': 2989, 'Recovered': 2761, 'Hospitalized': 173, 'Deaths': 55}, {'Date': '05\\\\/07\\\\/2020', 'NewConfirmed': 3, 'NewRecovered': 11, 'NewHospitalized': -8, 'NewDeaths': 0, 'Confirmed': 2992, 'Recovered': 2772, 'Hospitalized': 165, 'Deaths': 55}, {'Date': '05\\\\/08\\\\/2020', 'NewConfirmed': 8, 'NewRecovered': 12, 'NewHospitalized': -4, 'NewDeaths': 0, 'Confirmed': 3000, 'Recovered': 2784, 'Hospitalized': 161, 'Deaths': 55}, {'Date': '05\\\\/09\\\\/2020', 'NewConfirmed': 4, 'NewRecovered': 3, 'NewHospitalized': 0, 'NewDeaths': 1, 'Confirmed': 3004, 'Recovered': 2787, 'Hospitalized': 161, 'Deaths': 56}, {'Date': '05\\\\/10\\\\/2020', 'NewConfirmed': 5, 'NewRecovered': 7, 'NewHospitalized': -2, 'NewDeaths': 0, 'Confirmed': 3009, 'Recovered': 2794, 'Hospitalized': 159, 'Deaths': 56}, {'Date': '05\\\\/11\\\\/2020', 'NewConfirmed': 6, 'NewRecovered': 2, 'NewHospitalized': 4, 'NewDeaths': 0, 'Confirmed': 3015, 'Recovered': 2796, 'Hospitalized': 163, 'Deaths': 56}, {'Date': '05\\\\/12\\\\/2020', 'NewConfirmed': 2, 'NewRecovered': 2, 'NewHospitalized': 0, 'NewDeaths': 0, 'Confirmed': 3017, 'Recovered': 2798, 'Hospitalized': 163, 'Deaths': 56}, {'Date': '05\\\\/13\\\\/2020', 'NewConfirmed': 0, 'NewRecovered': 46, 'NewHospitalized': -46, 'NewDeaths': 0, 'Confirmed': 3017, 'Recovered': 2844, 'Hospitalized': 117, 'Deaths': 56}, {'Date': '05\\\\/14\\\\/2020', 'NewConfirmed': 1, 'NewRecovered': 6, 'NewHospitalized': -5, 'NewDeaths': 0, 'Confirmed': 3018, 'Recovered': 2850, 'Hospitalized': 112, 'Deaths': 56}, {'Date': '05\\\\/15\\\\/2020', 'NewConfirmed': 7, 'NewRecovered': 4, 'NewHospitalized': 3, 'NewDeaths': 0, 'Confirmed': 3025, 'Recovered': 2854, 'Hospitalized': 115, 'Deaths': 56}, {'Date': '05\\\\/16\\\\/2020', 'NewConfirmed': 0, 'NewRecovered': 1, 'NewHospitalized': -1, 'NewDeaths': 0, 'Confirmed': 3025, 'Recovered': 2855, 'Hospitalized': 114, 'Deaths': 56}, {'Date': '05\\\\/17\\\\/2020', 'NewConfirmed': 3, 'NewRecovered': 1, 'NewHospitalized': 2, 'NewDeaths': 0, 'Confirmed': 3028, 'Recovered': 2856, 'Hospitalized': 116, 'Deaths': 56}, {'Date': '05\\\\/18\\\\/2020', 'NewConfirmed': 3, 'NewRecovered': 1, 'NewHospitalized': 2, 'NewDeaths': 0, 'Confirmed': 3031, 'Recovered': 2857, 'Hospitalized': 118, 'Deaths': 56}, {'Date': '05\\\\/19\\\\/2020', 'NewConfirmed': 2, 'NewRecovered': 0, 'NewHospitalized': 2, 'NewDeaths': 0, 'Confirmed': 3033, 'Recovered': 2857, 'Hospitalized': 120, 'Deaths': 56}, {'Date': '05\\\\/20\\\\/2020', 'NewConfirmed': 1, 'NewRecovered': 31, 'NewHospitalized': -30, 'NewDeaths': 0, 'Confirmed': 3034, 'Recovered': 2888, 'Hospitalized': 90, 'Deaths': 56}, {'Date': '05\\\\/21\\\\/2020', 'NewConfirmed': 3, 'NewRecovered': 9, 'NewHospitalized': -6, 'NewDeaths': 0, 'Confirmed': 3037, 'Recovered': 2897, 'Hospitalized': 84, 'Deaths': 56}, {'Date': '05\\\\/22\\\\/2020', 'NewConfirmed': 0, 'NewRecovered': 13, 'NewHospitalized': -13, 'NewDeaths': 0, 'Confirmed': 3037, 'Recovered': 2910, 'Hospitalized': 71, 'Deaths': 56}, {'Date': '05\\\\/23\\\\/2020', 'NewConfirmed': 3, 'NewRecovered': 6, 'NewHospitalized': -3, 'NewDeaths': 0, 'Confirmed': 3040, 'Recovered': 2916, 'Hospitalized': 68, 'Deaths': 56}, {'Date': '05\\\\/24\\\\/2020', 'NewConfirmed': 0, 'NewRecovered': 5, 'NewHospitalized': -5, 'NewDeaths': 0, 'Confirmed': 3040, 'Recovered': 2921, 'Hospitalized': 63, 'Deaths': 56}, {'Date': '05\\\\/25\\\\/2020', 'NewConfirmed': 2, 'NewRecovered': 7, 'NewHospitalized': -6, 'NewDeaths': 1, 'Confirmed': 3042, 'Recovered': 2928, 'Hospitalized': 57, 'Deaths': 57}, {'Date': '05\\\\/26\\\\/2020', 'NewConfirmed': 3, 'NewRecovered': 1, 'NewHospitalized': 2, 'NewDeaths': 0, 'Confirmed': 3045, 'Recovered': 2929, 'Hospitalized': 59, 'Deaths': 57}, {'Date': '05\\\\/27\\\\/2020', 'NewConfirmed': 9, 'NewRecovered': 2, 'NewHospitalized': 7, 'NewDeaths': 0, 'Confirmed': 3054, 'Recovered': 2931, 'Hospitalized': 66, 'Deaths': 57}, {'Date': '05\\\\/28\\\\/2020', 'NewConfirmed': 11, 'NewRecovered': 14, 'NewHospitalized': -3, 'NewDeaths': 0, 'Confirmed': 3065, 'Recovered': 2945, 'Hospitalized': 63, 'Deaths': 57}, {'Date': '05\\\\/29\\\\/2020', 'NewConfirmed': 11, 'NewRecovered': 0, 'NewHospitalized': 11, 'NewDeaths': 0, 'Confirmed': 3076, 'Recovered': 2945, 'Hospitalized': 74, 'Deaths': 57}, {'Date': '05\\\\/30\\\\/2020', 'NewConfirmed': 1, 'NewRecovered': 16, 'NewHospitalized': -15, 'NewDeaths': 0, 'Confirmed': 3077, 'Recovered': 2961, 'Hospitalized': 59, 'Deaths': 57}, {'Date': '05\\\\/31\\\\/2020', 'NewConfirmed': 4, 'NewRecovered': 2, 'NewHospitalized': 2, 'NewDeaths': 0, 'Confirmed': 3081, 'Recovered': 2963, 'Hospitalized': 61, 'Deaths': 57}, {'Date': '06\\\\/01\\\\/2020', 'NewConfirmed': 1, 'NewRecovered': 2, 'NewHospitalized': -1, 'NewDeaths': 0, 'Confirmed': 3082, 'Recovered': 2965, 'Hospitalized': 60, 'Deaths': 57}, {'Date': '06\\\\/02\\\\/2020', 'NewConfirmed': 1, 'NewRecovered': 1, 'NewHospitalized': -1, 'NewDeaths': 1, 'Confirmed': 3083, 'Recovered': 2966, 'Hospitalized': 59, 'Deaths': 58}, {'Date': '06\\\\/03\\\\/2020', 'NewConfirmed': 1, 'NewRecovered': 2, 'NewHospitalized': -1, 'NewDeaths': 0, 'Confirmed': 3084, 'Recovered': 2968, 'Hospitalized': 58, 'Deaths': 58}, {'Date': '06\\\\/04\\\\/2020', 'NewConfirmed': 17, 'NewRecovered': 0, 'NewHospitalized': 17, 'NewDeaths': 0, 'Confirmed': 3101, 'Recovered': 2968, 'Hospitalized': 75, 'Deaths': 58}, {'Date': '06\\\\/05\\\\/2020', 'NewConfirmed': 1, 'NewRecovered': 3, 'NewHospitalized': -2, 'NewDeaths': 0, 'Confirmed': 3102, 'Recovered': 2971, 'Hospitalized': 73, 'Deaths': 58}, {'Date': '06\\\\/06\\\\/2020', 'NewConfirmed': 2, 'NewRecovered': 0, 'NewHospitalized': 2, 'NewDeaths': 0, 'Confirmed': 3104, 'Recovered': 2971, 'Hospitalized': 75, 'Deaths': 58}, {'Date': '06\\\\/07\\\\/2020', 'NewConfirmed': 8, 'NewRecovered': 1, 'NewHospitalized': 7, 'NewDeaths': 0, 'Confirmed': 3112, 'Recovered': 2972, 'Hospitalized': 82, 'Deaths': 58}, {'Date': '06\\\\/08\\\\/2020', 'NewConfirmed': 7, 'NewRecovered': 1, 'NewHospitalized': 6, 'NewDeaths': 0, 'Confirmed': 3119, 'Recovered': 2973, 'Hospitalized': 88, 'Deaths': 58}, {'Date': '06\\\\/09\\\\/2020', 'NewConfirmed': 2, 'NewRecovered': 0, 'NewHospitalized': 2, 'NewDeaths': 0, 'Confirmed': 3121, 'Recovered': 2973, 'Hospitalized': 90, 'Deaths': 58}, {'Date': '06\\\\/10\\\\/2020', 'NewConfirmed': 4, 'NewRecovered': 8, 'NewHospitalized': -4, 'NewDeaths': 0, 'Confirmed': 3125, 'Recovered': 2981, 'Hospitalized': 86, 'Deaths': 58}, {'Date': '06\\\\/11\\\\/2020', 'NewConfirmed': 0, 'NewRecovered': 6, 'NewHospitalized': -6, 'NewDeaths': 0, 'Confirmed': 3125, 'Recovered': 2987, 'Hospitalized': 80, 'Deaths': 58}, {'Date': '06\\\\/12\\\\/2020', 'NewConfirmed': 4, 'NewRecovered': 0, 'NewHospitalized': 4, 'NewDeaths': 0, 'Confirmed': 3129, 'Recovered': 2987, 'Hospitalized': 84, 'Deaths': 58}, {'Date': '06\\\\/13\\\\/2020', 'NewConfirmed': 5, 'NewRecovered': 0, 'NewHospitalized': 5, 'NewDeaths': 0, 'Confirmed': 3134, 'Recovered': 2987, 'Hospitalized': 89, 'Deaths': 58}, {'Date': '06\\\\/14\\\\/2020', 'NewConfirmed': 1, 'NewRecovered': 0, 'NewHospitalized': 1, 'NewDeaths': 0, 'Confirmed': 3135, 'Recovered': 2987, 'Hospitalized': 90, 'Deaths': 58}, {'Date': '06\\\\/15\\\\/2020', 'NewConfirmed': 0, 'NewRecovered': 0, 'NewHospitalized': 0, 'NewDeaths': 0, 'Confirmed': 3135, 'Recovered': 2987, 'Hospitalized': 90, 'Deaths': 58}, {'Date': '06\\\\/16\\\\/2020', 'NewConfirmed': 0, 'NewRecovered': 6, 'NewHospitalized': -6, 'NewDeaths': 0, 'Confirmed': 3135, 'Recovered': 2993, 'Hospitalized': 84, 'Deaths': 58}, {'Date': '06\\\\/17\\\\/2020', 'NewConfirmed': 0, 'NewRecovered': 3, 'NewHospitalized': -3, 'NewDeaths': 0, 'Confirmed': 3135, 'Recovered': 2996, 'Hospitalized': 81, 'Deaths': 58}, {'Date': '06\\\\/18\\\\/2020', 'NewConfirmed': 6, 'NewRecovered': 1, 'NewHospitalized': 5, 'NewDeaths': 0, 'Confirmed': 3141, 'Recovered': 2997, 'Hospitalized': 86, 'Deaths': 58}, {'Date': '06\\\\/19\\\\/2020', 'NewConfirmed': 5, 'NewRecovered': 11, 'NewHospitalized': -6, 'NewDeaths': 0, 'Confirmed': 3146, 'Recovered': 3008, 'Hospitalized': 80, 'Deaths': 58}, {'Date': '06\\\\/20\\\\/2020', 'NewConfirmed': 1, 'NewRecovered': 10, 'NewHospitalized': -9, 'NewDeaths': 0, 'Confirmed': 3147, 'Recovered': 3018, 'Hospitalized': 71, 'Deaths': 58}, {'Date': '06\\\\/21\\\\/2020', 'NewConfirmed': 1, 'NewRecovered': 0, 'NewHospitalized': 1, 'NewDeaths': 0, 'Confirmed': 3148, 'Recovered': 3018, 'Hospitalized': 72, 'Deaths': 58}, {'Date': '06\\\\/22\\\\/2020', 'NewConfirmed': 3, 'NewRecovered': 4, 'NewHospitalized': -1, 'NewDeaths': 0, 'Confirmed': 3151, 'Recovered': 3022, 'Hospitalized': 71, 'Deaths': 58}, {'Date': '06\\\\/23\\\\/2020', 'NewConfirmed': 5, 'NewRecovered': 1, 'NewHospitalized': 4, 'NewDeaths': 0, 'Confirmed': 3156, 'Recovered': 3023, 'Hospitalized': 75, 'Deaths': 58}, {'Date': '06\\\\/24\\\\/2020', 'NewConfirmed': 1, 'NewRecovered': 3, 'NewHospitalized': -2, 'NewDeaths': 0, 'Confirmed': 3157, 'Recovered': 3026, 'Hospitalized': 73, 'Deaths': 58}, {'Date': '06\\\\/25\\\\/2020', 'NewConfirmed': 1, 'NewRecovered': 12, 'NewHospitalized': -11, 'NewDeaths': 0, 'Confirmed': 3158, 'Recovered': 3038, 'Hospitalized': 62, 'Deaths': 58}, {'Date': '06\\\\/26\\\\/2020', 'NewConfirmed': 4, 'NewRecovered': 2, 'NewHospitalized': 2, 'NewDeaths': 0, 'Confirmed': 3162, 'Recovered': 3040, 'Hospitalized': 64, 'Deaths': 58}, {'Date': '06\\\\/27\\\\/2020', 'NewConfirmed': 0, 'NewRecovered': 13, 'NewHospitalized': -13, 'NewDeaths': 0, 'Confirmed': 3162, 'Recovered': 3053, 'Hospitalized': 51, 'Deaths': 58}, {'Date': '06\\\\/28\\\\/2020', 'NewConfirmed': 0, 'NewRecovered': 0, 'NewHospitalized': 0, 'NewDeaths': 0, 'Confirmed': 3162, 'Recovered': 3053, 'Hospitalized': 51, 'Deaths': 58}, {'Date': '06\\\\/29\\\\/2020', 'NewConfirmed': 7, 'NewRecovered': 0, 'NewHospitalized': 7, 'NewDeaths': 0, 'Confirmed': 3169, 'Recovered': 3053, 'Hospitalized': 58, 'Deaths': 58}, {'Date': '06\\\\/30\\\\/2020', 'NewConfirmed': 2, 'NewRecovered': 3, 'NewHospitalized': -1, 'NewDeaths': 0, 'Confirmed': 3171, 'Recovered': 3056, 'Hospitalized': 57, 'Deaths': 58}, {'Date': '07\\\\/01\\\\/2020', 'NewConfirmed': 2, 'NewRecovered': 3, 'NewHospitalized': -1, 'NewDeaths': 0, 'Confirmed': 3173, 'Recovered': 3059, 'Hospitalized': 56, 'Deaths': 58}, {'Date': '07\\\\/02\\\\/2020', 'NewConfirmed': 6, 'NewRecovered': 0, 'NewHospitalized': 6, 'NewDeaths': 0, 'Confirmed': 3179, 'Recovered': 3059, 'Hospitalized': 62, 'Deaths': 58}, {'Date': '07\\\\/03\\\\/2020', 'NewConfirmed': 1, 'NewRecovered': 7, 'NewHospitalized': -6, 'NewDeaths': 0, 'Confirmed': 3180, 'Recovered': 3066, 'Hospitalized': 56, 'Deaths': 58}, {'Date': '07\\\\/04\\\\/2020', 'NewConfirmed': 5, 'NewRecovered': 0, 'NewHospitalized': 5, 'NewDeaths': 0, 'Confirmed': 3185, 'Recovered': 3066, 'Hospitalized': 61, 'Deaths': 58}, {'Date': '07\\\\/05\\\\/2020', 'NewConfirmed': 5, 'NewRecovered': 5, 'NewHospitalized': 0, 'NewDeaths': 0, 'Confirmed': 3190, 'Recovered': 3071, 'Hospitalized': 61, 'Deaths': 58}, {'Date': '07\\\\/06\\\\/2020', 'NewConfirmed': 5, 'NewRecovered': 1, 'NewHospitalized': 4, 'NewDeaths': 0, 'Confirmed': 3195, 'Recovered': 3072, 'Hospitalized': 65, 'Deaths': 58}, {'Date': '07\\\\/07\\\\/2020', 'NewConfirmed': 0, 'NewRecovered': 0, 'NewHospitalized': 0, 'NewDeaths': 0, 'Confirmed': 3195, 'Recovered': 3072, 'Hospitalized': 65, 'Deaths': 58}, {'Date': '07\\\\/08\\\\/2020', 'NewConfirmed': 2, 'NewRecovered': 2, 'NewHospitalized': 0, 'NewDeaths': 0, 'Confirmed': 3197, 'Recovered': 3074, 'Hospitalized': 65, 'Deaths': 58}, {'Date': '07\\\\/09\\\\/2020', 'NewConfirmed': 5, 'NewRecovered': 11, 'NewHospitalized': -6, 'NewDeaths': 0, 'Confirmed': 3202, 'Recovered': 3085, 'Hospitalized': 59, 'Deaths': 58}, {'Date': '07\\\\/10\\\\/2020', 'NewConfirmed': 0, 'NewRecovered': 2, 'NewHospitalized': -2, 'NewDeaths': 0, 'Confirmed': 3202, 'Recovered': 3087, 'Hospitalized': 57, 'Deaths': 58}, {'Date': '07\\\\/11\\\\/2020', 'NewConfirmed': 14, 'NewRecovered': 1, 'NewHospitalized': 13, 'NewDeaths': 0, 'Confirmed': 3216, 'Recovered': 3088, 'Hospitalized': 70, 'Deaths': 58}, {'Date': '07\\\\/12\\\\/2020', 'NewConfirmed': 1, 'NewRecovered': 0, 'NewHospitalized': 1, 'NewDeaths': 0, 'Confirmed': 3217, 'Recovered': 3088, 'Hospitalized': 71, 'Deaths': 58}, {'Date': '07\\\\/13\\\\/2020', 'NewConfirmed': 3, 'NewRecovered': 2, 'NewHospitalized': 1, 'NewDeaths': 0, 'Confirmed': 3220, 'Recovered': 3090, 'Hospitalized': 72, 'Deaths': 58}, {'Date': '07\\\\/14\\\\/2020', 'NewConfirmed': 7, 'NewRecovered': 1, 'NewHospitalized': 6, 'NewDeaths': 0, 'Confirmed': 3227, 'Recovered': 3091, 'Hospitalized': 78, 'Deaths': 58}, {'Date': '07\\\\/15\\\\/2020', 'NewConfirmed': 5, 'NewRecovered': 1, 'NewHospitalized': 4, 'NewDeaths': 0, 'Confirmed': 3232, 'Recovered': 3092, 'Hospitalized': 82, 'Deaths': 58}, {'Date': '07\\\\/16\\\\/2020', 'NewConfirmed': 4, 'NewRecovered': 3, 'NewHospitalized': 1, 'NewDeaths': 0, 'Confirmed': 3236, 'Recovered': 3095, 'Hospitalized': 83, 'Deaths': 58}, {'Date': '07\\\\/17\\\\/2020', 'NewConfirmed': 3, 'NewRecovered': 1, 'NewHospitalized': 2, 'NewDeaths': 0, 'Confirmed': 3239, 'Recovered': 3096, 'Hospitalized': 85, 'Deaths': 58}, {'Date': '07\\\\/18\\\\/2020', 'NewConfirmed': 7, 'NewRecovered': 0, 'NewHospitalized': 7, 'NewDeaths': 0, 'Confirmed': 3246, 'Recovered': 3096, 'Hospitalized': 92, 'Deaths': 58}, {'Date': '07\\\\/19\\\\/2020', 'NewConfirmed': 3, 'NewRecovered': 0, 'NewHospitalized': 3, 'NewDeaths': 0, 'Confirmed': 3249, 'Recovered': 3096, 'Hospitalized': 95, 'Deaths': 58}, {'Date': '07\\\\/20\\\\/2020', 'NewConfirmed': 1, 'NewRecovered': 0, 'NewHospitalized': 1, 'NewDeaths': 0, 'Confirmed': 3250, 'Recovered': 3096, 'Hospitalized': 96, 'Deaths': 58}, {'Date': '07\\\\/21\\\\/2020', 'NewConfirmed': 5, 'NewRecovered': 9, 'NewHospitalized': -4, 'NewDeaths': 0, 'Confirmed': 3255, 'Recovered': 3105, 'Hospitalized': 92, 'Deaths': 58}, {'Date': '07\\\\/22\\\\/2020', 'NewConfirmed': 6, 'NewRecovered': 0, 'NewHospitalized': 6, 'NewDeaths': 0, 'Confirmed': 3261, 'Recovered': 3105, 'Hospitalized': 98, 'Deaths': 58}, {'Date': '07\\\\/23\\\\/2020', 'NewConfirmed': 8, 'NewRecovered': 0, 'NewHospitalized': 8, 'NewDeaths': 0, 'Confirmed': 3269, 'Recovered': 3105, 'Hospitalized': 106, 'Deaths': 58}, {'Date': '07\\\\/24\\\\/2020', 'NewConfirmed': 10, 'NewRecovered': 2, 'NewHospitalized': 8, 'NewDeaths': 0, 'Confirmed': 3279, 'Recovered': 3107, 'Hospitalized': 114, 'Deaths': 58}, {'Date': '07\\\\/25\\\\/2020', 'NewConfirmed': 3, 'NewRecovered': 2, 'NewHospitalized': 1, 'NewDeaths': 0, 'Confirmed': 3282, 'Recovered': 3109, 'Hospitalized': 115, 'Deaths': 58}, {'Date': '07\\\\/26\\\\/2020', 'NewConfirmed': 9, 'NewRecovered': 0, 'NewHospitalized': 9, 'NewDeaths': 0, 'Confirmed': 3291, 'Recovered': 3109, 'Hospitalized': 124, 'Deaths': 58}, {'Date': '07\\\\/27\\\\/2020', 'NewConfirmed': 4, 'NewRecovered': 2, 'NewHospitalized': 2, 'NewDeaths': 0, 'Confirmed': 3295, 'Recovered': 3111, 'Hospitalized': 126, 'Deaths': 58}, {'Date': '07\\\\/28\\\\/2020', 'NewConfirmed': 2, 'NewRecovered': 0, 'NewHospitalized': 2, 'NewDeaths': 0, 'Confirmed': 3297, 'Recovered': 3111, 'Hospitalized': 128, 'Deaths': 58}, {'Date': '07\\\\/29\\\\/2020', 'NewConfirmed': 1, 'NewRecovered': 0, 'NewHospitalized': 1, 'NewDeaths': 0, 'Confirmed': 3298, 'Recovered': 3111, 'Hospitalized': 129, 'Deaths': 58}, {'Date': '07\\\\/30\\\\/2020', 'NewConfirmed': 6, 'NewRecovered': 0, 'NewHospitalized': 6, 'NewDeaths': 0, 'Confirmed': 3304, 'Recovered': 3111, 'Hospitalized': 135, 'Deaths': 58}, {'Date': '07\\\\/31\\\\/2020', 'NewConfirmed': 6, 'NewRecovered': 14, 'NewHospitalized': -8, 'NewDeaths': 0, 'Confirmed': 3310, 'Recovered': 3125, 'Hospitalized': 127, 'Deaths': 58}, {'Date': '08\\\\/01\\\\/2020', 'NewConfirmed': 2, 'NewRecovered': 10, 'NewHospitalized': -8, 'NewDeaths': 0, 'Confirmed': 3312, 'Recovered': 3135, 'Hospitalized': 119, 'Deaths': 58}, {'Date': '08\\\\/02\\\\/2020', 'NewConfirmed': 5, 'NewRecovered': 7, 'NewHospitalized': -2, 'NewDeaths': 0, 'Confirmed': 3317, 'Recovered': 3142, 'Hospitalized': 117, 'Deaths': 58}, {'Date': '08\\\\/03\\\\/2020', 'NewConfirmed': 3, 'NewRecovered': 0, 'NewHospitalized': 3, 'NewDeaths': 0, 'Confirmed': 3320, 'Recovered': 3142, 'Hospitalized': 120, 'Deaths': 58}, {'Date': '08\\\\/04\\\\/2020', 'NewConfirmed': 1, 'NewRecovered': 0, 'NewHospitalized': 1, 'NewDeaths': 0, 'Confirmed': 3321, 'Recovered': 3142, 'Hospitalized': 121, 'Deaths': 58}, {'Date': '08\\\\/05\\\\/2020', 'NewConfirmed': 7, 'NewRecovered': 2, 'NewHospitalized': 5, 'NewDeaths': 0, 'Confirmed': 3328, 'Recovered': 3144, 'Hospitalized': 126, 'Deaths': 58}, {'Date': '08\\\\/06\\\\/2020', 'NewConfirmed': 2, 'NewRecovered': 4, 'NewHospitalized': -2, 'NewDeaths': 0, 'Confirmed': 3330, 'Recovered': 3148, 'Hospitalized': 124, 'Deaths': 58}, {'Date': '08\\\\/07\\\\/2020', 'NewConfirmed': 15, 'NewRecovered': 0, 'NewHospitalized': 15, 'NewDeaths': 0, 'Confirmed': 3345, 'Recovered': 3148, 'Hospitalized': 139, 'Deaths': 58}, {'Date': '08\\\\/08\\\\/2020', 'NewConfirmed': 3, 'NewRecovered': 2, 'NewHospitalized': 1, 'NewDeaths': 0, 'Confirmed': 3348, 'Recovered': 3150, 'Hospitalized': 140, 'Deaths': 58}, {'Date': '08\\\\/09\\\\/2020', 'NewConfirmed': 3, 'NewRecovered': 1, 'NewHospitalized': 2, 'NewDeaths': 0, 'Confirmed': 3351, 'Recovered': 3151, 'Hospitalized': 142, 'Deaths': 58}, {'Date': '08\\\\/10\\\\/2020', 'NewConfirmed': 0, 'NewRecovered': 9, 'NewHospitalized': -9, 'NewDeaths': 0, 'Confirmed': 3351, 'Recovered': 3160, 'Hospitalized': 133, 'Deaths': 58}, {'Date': '08\\\\/11\\\\/2020', 'NewConfirmed': 0, 'NewRecovered': 3, 'NewHospitalized': -3, 'NewDeaths': 0, 'Confirmed': 3351, 'Recovered': 3163, 'Hospitalized': 130, 'Deaths': 58}, {'Date': '08\\\\/12\\\\/2020', 'NewConfirmed': 5, 'NewRecovered': 6, 'NewHospitalized': -1, 'NewDeaths': 0, 'Confirmed': 3356, 'Recovered': 3169, 'Hospitalized': 129, 'Deaths': 58}, {'Date': '08\\\\/13\\\\/2020', 'NewConfirmed': 3, 'NewRecovered': 0, 'NewHospitalized': 3, 'NewDeaths': 0, 'Confirmed': 3359, 'Recovered': 3169, 'Hospitalized': 132, 'Deaths': 58}, {'Date': '08\\\\/14\\\\/2020', 'NewConfirmed': 17, 'NewRecovered': 4, 'NewHospitalized': 13, 'NewDeaths': 0, 'Confirmed': 3376, 'Recovered': 3173, 'Hospitalized': 145, 'Deaths': 58}, {'Date': '08\\\\/15\\\\/2020', 'NewConfirmed': 0, 'NewRecovered': 20, 'NewHospitalized': -20, 'NewDeaths': 0, 'Confirmed': 3376, 'Recovered': 3193, 'Hospitalized': 125, 'Deaths': 58}, {'Date': '08\\\\/16\\\\/2020', 'NewConfirmed': 1, 'NewRecovered': 1, 'NewHospitalized': 0, 'NewDeaths': 0, 'Confirmed': 3377, 'Recovered': 3194, 'Hospitalized': 125, 'Deaths': 58}, {'Date': '08\\\\/17\\\\/2020', 'NewConfirmed': 1, 'NewRecovered': 0, 'NewHospitalized': 1, 'NewDeaths': 0, 'Confirmed': 3378, 'Recovered': 3194, 'Hospitalized': 126, 'Deaths': 58}, {'Date': '08\\\\/18\\\\/2020', 'NewConfirmed': 3, 'NewRecovered': 4, 'NewHospitalized': -1, 'NewDeaths': 0, 'Confirmed': 3381, 'Recovered': 3198, 'Hospitalized': 125, 'Deaths': 58}, {'Date': '08\\\\/19\\\\/2020', 'NewConfirmed': 1, 'NewRecovered': 1, 'NewHospitalized': 0, 'NewDeaths': 0, 'Confirmed': 3382, 'Recovered': 3199, 'Hospitalized': 125, 'Deaths': 58}, {'Date': '08\\\\/20\\\\/2020', 'NewConfirmed': 7, 'NewRecovered': 19, 'NewHospitalized': -12, 'NewDeaths': 0, 'Confirmed': 3389, 'Recovered': 3218, 'Hospitalized': 113, 'Deaths': 58}, {'Date': '08\\\\/21\\\\/2020', 'NewConfirmed': 1, 'NewRecovered': 1, 'NewHospitalized': 0, 'NewDeaths': 0, 'Confirmed': 3390, 'Recovered': 3219, 'Hospitalized': 113, 'Deaths': 58}, {'Date': '08\\\\/22\\\\/2020', 'NewConfirmed': 0, 'NewRecovered': 1, 'NewHospitalized': -1, 'NewDeaths': 0, 'Confirmed': 3390, 'Recovered': 3220, 'Hospitalized': 112, 'Deaths': 58}, {'Date': '08\\\\/23\\\\/2020', 'NewConfirmed': 5, 'NewRecovered': 1, 'NewHospitalized': 4, 'NewDeaths': 0, 'Confirmed': 3395, 'Recovered': 3221, 'Hospitalized': 116, 'Deaths': 58}, {'Date': '08\\\\/24\\\\/2020', 'NewConfirmed': 2, 'NewRecovered': 1, 'NewHospitalized': 1, 'NewDeaths': 0, 'Confirmed': 3397, 'Recovered': 3222, 'Hospitalized': 117, 'Deaths': 58}, {'Date': '08\\\\/25\\\\/2020', 'NewConfirmed': 5, 'NewRecovered': 7, 'NewHospitalized': -2, 'NewDeaths': 0, 'Confirmed': 3402, 'Recovered': 3229, 'Hospitalized': 115, 'Deaths': 58}, {'Date': '08\\\\/26\\\\/2020', 'NewConfirmed': 1, 'NewRecovered': 8, 'NewHospitalized': -7, 'NewDeaths': 0, 'Confirmed': 3403, 'Recovered': 3237, 'Hospitalized': 108, 'Deaths': 58}, {'Date': '08\\\\/27\\\\/2020', 'NewConfirmed': 1, 'NewRecovered': 0, 'NewHospitalized': 1, 'NewDeaths': 0, 'Confirmed': 3404, 'Recovered': 3237, 'Hospitalized': 109, 'Deaths': 58}, {'Date': '08\\\\/28\\\\/2020', 'NewConfirmed': 6, 'NewRecovered': 0, 'NewHospitalized': 6, 'NewDeaths': 0, 'Confirmed': 3410, 'Recovered': 3237, 'Hospitalized': 115, 'Deaths': 58}, {'Date': '08\\\\/29\\\\/2020', 'NewConfirmed': 1, 'NewRecovered': 5, 'NewHospitalized': -4, 'NewDeaths': 0, 'Confirmed': 3411, 'Recovered': 3242, 'Hospitalized': 111, 'Deaths': 58}, {'Date': '08\\\\/30\\\\/2020', 'NewConfirmed': 0, 'NewRecovered': 10, 'NewHospitalized': -10, 'NewDeaths': 0, 'Confirmed': 3411, 'Recovered': 3252, 'Hospitalized': 101, 'Deaths': 58}, {'Date': '08\\\\/31\\\\/2020', 'NewConfirmed': 1, 'NewRecovered': 0, 'NewHospitalized': 1, 'NewDeaths': 0, 'Confirmed': 3412, 'Recovered': 3252, 'Hospitalized': 102, 'Deaths': 58}, {'Date': '09\\\\/01\\\\/2020', 'NewConfirmed': 5, 'NewRecovered': 22, 'NewHospitalized': -17, 'NewDeaths': 0, 'Confirmed': 3417, 'Recovered': 3274, 'Hospitalized': 85, 'Deaths': 58}, {'Date': '09\\\\/02\\\\/2020', 'NewConfirmed': 8, 'NewRecovered': 0, 'NewHospitalized': 8, 'NewDeaths': 0, 'Confirmed': 3425, 'Recovered': 3274, 'Hospitalized': 93, 'Deaths': 58}, {'Date': '09\\\\/03\\\\/2020', 'NewConfirmed': 2, 'NewRecovered': 3, 'NewHospitalized': -1, 'NewDeaths': 0, 'Confirmed': 3427, 'Recovered': 3277, 'Hospitalized': 92, 'Deaths': 58}, {'Date': '09\\\\/04\\\\/2020', 'NewConfirmed': 4, 'NewRecovered': 0, 'NewHospitalized': 4, 'NewDeaths': 0, 'Confirmed': 3431, 'Recovered': 3277, 'Hospitalized': 96, 'Deaths': 58}, {'Date': '09\\\\/05\\\\/2020', 'NewConfirmed': 7, 'NewRecovered': 2, 'NewHospitalized': 5, 'NewDeaths': 0, 'Confirmed': 3438, 'Recovered': 3279, 'Hospitalized': 101, 'Deaths': 58}, {'Date': '09\\\\/06\\\\/2020', 'NewConfirmed': 6, 'NewRecovered': 2, 'NewHospitalized': 4, 'NewDeaths': 0, 'Confirmed': 3444, 'Recovered': 3281, 'Hospitalized': 105, 'Deaths': 58}, {'Date': '09\\\\/07\\\\/2020', 'NewConfirmed': 1, 'NewRecovered': 0, 'NewHospitalized': 1, 'NewDeaths': 0, 'Confirmed': 3445, 'Recovered': 3281, 'Hospitalized': 106, 'Deaths': 58}, {'Date': '09\\\\/08\\\\/2020', 'NewConfirmed': 1, 'NewRecovered': 3, 'NewHospitalized': -2, 'NewDeaths': 0, 'Confirmed': 3446, 'Recovered': 3284, 'Hospitalized': 104, 'Deaths': 58}, {'Date': '09\\\\/09\\\\/2020', 'NewConfirmed': 1, 'NewRecovered': 2, 'NewHospitalized': -1, 'NewDeaths': 0, 'Confirmed': 3447, 'Recovered': 3286, 'Hospitalized': 103, 'Deaths': 58}, {'Date': '09\\\\/10\\\\/2020', 'NewConfirmed': 7, 'NewRecovered': 24, 'NewHospitalized': -17, 'NewDeaths': 0, 'Confirmed': 3454, 'Recovered': 3310, 'Hospitalized': 86, 'Deaths': 58}, {'Date': '09\\\\/11\\\\/2020', 'NewConfirmed': 7, 'NewRecovered': 2, 'NewHospitalized': 5, 'NewDeaths': 0, 'Confirmed': 3461, 'Recovered': 3312, 'Hospitalized': 91, 'Deaths': 58}, {'Date': '09\\\\/12\\\\/2020', 'NewConfirmed': 5, 'NewRecovered': 0, 'NewHospitalized': 5, 'NewDeaths': 0, 'Confirmed': 3466, 'Recovered': 3312, 'Hospitalized': 96, 'Deaths': 58}, {'Date': '09\\\\/13\\\\/2020', 'NewConfirmed': 7, 'NewRecovered': 0, 'NewHospitalized': 7, 'NewDeaths': 0, 'Confirmed': 3473, 'Recovered': 3312, 'Hospitalized': 103, 'Deaths': 58}, {'Date': '09\\\\/14\\\\/2020', 'NewConfirmed': 2, 'NewRecovered': 0, 'NewHospitalized': 2, 'NewDeaths': 0, 'Confirmed': 3475, 'Recovered': 3312, 'Hospitalized': 105, 'Deaths': 58}, {'Date': '09\\\\/15\\\\/2020', 'NewConfirmed': 5, 'NewRecovered': 3, 'NewHospitalized': 2, 'NewDeaths': 0, 'Confirmed': 3480, 'Recovered': 3315, 'Hospitalized': 107, 'Deaths': 58}, {'Date': '09\\\\/16\\\\/2020', 'NewConfirmed': 10, 'NewRecovered': 1, 'NewHospitalized': 9, 'NewDeaths': 0, 'Confirmed': 3490, 'Recovered': 3316, 'Hospitalized': 116, 'Deaths': 58}, {'Date': '09\\\\/17\\\\/2020', 'NewConfirmed': 0, 'NewRecovered': 9, 'NewHospitalized': -9, 'NewDeaths': 0, 'Confirmed': 3490, 'Recovered': 3325, 'Hospitalized': 107, 'Deaths': 58}, {'Date': '09\\\\/18\\\\/2020', 'NewConfirmed': 7, 'NewRecovered': 3, 'NewHospitalized': 4, 'NewDeaths': 0, 'Confirmed': 3497, 'Recovered': 3328, 'Hospitalized': 111, 'Deaths': 58}, {'Date': '09\\\\/19\\\\/2020', 'NewConfirmed': 3, 'NewRecovered': 10, 'NewHospitalized': -8, 'NewDeaths': 1, 'Confirmed': 3500, 'Recovered': 3338, 'Hospitalized': 103, 'Deaths': 59}, {'Date': '09\\\\/20\\\\/2020', 'NewConfirmed': 6, 'NewRecovered': 4, 'NewHospitalized': 2, 'NewDeaths': 0, 'Confirmed': 3506, 'Recovered': 3342, 'Hospitalized': 105, 'Deaths': 59}, {'Date': '09\\\\/22\\\\/2020', 'NewConfirmed': 5, 'NewRecovered': 1, 'NewHospitalized': 4, 'NewDeaths': 0, 'Confirmed': 3511, 'Recovered': 3343, 'Hospitalized': 109, 'Deaths': 59}, {'Date': '09\\\\/23\\\\/2020', 'NewConfirmed': 3, 'NewRecovered': 2, 'NewHospitalized': 1, 'NewDeaths': 0, 'Confirmed': 3514, 'Recovered': 3345, 'Hospitalized': 110, 'Deaths': 59}, {'Date': '09\\\\/24\\\\/2020', 'NewConfirmed': 2, 'NewRecovered': 8, 'NewHospitalized': -6, 'NewDeaths': 0, 'Confirmed': 3516, 'Recovered': 3353, 'Hospitalized': 104, 'Deaths': 59}, {'Date': '09\\\\/25\\\\/2020', 'NewConfirmed': 3, 'NewRecovered': 7, 'NewHospitalized': -4, 'NewDeaths': 0, 'Confirmed': 3519, 'Recovered': 3360, 'Hospitalized': 100, 'Deaths': 59}, {'Date': '09\\\\/26\\\\/2020', 'NewConfirmed': 3, 'NewRecovered': 2, 'NewHospitalized': 1, 'NewDeaths': 0, 'Confirmed': 3522, 'Recovered': 3362, 'Hospitalized': 101, 'Deaths': 59}, {'Date': '09\\\\/27\\\\/2020', 'NewConfirmed': 1, 'NewRecovered': 5, 'NewHospitalized': -4, 'NewDeaths': 0, 'Confirmed': 3523, 'Recovered': 3367, 'Hospitalized': 97, 'Deaths': 59}, {'Date': '09\\\\/28\\\\/2020', 'NewConfirmed': 22, 'NewRecovered': 2, 'NewHospitalized': 20, 'NewDeaths': 0, 'Confirmed': 3545, 'Recovered': 3369, 'Hospitalized': 117, 'Deaths': 59}, {'Date': '09\\\\/29\\\\/2020', 'NewConfirmed': 14, 'NewRecovered': 1, 'NewHospitalized': 13, 'NewDeaths': 0, 'Confirmed': 3559, 'Recovered': 3370, 'Hospitalized': 130, 'Deaths': 59}, {'Date': '09\\\\/30\\\\/2020', 'NewConfirmed': 5, 'NewRecovered': 4, 'NewHospitalized': 1, 'NewDeaths': 0, 'Confirmed': 3564, 'Recovered': 3374, 'Hospitalized': 131, 'Deaths': 59}, {'Date': '10\\\\/01\\\\/2020', 'NewConfirmed': 5, 'NewRecovered': 5, 'NewHospitalized': 0, 'NewDeaths': 0, 'Confirmed': 3569, 'Recovered': 3379, 'Hospitalized': 131, 'Deaths': 59}, {'Date': '10\\\\/02\\\\/2020', 'NewConfirmed': 6, 'NewRecovered': 5, 'NewHospitalized': 1, 'NewDeaths': 0, 'Confirmed': 3575, 'Recovered': 3384, 'Hospitalized': 132, 'Deaths': 59}, {'Date': '10\\\\/03\\\\/2020', 'NewConfirmed': 8, 'NewRecovered': 2, 'NewHospitalized': 6, 'NewDeaths': 0, 'Confirmed': 3583, 'Recovered': 3386, 'Hospitalized': 138, 'Deaths': 59}, {'Date': '10\\\\/04\\\\/2020', 'NewConfirmed': 2, 'NewRecovered': 2, 'NewHospitalized': 0, 'NewDeaths': 0, 'Confirmed': 3585, 'Recovered': 3388, 'Hospitalized': 138, 'Deaths': 59}, {'Date': '10\\\\/05\\\\/2020', 'NewConfirmed': 5, 'NewRecovered': 2, 'NewHospitalized': 3, 'NewDeaths': 0, 'Confirmed': 3590, 'Recovered': 3390, 'Hospitalized': 141, 'Deaths': 59}, {'Date': '10\\\\/06\\\\/2020', 'NewConfirmed': 10, 'NewRecovered': 0, 'NewHospitalized': 10, 'NewDeaths': 0, 'Confirmed': 3600, 'Recovered': 3390, 'Hospitalized': 151, 'Deaths': 59}, {'Date': '10\\\\/07\\\\/2020', 'NewConfirmed': 15, 'NewRecovered': 1, 'NewHospitalized': 14, 'NewDeaths': 0, 'Confirmed': 3615, 'Recovered': 3391, 'Hospitalized': 165, 'Deaths': 59}, {'Date': '10\\\\/08\\\\/2020', 'NewConfirmed': 7, 'NewRecovered': 48, 'NewHospitalized': -41, 'NewDeaths': 0, 'Confirmed': 3622, 'Recovered': 3439, 'Hospitalized': 124, 'Deaths': 59}, {'Date': '10\\\\/09\\\\/2020', 'NewConfirmed': 6, 'NewRecovered': 2, 'NewHospitalized': 4, 'NewDeaths': 0, 'Confirmed': 3628, 'Recovered': 3441, 'Hospitalized': 128, 'Deaths': 59}, {'Date': '10\\\\/10\\\\/2020', 'NewConfirmed': 6, 'NewRecovered': 4, 'NewHospitalized': 2, 'NewDeaths': 0, 'Confirmed': 3634, 'Recovered': 3445, 'Hospitalized': 130, 'Deaths': 59}, {'Date': '10\\\\/11\\\\/2020', 'NewConfirmed': 2, 'NewRecovered': 0, 'NewHospitalized': 2, 'NewDeaths': 0, 'Confirmed': 3636, 'Recovered': 3445, 'Hospitalized': 132, 'Deaths': 59}, {'Date': '10\\\\/12\\\\/2020', 'NewConfirmed': 5, 'NewRecovered': 9, 'NewHospitalized': -4, 'NewDeaths': 0, 'Confirmed': 3641, 'Recovered': 3454, 'Hospitalized': 128, 'Deaths': 59}, {'Date': '10\\\\/13\\\\/2020', 'NewConfirmed': 2, 'NewRecovered': 3, 'NewHospitalized': -1, 'NewDeaths': 0, 'Confirmed': 3643, 'Recovered': 3457, 'Hospitalized': 127, 'Deaths': 59}, {'Date': '10\\\\/14\\\\/2020', 'NewConfirmed': 9, 'NewRecovered': 0, 'NewHospitalized': 9, 'NewDeaths': 0, 'Confirmed': 3652, 'Recovered': 3457, 'Hospitalized': 136, 'Deaths': 59}, {'Date': '10\\\\/15\\\\/2020', 'NewConfirmed': 13, 'NewRecovered': 6, 'NewHospitalized': 7, 'NewDeaths': 0, 'Confirmed': 3665, 'Recovered': 3463, 'Hospitalized': 143, 'Deaths': 59}, {'Date': '10\\\\/17\\\\/2020', 'NewConfirmed': 10, 'NewRecovered': 11, 'NewHospitalized': -1, 'NewDeaths': 0, 'Confirmed': 3675, 'Recovered': 3474, 'Hospitalized': 142, 'Deaths': 59}, {'Date': '10\\\\/16\\\\/2020', 'NewConfirmed': 4, 'NewRecovered': 4, 'NewHospitalized': 0, 'NewDeaths': 0, 'Confirmed': 3679, 'Recovered': 3478, 'Hospitalized': 142, 'Deaths': 59}, {'Date': '10\\\\/18\\\\/2020', 'NewConfirmed': 7, 'NewRecovered': 3, 'NewHospitalized': 4, 'NewDeaths': 0, 'Confirmed': 3686, 'Recovered': 3481, 'Hospitalized': 146, 'Deaths': 59}, {'Date': '10\\\\/19\\\\/2020', 'NewConfirmed': 5, 'NewRecovered': 7, 'NewHospitalized': -2, 'NewDeaths': 0, 'Confirmed': 3691, 'Recovered': 3488, 'Hospitalized': 144, 'Deaths': 59}, {'Date': '10\\\\/20\\\\/2020', 'NewConfirmed': 9, 'NewRecovered': 3, 'NewHospitalized': 6, 'NewDeaths': 0, 'Confirmed': 3700, 'Recovered': 3491, 'Hospitalized': 150, 'Deaths': 59}, {'Date': '10\\\\/21\\\\/2020', 'NewConfirmed': 9, 'NewRecovered': 4, 'NewHospitalized': 5, 'NewDeaths': 0, 'Confirmed': 3709, 'Recovered': 3495, 'Hospitalized': 155, 'Deaths': 59}, {'Date': '10\\\\/22\\\\/2020', 'NewConfirmed': 10, 'NewRecovered': 19, 'NewHospitalized': -9, 'NewDeaths': 0, 'Confirmed': 3719, 'Recovered': 3514, 'Hospitalized': 146, 'Deaths': 59}, {'Date': '10\\\\/23\\\\/2020', 'NewConfirmed': 8, 'NewRecovered': 4, 'NewHospitalized': 4, 'NewDeaths': 0, 'Confirmed': 3727, 'Recovered': 3518, 'Hospitalized': 150, 'Deaths': 59}, {'Date': '10\\\\/24\\\\/2020', 'NewConfirmed': 4, 'NewRecovered': 11, 'NewHospitalized': -7, 'NewDeaths': 0, 'Confirmed': 3731, 'Recovered': 3529, 'Hospitalized': 143, 'Deaths': 59}, {'Date': '10\\\\/25\\\\/2020', 'NewConfirmed': 5, 'NewRecovered': 1, 'NewHospitalized': 4, 'NewDeaths': 0, 'Confirmed': 3736, 'Recovered': 3530, 'Hospitalized': 147, 'Deaths': 59}, {'Date': '10\\\\/26\\\\/2020', 'NewConfirmed': 7, 'NewRecovered': 13, 'NewHospitalized': -6, 'NewDeaths': 0, 'Confirmed': 3743, 'Recovered': 3543, 'Hospitalized': 141, 'Deaths': 59}, {'Date': '10\\\\/27\\\\/2020', 'NewConfirmed': 3, 'NewRecovered': 8, 'NewHospitalized': -5, 'NewDeaths': 0, 'Confirmed': 3746, 'Recovered': 3551, 'Hospitalized': 136, 'Deaths': 59}, {'Date': '10\\\\/28\\\\/2020', 'NewConfirmed': 13, 'NewRecovered': 10, 'NewHospitalized': 3, 'NewDeaths': 0, 'Confirmed': 3759, 'Recovered': 3561, 'Hospitalized': 139, 'Deaths': 59}, {'Date': '10\\\\/29\\\\/2020', 'NewConfirmed': 4, 'NewRecovered': 9, 'NewHospitalized': -5, 'NewDeaths': 0, 'Confirmed': 3763, 'Recovered': 3570, 'Hospitalized': 134, 'Deaths': 59}, {'Date': '10\\\\/30\\\\/2020', 'NewConfirmed': 12, 'NewRecovered': 15, 'NewHospitalized': -3, 'NewDeaths': 0, 'Confirmed': 3775, 'Recovered': 3585, 'Hospitalized': 131, 'Deaths': 59}, {'Date': '10\\\\/31\\\\/2020', 'NewConfirmed': 5, 'NewRecovered': 5, 'NewHospitalized': 0, 'NewDeaths': 0, 'Confirmed': 3780, 'Recovered': 3590, 'Hospitalized': 131, 'Deaths': 59}, {'Date': '11\\\\/01\\\\/2020', 'NewConfirmed': 4, 'NewRecovered': 2, 'NewHospitalized': 2, 'NewDeaths': 0, 'Confirmed': 3784, 'Recovered': 3592, 'Hospitalized': 133, 'Deaths': 59}, {'Date': '11\\\\/02\\\\/2020', 'NewConfirmed': 3, 'NewRecovered': 3, 'NewHospitalized': 0, 'NewDeaths': 0, 'Confirmed': 3787, 'Recovered': 3595, 'Hospitalized': 133, 'Deaths': 59}, {'Date': '11\\\\/03\\\\/2020', 'NewConfirmed': 10, 'NewRecovered': 10, 'NewHospitalized': 0, 'NewDeaths': 0, 'Confirmed': 3797, 'Recovered': 3605, 'Hospitalized': 133, 'Deaths': 59}, {'Date': '11\\\\/04\\\\/2020', 'NewConfirmed': 7, 'NewRecovered': 7, 'NewHospitalized': 0, 'NewDeaths': 0, 'Confirmed': 3804, 'Recovered': 3612, 'Hospitalized': 133, 'Deaths': 59}, {'Date': '11\\\\/05\\\\/2020', 'NewConfirmed': 6, 'NewRecovered': 11, 'NewHospitalized': -5, 'NewDeaths': 0, 'Confirmed': 3810, 'Recovered': 3623, 'Hospitalized': 128, 'Deaths': 59}, {'Date': '11\\\\/06\\\\/2020', 'NewConfirmed': 8, 'NewRecovered': 16, 'NewHospitalized': -9, 'NewDeaths': 1, 'Confirmed': 3818, 'Recovered': 3639, 'Hospitalized': 119, 'Deaths': 60}, {'Date': '11\\\\/07\\\\/2020', 'NewConfirmed': 12, 'NewRecovered': 5, 'NewHospitalized': 7, 'NewDeaths': 0, 'Confirmed': 3830, 'Recovered': 3644, 'Hospitalized': 126, 'Deaths': 60}, {'Date': '11\\\\/08\\\\/2020', 'NewConfirmed': 7, 'NewRecovered': 10, 'NewHospitalized': -3, 'NewDeaths': 0, 'Confirmed': 3837, 'Recovered': 3654, 'Hospitalized': 123, 'Deaths': 60}, {'Date': '11\\\\/09\\\\/2020', 'NewConfirmed': 3, 'NewRecovered': 7, 'NewHospitalized': -4, 'NewDeaths': 0, 'Confirmed': 3840, 'Recovered': 3661, 'Hospitalized': 119, 'Deaths': 60}, {'Date': '11\\\\/10\\\\/2020', 'NewConfirmed': 4, 'NewRecovered': 9, 'NewHospitalized': -5, 'NewDeaths': 0, 'Confirmed': 3844, 'Recovered': 3670, 'Hospitalized': 114, 'Deaths': 60}, {'Date': '11\\\\/11\\\\/2020', 'NewConfirmed': 3, 'NewRecovered': 15, 'NewHospitalized': -12, 'NewDeaths': 0, 'Confirmed': 3847, 'Recovered': 3685, 'Hospitalized': 102, 'Deaths': 60}, {'Date': '11\\\\/12\\\\/2020', 'NewConfirmed': 5, 'NewRecovered': 8, 'NewHospitalized': -3, 'NewDeaths': 0, 'Confirmed': 3852, 'Recovered': 3693, 'Hospitalized': 99, 'Deaths': 60}, {'Date': '11\\\\/13\\\\/2020', 'NewConfirmed': 9, 'NewRecovered': 4, 'NewHospitalized': 5, 'NewDeaths': 0, 'Confirmed': 3861, 'Recovered': 3697, 'Hospitalized': 104, 'Deaths': 60}, {'Date': '11\\\\/14\\\\/2020', 'NewConfirmed': 5, 'NewRecovered': 10, 'NewHospitalized': -5, 'NewDeaths': 0, 'Confirmed': 3866, 'Recovered': 3707, 'Hospitalized': 99, 'Deaths': 60}, {'Date': '11\\\\/15\\\\/2020', 'NewConfirmed': 8, 'NewRecovered': 8, 'NewHospitalized': 0, 'NewDeaths': 0, 'Confirmed': 3874, 'Recovered': 3715, 'Hospitalized': 99, 'Deaths': 60}, {'Date': '11\\\\/16\\\\/2020', 'NewConfirmed': 1, 'NewRecovered': 6, 'NewHospitalized': -5, 'NewDeaths': 0, 'Confirmed': 3875, 'Recovered': 3721, 'Hospitalized': 94, 'Deaths': 60}, {'Date': '11\\\\/17\\\\/2020', 'NewConfirmed': 3, 'NewRecovered': 3, 'NewHospitalized': 0, 'NewDeaths': 0, 'Confirmed': 3878, 'Recovered': 3724, 'Hospitalized': 94, 'Deaths': 60}, {'Date': '11\\\\/18\\\\/2020', 'NewConfirmed': 2, 'NewRecovered': 5, 'NewHospitalized': -3, 'NewDeaths': 0, 'Confirmed': 3880, 'Recovered': 3729, 'Hospitalized': 91, 'Deaths': 60}, {'Date': '11\\\\/19\\\\/2020', 'NewConfirmed': 8, 'NewRecovered': 13, 'NewHospitalized': -5, 'NewDeaths': 0, 'Confirmed': 3888, 'Recovered': 3742, 'Hospitalized': 86, 'Deaths': 60}, {'Date': '11\\\\/20\\\\/2020', 'NewConfirmed': 4, 'NewRecovered': 3, 'NewHospitalized': 1, 'NewDeaths': 0, 'Confirmed': 3892, 'Recovered': 3745, 'Hospitalized': 87, 'Deaths': 60}, {'Date': '11\\\\/23\\\\/2020', 'NewConfirmed': 7, 'NewRecovered': 5, 'NewHospitalized': 2, 'NewDeaths': 0, 'Confirmed': 3899, 'Recovered': 3750, 'Hospitalized': 89, 'Deaths': 60}, {'Date': '11\\\\/22\\\\/2020', 'NewConfirmed': 11, 'NewRecovered': 5, 'NewHospitalized': 6, 'NewDeaths': 0, 'Confirmed': 3910, 'Recovered': 3755, 'Hospitalized': 95, 'Deaths': 60}, {'Date': '11\\\\/21\\\\/2020', 'NewConfirmed': 10, 'NewRecovered': 11, 'NewHospitalized': -1, 'NewDeaths': 0, 'Confirmed': 3920, 'Recovered': 3766, 'Hospitalized': 94, 'Deaths': 60}, {'Date': '11\\\\/24\\\\/2020', 'NewConfirmed': 2, 'NewRecovered': 6, 'NewHospitalized': -4, 'NewDeaths': 0, 'Confirmed': 3922, 'Recovered': 3772, 'Hospitalized': 90, 'Deaths': 60}, {'Date': '11\\\\/25\\\\/2020', 'NewConfirmed': 4, 'NewRecovered': 8, 'NewHospitalized': -4, 'NewDeaths': 0, 'Confirmed': 3926, 'Recovered': 3780, 'Hospitalized': 86, 'Deaths': 60}, {'Date': '11\\\\/26\\\\/2020', 'NewConfirmed': 16, 'NewRecovered': 8, 'NewHospitalized': 8, 'NewDeaths': 0, 'Confirmed': 3942, 'Recovered': 3788, 'Hospitalized': 94, 'Deaths': 60}, {'Date': '11\\\\/27\\\\/2020', 'NewConfirmed': 19, 'NewRecovered': 2, 'NewHospitalized': 17, 'NewDeaths': 0, 'Confirmed': 3961, 'Recovered': 3790, 'Hospitalized': 111, 'Deaths': 60}, {'Date': '11\\\\/28\\\\/2020', 'NewConfirmed': 5, 'NewRecovered': 8, 'NewHospitalized': -3, 'NewDeaths': 0, 'Confirmed': 3966, 'Recovered': 3798, 'Hospitalized': 108, 'Deaths': 60}, {'Date': '11\\\\/29\\\\/2020', 'NewConfirmed': 11, 'NewRecovered': 2, 'NewHospitalized': 9, 'NewDeaths': 0, 'Confirmed': 3977, 'Recovered': 3800, 'Hospitalized': 117, 'Deaths': 60}, {'Date': '11\\\\/30\\\\/2020', 'NewConfirmed': 21, 'NewRecovered': 3, 'NewHospitalized': 18, 'NewDeaths': 0, 'Confirmed': 3998, 'Recovered': 3803, 'Hospitalized': 135, 'Deaths': 60}, {'Date': '12\\\\/01\\\\/2020', 'NewConfirmed': 10, 'NewRecovered': 8, 'NewHospitalized': 2, 'NewDeaths': 0, 'Confirmed': 4008, 'Recovered': 3811, 'Hospitalized': 137, 'Deaths': 60}, {'Date': '12\\\\/02\\\\/2020', 'NewConfirmed': 18, 'NewRecovered': 11, 'NewHospitalized': 7, 'NewDeaths': 0, 'Confirmed': 4026, 'Recovered': 3822, 'Hospitalized': 144, 'Deaths': 60}, {'Date': '12\\\\/03\\\\/2020', 'NewConfirmed': 13, 'NewRecovered': 10, 'NewHospitalized': 3, 'NewDeaths': 0, 'Confirmed': 4039, 'Recovered': 3832, 'Hospitalized': 147, 'Deaths': 60}, {'Date': '12\\\\/04\\\\/2020', 'NewConfirmed': 14, 'NewRecovered': 7, 'NewHospitalized': 7, 'NewDeaths': 0, 'Confirmed': 4053, 'Recovered': 3839, 'Hospitalized': 154, 'Deaths': 60}, {'Date': '12\\\\/05\\\\/2020', 'NewConfirmed': 19, 'NewRecovered': 9, 'NewHospitalized': 10, 'NewDeaths': 0, 'Confirmed': 4072, 'Recovered': 3848, 'Hospitalized': 164, 'Deaths': 60}, {'Date': '12\\\\/06\\\\/2020', 'NewConfirmed': 14, 'NewRecovered': 5, 'NewHospitalized': 9, 'NewDeaths': 0, 'Confirmed': 4086, 'Recovered': 3853, 'Hospitalized': 173, 'Deaths': 60}, {'Date': '12\\\\/07\\\\/2020', 'NewConfirmed': 21, 'NewRecovered': 15, 'NewHospitalized': 6, 'NewDeaths': 0, 'Confirmed': 4107, 'Recovered': 3868, 'Hospitalized': 179, 'Deaths': 60}, {'Date': '12\\\\/08\\\\/2020', 'NewConfirmed': 19, 'NewRecovered': 6, 'NewHospitalized': 13, 'NewDeaths': 0, 'Confirmed': 4126, 'Recovered': 3874, 'Hospitalized': 192, 'Deaths': 60}, {'Date': '12\\\\/09\\\\/2020', 'NewConfirmed': 25, 'NewRecovered': 6, 'NewHospitalized': 19, 'NewDeaths': 0, 'Confirmed': 4151, 'Recovered': 3880, 'Hospitalized': 211, 'Deaths': 60}, {'Date': '12\\\\/10\\\\/2020', 'NewConfirmed': 18, 'NewRecovered': 8, 'NewHospitalized': 10, 'NewDeaths': 0, 'Confirmed': 4169, 'Recovered': 3888, 'Hospitalized': 221, 'Deaths': 60}, {'Date': '12\\\\/11\\\\/2020', 'NewConfirmed': 11, 'NewRecovered': 15, 'NewHospitalized': -4, 'NewDeaths': 0, 'Confirmed': 4180, 'Recovered': 3903, 'Hospitalized': 217, 'Deaths': 60}, {'Date': '12\\\\/12\\\\/2020', 'NewConfirmed': 12, 'NewRecovered': 12, 'NewHospitalized': 0, 'NewDeaths': 0, 'Confirmed': 4192, 'Recovered': 3915, 'Hospitalized': 217, 'Deaths': 60}, {'Date': '12\\\\/13\\\\/2020', 'NewConfirmed': 17, 'NewRecovered': 8, 'NewHospitalized': 9, 'NewDeaths': 0, 'Confirmed': 4209, 'Recovered': 3923, 'Hospitalized': 226, 'Deaths': 60}, {'Date': '12\\\\/14\\\\/2020', 'NewConfirmed': 28, 'NewRecovered': 17, 'NewHospitalized': 11, 'NewDeaths': 0, 'Confirmed': 4237, 'Recovered': 3940, 'Hospitalized': 237, 'Deaths': 60}, {'Date': '12\\\\/15\\\\/2020', 'NewConfirmed': 9, 'NewRecovered': 9, 'NewHospitalized': 0, 'NewDeaths': 0, 'Confirmed': 4246, 'Recovered': 3949, 'Hospitalized': 237, 'Deaths': 60}, {'Date': '12\\\\/16\\\\/2020', 'NewConfirmed': 15, 'NewRecovered': 28, 'NewHospitalized': -13, 'NewDeaths': 0, 'Confirmed': 4261, 'Recovered': 3977, 'Hospitalized': 224, 'Deaths': 60}, {'Date': '12\\\\/17\\\\/2020', 'NewConfirmed': 20, 'NewRecovered': 12, 'NewHospitalized': 8, 'NewDeaths': 0, 'Confirmed': 4281, 'Recovered': 3989, 'Hospitalized': 232, 'Deaths': 60}, {'Date': '12\\\\/18\\\\/2020', 'NewConfirmed': 16, 'NewRecovered': 16, 'NewHospitalized': 0, 'NewDeaths': 0, 'Confirmed': 4297, 'Recovered': 4005, 'Hospitalized': 232, 'Deaths': 60}, {'Date': '12\\\\/19\\\\/2020', 'NewConfirmed': 34, 'NewRecovered': 19, 'NewHospitalized': 15, 'NewDeaths': 0, 'Confirmed': 4331, 'Recovered': 4024, 'Hospitalized': 247, 'Deaths': 60}, {'Date': '12\\\\/20\\\\/2020', 'NewConfirmed': 576, 'NewRecovered': 17, 'NewHospitalized': 559, 'NewDeaths': 0, 'Confirmed': 4907, 'Recovered': 4041, 'Hospitalized': 806, 'Deaths': 60}, {'Date': '12\\\\/21\\\\/2020', 'NewConfirmed': 382, 'NewRecovered': 12, 'NewHospitalized': 370, 'NewDeaths': 0, 'Confirmed': 5289, 'Recovered': 4053, 'Hospitalized': 1176, 'Deaths': 60}, {'Date': '12\\\\/22\\\\/2020', 'NewConfirmed': 427, 'NewRecovered': 25, 'NewHospitalized': 402, 'NewDeaths': 0, 'Confirmed': 5716, 'Recovered': 4078, 'Hospitalized': 1578, 'Deaths': 60}, {'Date': '12\\\\/23\\\\/2020', 'NewConfirmed': 46, 'NewRecovered': 17, 'NewHospitalized': 29, 'NewDeaths': 0, 'Confirmed': 5762, 'Recovered': 4095, 'Hospitalized': 1607, 'Deaths': 60}, {'Date': '12\\\\/24\\\\/2020', 'NewConfirmed': 67, 'NewRecovered': 21, 'NewHospitalized': 46, 'NewDeaths': 0, 'Confirmed': 5829, 'Recovered': 4116, 'Hospitalized': 1653, 'Deaths': 60}, {'Date': '12\\\\/25\\\\/2020', 'NewConfirmed': 81, 'NewRecovered': 21, 'NewHospitalized': 60, 'NewDeaths': 0, 'Confirmed': 5910, 'Recovered': 4137, 'Hospitalized': 1713, 'Deaths': 60}, {'Date': '12\\\\/26\\\\/2020', 'NewConfirmed': 110, 'NewRecovered': 15, 'NewHospitalized': 95, 'NewDeaths': 0, 'Confirmed': 6020, 'Recovered': 4152, 'Hospitalized': 1808, 'Deaths': 60}, {'Date': '12\\\\/27\\\\/2020', 'NewConfirmed': 121, 'NewRecovered': 9, 'NewHospitalized': 112, 'NewDeaths': 0, 'Confirmed': 6141, 'Recovered': 4161, 'Hospitalized': 1920, 'Deaths': 60}, {'Date': '12\\\\/28\\\\/2020', 'NewConfirmed': 144, 'NewRecovered': 19, 'NewHospitalized': 125, 'NewDeaths': 0, 'Confirmed': 6285, 'Recovered': 4180, 'Hospitalized': 2045, 'Deaths': 60}, {'Date': '12\\\\/29\\\\/2020', 'NewConfirmed': 155, 'NewRecovered': 4, 'NewHospitalized': 150, 'NewDeaths': 1, 'Confirmed': 6440, 'Recovered': 4184, 'Hospitalized': 2195, 'Deaths': 61}, {'Date': '12\\\\/30\\\\/2020', 'NewConfirmed': 250, 'NewRecovered': 28, 'NewHospitalized': 222, 'NewDeaths': 0, 'Confirmed': 6690, 'Recovered': 4212, 'Hospitalized': 2417, 'Deaths': 61}, {'Date': '12\\\\/31\\\\/2020', 'NewConfirmed': 194, 'NewRecovered': 28, 'NewHospitalized': 166, 'NewDeaths': 0, 'Confirmed': 6884, 'Recovered': 4240, 'Hospitalized': 2583, 'Deaths': 61}, {'Date': '01\\\\/01\\\\/2021', 'NewConfirmed': 279, 'NewRecovered': 33, 'NewHospitalized': 244, 'NewDeaths': 2, 'Confirmed': 7163, 'Recovered': 4273, 'Hospitalized': 2827, 'Deaths': 63}, {'Date': '01\\\\/02\\\\/2021', 'NewConfirmed': 216, 'NewRecovered': 26, 'NewHospitalized': 189, 'NewDeaths': 1, 'Confirmed': 7379, 'Recovered': 4299, 'Hospitalized': 3016, 'Deaths': 64}, {'Date': '01\\\\/03\\\\/2021', 'NewConfirmed': 315, 'NewRecovered': 38, 'NewHospitalized': 277, 'NewDeaths': 0, 'Confirmed': 7694, 'Recovered': 4337, 'Hospitalized': 3293, 'Deaths': 64}, {'Date': '01\\\\/04\\\\/2021', 'NewConfirmed': 745, 'NewRecovered': 15, 'NewHospitalized': 729, 'NewDeaths': 1, 'Confirmed': 8439, 'Recovered': 4352, 'Hospitalized': 4022, 'Deaths': 65}, {'Date': '01\\\\/05\\\\/2021', 'NewConfirmed': 527, 'NewRecovered': 45, 'NewHospitalized': 482, 'NewDeaths': 0, 'Confirmed': 8966, 'Recovered': 4397, 'Hospitalized': 4504, 'Deaths': 65}, {'Date': '01\\\\/06\\\\/2021', 'NewConfirmed': 365, 'NewRecovered': 21, 'NewHospitalized': 343, 'NewDeaths': 1, 'Confirmed': 9331, 'Recovered': 4418, 'Hospitalized': 4847, 'Deaths': 66}, {'Date': '01\\\\/07\\\\/2021', 'NewConfirmed': 305, 'NewRecovered': 103, 'NewHospitalized': 201, 'NewDeaths': 1, 'Confirmed': 9636, 'Recovered': 4521, 'Hospitalized': 5048, 'Deaths': 67}, {'Date': '01\\\\/08\\\\/2021', 'NewConfirmed': 205, 'NewRecovered': 734, 'NewHospitalized': -529, 'NewDeaths': 0, 'Confirmed': 9841, 'Recovered': 5255, 'Hospitalized': 4519, 'Deaths': 67}, {'Date': '01\\\\/09\\\\/2021', 'NewConfirmed': 212, 'NewRecovered': 291, 'NewHospitalized': -79, 'NewDeaths': 0, 'Confirmed': 10053, 'Recovered': 5546, 'Hospitalized': 4440, 'Deaths': 67}, {'Date': '01\\\\/10\\\\/2021', 'NewConfirmed': 245, 'NewRecovered': 882, 'NewHospitalized': -637, 'NewDeaths': 0, 'Confirmed': 10298, 'Recovered': 6428, 'Hospitalized': 3803, 'Deaths': 67}, {'Date': '01\\\\/11\\\\/2021', 'NewConfirmed': 249, 'NewRecovered': 138, 'NewHospitalized': 111, 'NewDeaths': 0, 'Confirmed': 10547, 'Recovered': 6566, 'Hospitalized': 3914, 'Deaths': 67}, {'Date': '01\\\\/12\\\\/2021', 'NewConfirmed': 287, 'NewRecovered': 166, 'NewHospitalized': 121, 'NewDeaths': 0, 'Confirmed': 10834, 'Recovered': 6732, 'Hospitalized': 4035, 'Deaths': 67}, {'Date': '01\\\\/13\\\\/2021', 'NewConfirmed': 157, 'NewRecovered': 211, 'NewHospitalized': -54, 'NewDeaths': 0, 'Confirmed': 10991, 'Recovered': 6943, 'Hospitalized': 3981, 'Deaths': 67}, {'Date': '01\\\\/14\\\\/2021', 'NewConfirmed': 271, 'NewRecovered': 717, 'NewHospitalized': -448, 'NewDeaths': 2, 'Confirmed': 11262, 'Recovered': 7660, 'Hospitalized': 3533, 'Deaths': 69}, {'Date': '01\\\\/15\\\\/2021', 'NewConfirmed': 188, 'NewRecovered': 628, 'NewHospitalized': -440, 'NewDeaths': 0, 'Confirmed': 11450, 'Recovered': 8288, 'Hospitalized': 3093, 'Deaths': 69}, {'Date': '01\\\\/16\\\\/2021', 'NewConfirmed': 230, 'NewRecovered': 618, 'NewHospitalized': -388, 'NewDeaths': 0, 'Confirmed': 11680, 'Recovered': 8906, 'Hospitalized': 2705, 'Deaths': 69}, {'Date': '01\\\\/17\\\\/2021', 'NewConfirmed': 374, 'NewRecovered': 109, 'NewHospitalized': 264, 'NewDeaths': 1, 'Confirmed': 12054, 'Recovered': 9015, 'Hospitalized': 2969, 'Deaths': 70}, {'Date': '01\\\\/18\\\\/2021', 'NewConfirmed': 369, 'NewRecovered': 191, 'NewHospitalized': 178, 'NewDeaths': 0, 'Confirmed': 12423, 'Recovered': 9206, 'Hospitalized': 3147, 'Deaths': 70}, {'Date': '01\\\\/19\\\\/2021', 'NewConfirmed': 171, 'NewRecovered': 150, 'NewHospitalized': 21, 'NewDeaths': 0, 'Confirmed': 12594, 'Recovered': 9356, 'Hospitalized': 3168, 'Deaths': 70}, {'Date': '01\\\\/20\\\\/2021', 'NewConfirmed': 59, 'NewRecovered': 265, 'NewHospitalized': -207, 'NewDeaths': 1, 'Confirmed': 12653, 'Recovered': 9621, 'Hospitalized': 2961, 'Deaths': 71}, {'Date': '01\\\\/21\\\\/2021', 'NewConfirmed': 142, 'NewRecovered': 221, 'NewHospitalized': -79, 'NewDeaths': 0, 'Confirmed': 12795, 'Recovered': 9842, 'Hospitalized': 2882, 'Deaths': 71}, {'Date': '01\\\\/22\\\\/2021', 'NewConfirmed': 309, 'NewRecovered': 382, 'NewHospitalized': -73, 'NewDeaths': 0, 'Confirmed': 13104, 'Recovered': 10224, 'Hospitalized': 2809, 'Deaths': 71}, {'Date': '01\\\\/23\\\\/2021', 'NewConfirmed': 198, 'NewRecovered': 224, 'NewHospitalized': -27, 'NewDeaths': 1, 'Confirmed': 13302, 'Recovered': 10448, 'Hospitalized': 2782, 'Deaths': 72}, {'Date': '01\\\\/24\\\\/2021', 'NewConfirmed': 198, 'NewRecovered': 119, 'NewHospitalized': 78, 'NewDeaths': 1, 'Confirmed': 13500, 'Recovered': 10567, 'Hospitalized': 2860, 'Deaths': 73}, {'Date': '01\\\\/25\\\\/2021', 'NewConfirmed': 187, 'NewRecovered': 95, 'NewHospitalized': 90, 'NewDeaths': 2, 'Confirmed': 13687, 'Recovered': 10662, 'Hospitalized': 2950, 'Deaths': 75}, {'Date': '01\\\\/26\\\\/2021', 'NewConfirmed': 959, 'NewRecovered': 230, 'NewHospitalized': 729, 'NewDeaths': 0, 'Confirmed': 14646, 'Recovered': 10892, 'Hospitalized': 3679, 'Deaths': 75}, {'Date': '01\\\\/27\\\\/2021', 'NewConfirmed': 819, 'NewRecovered': 162, 'NewHospitalized': 656, 'NewDeaths': 1, 'Confirmed': 15465, 'Recovered': 11054, 'Hospitalized': 4335, 'Deaths': 76}, {'Date': '01\\\\/28\\\\/2021', 'NewConfirmed': 756, 'NewRecovered': 233, 'NewHospitalized': 523, 'NewDeaths': 0, 'Confirmed': 16221, 'Recovered': 11287, 'Hospitalized': 4858, 'Deaths': 76}, {'Date': '01\\\\/29\\\\/2021', 'NewConfirmed': 802, 'NewRecovered': 109, 'NewHospitalized': 693, 'NewDeaths': 0, 'Confirmed': 17023, 'Recovered': 11396, 'Hospitalized': 5551, 'Deaths': 76}, {'Date': '01\\\\/30\\\\/2021', 'NewConfirmed': 930, 'NewRecovered': 109, 'NewHospitalized': 820, 'NewDeaths': 1, 'Confirmed': 17953, 'Recovered': 11505, 'Hospitalized': 6371, 'Deaths': 77}, {'Date': '01\\\\/31\\\\/2021', 'NewConfirmed': 829, 'NewRecovered': 110, 'NewHospitalized': 719, 'NewDeaths': 0, 'Confirmed': 18782, 'Recovered': 11615, 'Hospitalized': 7090, 'Deaths': 77}, {'Date': '02\\\\/01\\\\/2021', 'NewConfirmed': 836, 'NewRecovered': 899, 'NewHospitalized': -63, 'NewDeaths': 0, 'Confirmed': 19618, 'Recovered': 12514, 'Hospitalized': 7027, 'Deaths': 77}, {'Date': '02\\\\/02\\\\/2021', 'NewConfirmed': 836, 'NewRecovered': 703, 'NewHospitalized': 131, 'NewDeaths': 2, 'Confirmed': 20454, 'Recovered': 13217, 'Hospitalized': 7158, 'Deaths': 79}, {'Date': '02\\\\/03\\\\/2021', 'NewConfirmed': 795, 'NewRecovered': 784, 'NewHospitalized': 11, 'NewDeaths': 0, 'Confirmed': 21249, 'Recovered': 14001, 'Hospitalized': 7169, 'Deaths': 79}, {'Date': '02\\\\/04\\\\/2021', 'NewConfirmed': 809, 'NewRecovered': 797, 'NewHospitalized': 12, 'NewDeaths': 0, 'Confirmed': 22058, 'Recovered': 14798, 'Hospitalized': 7181, 'Deaths': 79}, {'Date': '02\\\\/05\\\\/2021', 'NewConfirmed': 586, 'NewRecovered': 533, 'NewHospitalized': 53, 'NewDeaths': 0, 'Confirmed': 22644, 'Recovered': 15331, 'Hospitalized': 7234, 'Deaths': 79}, {'Date': '02\\\\/06\\\\/2021', 'NewConfirmed': 490, 'NewRecovered': 943, 'NewHospitalized': -453, 'NewDeaths': 0, 'Confirmed': 23134, 'Recovered': 16274, 'Hospitalized': 6781, 'Deaths': 79}, {'Date': '02\\\\/07\\\\/2021', 'NewConfirmed': 237, 'NewRecovered': 668, 'NewHospitalized': -431, 'NewDeaths': 0, 'Confirmed': 23371, 'Recovered': 16942, 'Hospitalized': 6350, 'Deaths': 79}, {'Date': '02\\\\/08\\\\/2021', 'NewConfirmed': 186, 'NewRecovered': 468, 'NewHospitalized': -282, 'NewDeaths': 0, 'Confirmed': 23557, 'Recovered': 17410, 'Hospitalized': 6068, 'Deaths': 79}, {'Date': '02\\\\/09\\\\/2021', 'NewConfirmed': 189, 'NewRecovered': 956, 'NewHospitalized': -767, 'NewDeaths': 0, 'Confirmed': 23746, 'Recovered': 18366, 'Hospitalized': 5301, 'Deaths': 79}, {'Date': '02\\\\/10\\\\/2021', 'NewConfirmed': 157, 'NewRecovered': 548, 'NewHospitalized': -392, 'NewDeaths': 1, 'Confirmed': 23903, 'Recovered': 18914, 'Hospitalized': 4909, 'Deaths': 80}, {'Date': '02\\\\/11\\\\/2021', 'NewConfirmed': 201, 'NewRecovered': 885, 'NewHospitalized': -684, 'NewDeaths': 0, 'Confirmed': 24104, 'Recovered': 19799, 'Hospitalized': 4225, 'Deaths': 80}, {'Date': '02\\\\/12\\\\/2021', 'NewConfirmed': 175, 'NewRecovered': 411, 'NewHospitalized': -236, 'NewDeaths': 0, 'Confirmed': 24279, 'Recovered': 20210, 'Hospitalized': 3989, 'Deaths': 80}, {'Date': '02\\\\/13\\\\/2021', 'NewConfirmed': 126, 'NewRecovered': 970, 'NewHospitalized': -844, 'NewDeaths': 0, 'Confirmed': 24405, 'Recovered': 21180, 'Hospitalized': 3145, 'Deaths': 80}, {'Date': '02\\\\/14\\\\/2021', 'NewConfirmed': 166, 'NewRecovered': 931, 'NewHospitalized': -765, 'NewDeaths': 0, 'Confirmed': 24571, 'Recovered': 22111, 'Hospitalized': 2380, 'Deaths': 80}, {'Date': '02\\\\/15\\\\/2021', 'NewConfirmed': 143, 'NewRecovered': 772, 'NewHospitalized': -631, 'NewDeaths': 2, 'Confirmed': 24714, 'Recovered': 22883, 'Hospitalized': 1749, 'Deaths': 82}, {'Date': '02\\\\/16\\\\/2021', 'NewConfirmed': 72, 'NewRecovered': 680, 'NewHospitalized': -608, 'NewDeaths': 0, 'Confirmed': 24786, 'Recovered': 23563, 'Hospitalized': 1141, 'Deaths': 82}, {'Date': '02\\\\/17\\\\/2021', 'NewConfirmed': 175, 'NewRecovered': 134, 'NewHospitalized': 41, 'NewDeaths': 0, 'Confirmed': 24961, 'Recovered': 23697, 'Hospitalized': 1182, 'Deaths': 82}, {'Date': '02\\\\/18\\\\/2021', 'NewConfirmed': 150, 'NewRecovered': 249, 'NewHospitalized': -99, 'NewDeaths': 0, 'Confirmed': 25111, 'Recovered': 23946, 'Hospitalized': 1083, 'Deaths': 82}, {'Date': '02\\\\/19\\\\/2021', 'NewConfirmed': 130, 'NewRecovered': 124, 'NewHospitalized': 5, 'NewDeaths': 1, 'Confirmed': 25241, 'Recovered': 24070, 'Hospitalized': 1088, 'Deaths': 83}, {'Date': '02\\\\/20\\\\/2021', 'NewConfirmed': 82, 'NewRecovered': 59, 'NewHospitalized': 23, 'NewDeaths': 0, 'Confirmed': 25323, 'Recovered': 24129, 'Hospitalized': 1111, 'Deaths': 83}, {'Date': '02\\\\/21\\\\/2021', 'NewConfirmed': 92, 'NewRecovered': 156, 'NewHospitalized': -64, 'NewDeaths': 0, 'Confirmed': 25415, 'Recovered': 24285, 'Hospitalized': 1047, 'Deaths': 83}, {'Date': '02\\\\/22\\\\/2021', 'NewConfirmed': 89, 'NewRecovered': 76, 'NewHospitalized': 13, 'NewDeaths': 0, 'Confirmed': 25504, 'Recovered': 24361, 'Hospitalized': 1060, 'Deaths': 83}, {'Date': '02\\\\/23\\\\/2021', 'NewConfirmed': 95, 'NewRecovered': 85, 'NewHospitalized': 10, 'NewDeaths': 0, 'Confirmed': 25599, 'Recovered': 24446, 'Hospitalized': 1070, 'Deaths': 83}, {'Date': '02\\\\/24\\\\/2021', 'NewConfirmed': 93, 'NewRecovered': 96, 'NewHospitalized': -3, 'NewDeaths': 0, 'Confirmed': 25692, 'Recovered': 24542, 'Hospitalized': 1067, 'Deaths': 83}, {'Date': '02\\\\/25\\\\/2021', 'NewConfirmed': 72, 'NewRecovered': 192, 'NewHospitalized': -120, 'NewDeaths': 0, 'Confirmed': 25764, 'Recovered': 24734, 'Hospitalized': 947, 'Deaths': 83}, {'Date': '02\\\\/26\\\\/2021', 'NewConfirmed': 45, 'NewRecovered': 218, 'NewHospitalized': -173, 'NewDeaths': 0, 'Confirmed': 25809, 'Recovered': 24952, 'Hospitalized': 774, 'Deaths': 83}, {'Date': '02\\\\/27\\\\/2021', 'NewConfirmed': 72, 'NewRecovered': 70, 'NewHospitalized': 2, 'NewDeaths': 0, 'Confirmed': 25881, 'Recovered': 25022, 'Hospitalized': 776, 'Deaths': 83}, {'Date': '02\\\\/28\\\\/2021', 'NewConfirmed': 70, 'NewRecovered': 106, 'NewHospitalized': -36, 'NewDeaths': 0, 'Confirmed': 25951, 'Recovered': 25128, 'Hospitalized': 740, 'Deaths': 83}, {'Date': '03\\\\/01\\\\/2021', 'NewConfirmed': 80, 'NewRecovered': 196, 'NewHospitalized': -116, 'NewDeaths': 0, 'Confirmed': 26031, 'Recovered': 25324, 'Hospitalized': 624, 'Deaths': 83}, {'Date': '03\\\\/02\\\\/2021', 'NewConfirmed': 42, 'NewRecovered': 96, 'NewHospitalized': -55, 'NewDeaths': 1, 'Confirmed': 26073, 'Recovered': 25420, 'Hospitalized': 569, 'Deaths': 84}, {'Date': '03\\\\/03\\\\/2021', 'NewConfirmed': 35, 'NewRecovered': 63, 'NewHospitalized': -28, 'NewDeaths': 0, 'Confirmed': 26108, 'Recovered': 25483, 'Hospitalized': 541, 'Deaths': 84}, {'Date': '03\\\\/04\\\\/2021', 'NewConfirmed': 54, 'NewRecovered': 79, 'NewHospitalized': -26, 'NewDeaths': 1, 'Confirmed': 26162, 'Recovered': 25562, 'Hospitalized': 515, 'Deaths': 85}, {'Date': '03\\\\/05\\\\/2021', 'NewConfirmed': 79, 'NewRecovered': 79, 'NewHospitalized': 0, 'NewDeaths': 0, 'Confirmed': 26241, 'Recovered': 25641, 'Hospitalized': 515, 'Deaths': 85}, {'Date': '03\\\\/06\\\\/2021', 'NewConfirmed': 64, 'NewRecovered': 45, 'NewHospitalized': 19, 'NewDeaths': 0, 'Confirmed': 26305, 'Recovered': 25686, 'Hospitalized': 534, 'Deaths': 85}, {'Date': '03\\\\/07\\\\/2021', 'NewConfirmed': 65, 'NewRecovered': 58, 'NewHospitalized': 7, 'NewDeaths': 0, 'Confirmed': 26370, 'Recovered': 25744, 'Hospitalized': 541, 'Deaths': 85}, {'Date': '03\\\\/08\\\\/2021', 'NewConfirmed': 71, 'NewRecovered': 33, 'NewHospitalized': 38, 'NewDeaths': 0, 'Confirmed': 26441, 'Recovered': 25777, 'Hospitalized': 579, 'Deaths': 85}, {'Date': '03\\\\/09\\\\/2021', 'NewConfirmed': 60, 'NewRecovered': 74, 'NewHospitalized': -14, 'NewDeaths': 0, 'Confirmed': 26501, 'Recovered': 25851, 'Hospitalized': 565, 'Deaths': 85}, {'Date': '03\\\\/10\\\\/2021', 'NewConfirmed': 39, 'NewRecovered': 95, 'NewHospitalized': -56, 'NewDeaths': 0, 'Confirmed': 26540, 'Recovered': 25946, 'Hospitalized': 509, 'Deaths': 85}, {'Date': '03\\\\/11\\\\/2021', 'NewConfirmed': 58, 'NewRecovered': 54, 'NewHospitalized': 4, 'NewDeaths': 0, 'Confirmed': 26598, 'Recovered': 26000, 'Hospitalized': 513, 'Deaths': 85}, {'Date': '03\\\\/12\\\\/2021', 'NewConfirmed': 81, 'NewRecovered': 56, 'NewHospitalized': 25, 'NewDeaths': 0, 'Confirmed': 26679, 'Recovered': 26056, 'Hospitalized': 538, 'Deaths': 85}, {'Date': '03\\\\/13\\\\/2021', 'NewConfirmed': 78, 'NewRecovered': 30, 'NewHospitalized': 47, 'NewDeaths': 1, 'Confirmed': 26757, 'Recovered': 26086, 'Hospitalized': 585, 'Deaths': 86}, {'Date': '03\\\\/14\\\\/2021', 'NewConfirmed': 170, 'NewRecovered': 68, 'NewHospitalized': 102, 'NewDeaths': 0, 'Confirmed': 26927, 'Recovered': 26154, 'Hospitalized': 687, 'Deaths': 86}, {'Date': '03\\\\/15\\\\/2021', 'NewConfirmed': 78, 'NewRecovered': 80, 'NewHospitalized': -3, 'NewDeaths': 1, 'Confirmed': 27005, 'Recovered': 26234, 'Hospitalized': 684, 'Deaths': 87}, {'Date': '03\\\\/16\\\\/2021', 'NewConfirmed': 149, 'NewRecovered': 65, 'NewHospitalized': 84, 'NewDeaths': 0, 'Confirmed': 27154, 'Recovered': 26299, 'Hospitalized': 768, 'Deaths': 87}, {'Date': '03\\\\/17\\\\/2021', 'NewConfirmed': 248, 'NewRecovered': 40, 'NewHospitalized': 207, 'NewDeaths': 1, 'Confirmed': 27402, 'Recovered': 26339, 'Hospitalized': 975, 'Deaths': 88}, {'Date': '03\\\\/18\\\\/2021', 'NewConfirmed': 92, 'NewRecovered': 38, 'NewHospitalized': 53, 'NewDeaths': 1, 'Confirmed': 27494, 'Recovered': 26377, 'Hospitalized': 1028, 'Deaths': 89}, {'Date': '03\\\\/19\\\\/2021', 'NewConfirmed': 100, 'NewRecovered': 73, 'NewHospitalized': 26, 'NewDeaths': 1, 'Confirmed': 27594, 'Recovered': 26450, 'Hospitalized': 1054, 'Deaths': 90}, {'Date': '03\\\\/20\\\\/2021', 'NewConfirmed': 119, 'NewRecovered': 62, 'NewHospitalized': 57, 'NewDeaths': 0, 'Confirmed': 27713, 'Recovered': 26512, 'Hospitalized': 1111, 'Deaths': 90}, {'Date': '03\\\\/21\\\\/2021', 'NewConfirmed': 90, 'NewRecovered': 86, 'NewHospitalized': 4, 'NewDeaths': 0, 'Confirmed': 27803, 'Recovered': 26598, 'Hospitalized': 1115, 'Deaths': 90}, {'Date': '03\\\\/22\\\\/2021', 'NewConfirmed': 73, 'NewRecovered': 65, 'NewHospitalized': 7, 'NewDeaths': 1, 'Confirmed': 27876, 'Recovered': 26663, 'Hospitalized': 1122, 'Deaths': 91}, {'Date': '03\\\\/23\\\\/2021', 'NewConfirmed': 401, 'NewRecovered': 103, 'NewHospitalized': 297, 'NewDeaths': 1, 'Confirmed': 28277, 'Recovered': 26766, 'Hospitalized': 1419, 'Deaths': 92}, {'Date': '03\\\\/24\\\\/2021', 'NewConfirmed': 69, 'NewRecovered': 107, 'NewHospitalized': -38, 'NewDeaths': 0, 'Confirmed': 28346, 'Recovered': 26873, 'Hospitalized': 1381, 'Deaths': 92}, {'Date': '03\\\\/25\\\\/2021', 'NewConfirmed': 97, 'NewRecovered': 73, 'NewHospitalized': 24, 'NewDeaths': 0, 'Confirmed': 28443, 'Recovered': 26946, 'Hospitalized': 1405, 'Deaths': 92}, {'Date': '03\\\\/26\\\\/2021', 'NewConfirmed': 134, 'NewRecovered': 86, 'NewHospitalized': 48, 'NewDeaths': 0, 'Confirmed': 28577, 'Recovered': 27032, 'Hospitalized': 1453, 'Deaths': 92}, {'Date': '03\\\\/27\\\\/2021', 'NewConfirmed': 80, 'NewRecovered': 104, 'NewHospitalized': -25, 'NewDeaths': 1, 'Confirmed': 28657, 'Recovered': 27136, 'Hospitalized': 1428, 'Deaths': 93}, {'Date': '03\\\\/28\\\\/2021', 'NewConfirmed': 77, 'NewRecovered': 103, 'NewHospitalized': -27, 'NewDeaths': 1, 'Confirmed': 28734, 'Recovered': 27239, 'Hospitalized': 1401, 'Deaths': 94}, {'Date': '03\\\\/29\\\\/2021', 'NewConfirmed': 39, 'NewRecovered': 74, 'NewHospitalized': -35, 'NewDeaths': 0, 'Confirmed': 28773, 'Recovered': 27313, 'Hospitalized': 1366, 'Deaths': 94}, {'Date': '03\\\\/30\\\\/2021', 'NewConfirmed': 48, 'NewRecovered': 66, 'NewHospitalized': -18, 'NewDeaths': 0, 'Confirmed': 28821, 'Recovered': 27379, 'Hospitalized': 1348, 'Deaths': 94}, {'Date': '03\\\\/31\\\\/2021', 'NewConfirmed': 42, 'NewRecovered': 47, 'NewHospitalized': -5, 'NewDeaths': 0, 'Confirmed': 28863, 'Recovered': 27426, 'Hospitalized': 1343, 'Deaths': 94}, {'Date': '04\\\\/01\\\\/2021', 'NewConfirmed': 26, 'NewRecovered': 122, 'NewHospitalized': -96, 'NewDeaths': 0, 'Confirmed': 28889, 'Recovered': 27548, 'Hospitalized': 1247, 'Deaths': 94}, {'Date': '04\\\\/02\\\\/2021', 'NewConfirmed': 58, 'NewRecovered': 58, 'NewHospitalized': 0, 'NewDeaths': 0, 'Confirmed': 28947, 'Recovered': 27606, 'Hospitalized': 1247, 'Deaths': 94}, {'Date': '04\\\\/03\\\\/2021', 'NewConfirmed': 84, 'NewRecovered': 62, 'NewHospitalized': 21, 'NewDeaths': 1, 'Confirmed': 29031, 'Recovered': 27668, 'Hospitalized': 1268, 'Deaths': 95}, {'Date': '04\\\\/04\\\\/2021', 'NewConfirmed': 96, 'NewRecovered': 106, 'NewHospitalized': -10, 'NewDeaths': 0, 'Confirmed': 29127, 'Recovered': 27774, 'Hospitalized': 1258, 'Deaths': 95}, {'Date': '04\\\\/05\\\\/2021', 'NewConfirmed': 194, 'NewRecovered': 66, 'NewHospitalized': 128, 'NewDeaths': 0, 'Confirmed': 29321, 'Recovered': 27840, 'Hospitalized': 1386, 'Deaths': 95}, {'Date': '04\\\\/06\\\\/2021', 'NewConfirmed': 250, 'NewRecovered': 108, 'NewHospitalized': 142, 'NewDeaths': 0, 'Confirmed': 29571, 'Recovered': 27948, 'Hospitalized': 1528, 'Deaths': 95}, {'Date': '04\\\\/07\\\\/2021', 'NewConfirmed': 334, 'NewRecovered': 121, 'NewHospitalized': 213, 'NewDeaths': 0, 'Confirmed': 29905, 'Recovered': 28069, 'Hospitalized': 1741, 'Deaths': 95}, {'Date': '04\\\\/08\\\\/2021', 'NewConfirmed': 405, 'NewRecovered': 32, 'NewHospitalized': 373, 'NewDeaths': 0, 'Confirmed': 30310, 'Recovered': 28101, 'Hospitalized': 2114, 'Deaths': 95}, {'Date': '04\\\\/09\\\\/2021', 'NewConfirmed': 559, 'NewRecovered': 27, 'NewHospitalized': 531, 'NewDeaths': 1, 'Confirmed': 30869, 'Recovered': 28128, 'Hospitalized': 2645, 'Deaths': 96}, {'Date': '04\\\\/10\\\\/2021', 'NewConfirmed': 789, 'NewRecovered': 33, 'NewHospitalized': 755, 'NewDeaths': 1, 'Confirmed': 31658, 'Recovered': 28161, 'Hospitalized': 3400, 'Deaths': 97}, {'Date': '04\\\\/11\\\\/2021', 'NewConfirmed': 967, 'NewRecovered': 53, 'NewHospitalized': 914, 'NewDeaths': 0, 'Confirmed': 32625, 'Recovered': 28214, 'Hospitalized': 4314, 'Deaths': 97}, {'Date': '04\\\\/12\\\\/2021', 'NewConfirmed': 985, 'NewRecovered': 34, 'NewHospitalized': 951, 'NewDeaths': 0, 'Confirmed': 33610, 'Recovered': 28248, 'Hospitalized': 5265, 'Deaths': 97}, {'Date': '04\\\\/13\\\\/2021', 'NewConfirmed': 965, 'NewRecovered': 40, 'NewHospitalized': 925, 'NewDeaths': 0, 'Confirmed': 34575, 'Recovered': 28288, 'Hospitalized': 6190, 'Deaths': 97}, {'Date': '04\\\\/14\\\\/2021', 'NewConfirmed': 1338, 'NewRecovered': 34, 'NewHospitalized': 1304, 'NewDeaths': 0, 'Confirmed': 35913, 'Recovered': 28322, 'Hospitalized': 7494, 'Deaths': 97}, {'Date': '04\\\\/15\\\\/2021', 'NewConfirmed': 1543, 'NewRecovered': 61, 'NewHospitalized': 1482, 'NewDeaths': 0, 'Confirmed': 37456, 'Recovered': 28383, 'Hospitalized': 8976, 'Deaths': 97}, {'Date': '04\\\\/16\\\\/2021', 'NewConfirmed': 1582, 'NewRecovered': 97, 'NewHospitalized': 1485, 'NewDeaths': 0, 'Confirmed': 39038, 'Recovered': 28480, 'Hospitalized': 10461, 'Deaths': 97}, {'Date': '04\\\\/17\\\\/2021', 'NewConfirmed': 1547, 'NewRecovered': 90, 'NewHospitalized': 1455, 'NewDeaths': 2, 'Confirmed': 40585, 'Recovered': 28570, 'Hospitalized': 11916, 'Deaths': 99}, {'Date': '04\\\\/18\\\\/2021', 'NewConfirmed': 1767, 'NewRecovered': 113, 'NewHospitalized': 1652, 'NewDeaths': 2, 'Confirmed': 42352, 'Recovered': 28683, 'Hospitalized': 13568, 'Deaths': 101}, {'Date': '04\\\\/19\\\\/2021', 'NewConfirmed': 1390, 'NewRecovered': 104, 'NewHospitalized': 1283, 'NewDeaths': 3, 'Confirmed': 43742, 'Recovered': 28787, 'Hospitalized': 14851, 'Deaths': 104}, {'Date': '04\\\\/20\\\\/2021', 'NewConfirmed': 1443, 'NewRecovered': 171, 'NewHospitalized': 1268, 'NewDeaths': 4, 'Confirmed': 45185, 'Recovered': 28958, 'Hospitalized': 16119, 'Deaths': 108}, {'Date': '04\\\\/21\\\\/2021', 'NewConfirmed': 1458, 'NewRecovered': 413, 'NewHospitalized': 1043, 'NewDeaths': 2, 'Confirmed': 46643, 'Recovered': 29371, 'Hospitalized': 17162, 'Deaths': 110}, {'Date': '04\\\\/22\\\\/2021', 'NewConfirmed': 1470, 'NewRecovered': 477, 'NewHospitalized': 986, 'NewDeaths': 7, 'Confirmed': 48113, 'Recovered': 29848, 'Hospitalized': 18148, 'Deaths': 117}, {'Date': '04\\\\/23\\\\/2021', 'NewConfirmed': 2070, 'NewRecovered': 341, 'NewHospitalized': 1725, 'NewDeaths': 4, 'Confirmed': 50183, 'Recovered': 30189, 'Hospitalized': 19873, 'Deaths': 121}, {'Date': '04\\\\/24\\\\/2021', 'NewConfirmed': 2839, 'NewRecovered': 377, 'NewHospitalized': 2454, 'NewDeaths': 8, 'Confirmed': 53022, 'Recovered': 30566, 'Hospitalized': 22327, 'Deaths': 129}, {'Date': '04\\\\/25\\\\/2021', 'NewConfirmed': 2438, 'NewRecovered': 547, 'NewHospitalized': 1880, 'NewDeaths': 11, 'Confirmed': 55460, 'Recovered': 31113, 'Hospitalized': 24207, 'Deaths': 140}]}\n"
          ],
          "name": "stdout"
        }
      ]
    },
    {
      "cell_type": "code",
      "metadata": {
        "id": "EWiHt43Q0oYm",
        "colab": {
          "base_uri": "https://localhost:8080/"
        },
        "outputId": "64d10282-46d9-44d7-c8b6-cbb0ef9a1b47"
      },
      "source": [
        "type(mydata)"
      ],
      "execution_count": null,
      "outputs": [
        {
          "output_type": "execute_result",
          "data": {
            "text/plain": [
              "dict"
            ]
          },
          "metadata": {
            "tags": []
          },
          "execution_count": 258
        }
      ]
    },
    {
      "cell_type": "code",
      "metadata": {
        "id": "Fr9ilr4t0S3m"
      },
      "source": [
        "# mydata['Data']"
      ],
      "execution_count": null,
      "outputs": []
    },
    {
      "cell_type": "code",
      "metadata": {
        "id": "PwwTUuZY_uo7",
        "colab": {
          "base_uri": "https://localhost:8080/"
        },
        "outputId": "44e8866d-dace-4aeb-f38e-b71c09990fb6"
      },
      "source": [
        "x = {}\n",
        "x['d'] = 1\n",
        "x"
      ],
      "execution_count": null,
      "outputs": [
        {
          "output_type": "execute_result",
          "data": {
            "text/plain": [
              "{'d': 1}"
            ]
          },
          "metadata": {
            "tags": []
          },
          "execution_count": 260
        }
      ]
    },
    {
      "cell_type": "code",
      "metadata": {
        "id": "jsDa0-5YyukD"
      },
      "source": [
        "list_all = []\n",
        "dict_covid_perday = {}\n",
        "new_list_dict = mydata['Data']\n",
        "for i in new_list_dict:\n",
        "  for key, value in i.items():\n",
        "    if key == 'Date':\n",
        "      i[key] = value.replace('\\\\','')\n",
        "    break"
      ],
      "execution_count": null,
      "outputs": []
    },
    {
      "cell_type": "code",
      "metadata": {
        "id": "1xI30pRP7ZnU",
        "colab": {
          "base_uri": "https://localhost:8080/"
        },
        "outputId": "8e69b70b-aab1-4169-9042-86aa80a98361"
      },
      "source": [
        "type(new_list_dict)"
      ],
      "execution_count": null,
      "outputs": [
        {
          "output_type": "execute_result",
          "data": {
            "text/plain": [
              "list"
            ]
          },
          "metadata": {
            "tags": []
          },
          "execution_count": 262
        }
      ]
    },
    {
      "cell_type": "code",
      "metadata": {
        "id": "qzs1HPQSIFj7"
      },
      "source": [
        "list_date = []\n",
        "list_new_confirmed = []"
      ],
      "execution_count": null,
      "outputs": []
    },
    {
      "cell_type": "markdown",
      "metadata": {
        "id": "nvfM4Q0esOEp"
      },
      "source": [
        "get only focus"
      ]
    },
    {
      "cell_type": "code",
      "metadata": {
        "id": "dXHzZsGUCKyx",
        "colab": {
          "base_uri": "https://localhost:8080/"
        },
        "outputId": "cbdaf4b9-11ac-42be-b6bc-e6678c9fe297"
      },
      "source": [
        "for i in new_list_dict:\n",
        "  for key, value in i.items():\n",
        "    if key == 'Date':\n",
        "      list_date_sp = value.split('/')\n",
        "      list_date_sp = [int(i) for i in list_date_sp]\n",
        "      if list_date_sp[2] >= 2021:\n",
        "        if list_date_sp[0] >= 4:\n",
        "          print(i)\n",
        "          # list_date.append(value)\n",
        "          list_date.append(i['Date'])\n",
        "          list_new_confirmed.append(i['NewConfirmed'])"
      ],
      "execution_count": null,
      "outputs": [
        {
          "output_type": "stream",
          "text": [
            "{'Date': '04/01/2021', 'NewConfirmed': 26, 'NewRecovered': 122, 'NewHospitalized': -96, 'NewDeaths': 0, 'Confirmed': 28889, 'Recovered': 27548, 'Hospitalized': 1247, 'Deaths': 94}\n",
            "{'Date': '04/02/2021', 'NewConfirmed': 58, 'NewRecovered': 58, 'NewHospitalized': 0, 'NewDeaths': 0, 'Confirmed': 28947, 'Recovered': 27606, 'Hospitalized': 1247, 'Deaths': 94}\n",
            "{'Date': '04/03/2021', 'NewConfirmed': 84, 'NewRecovered': 62, 'NewHospitalized': 21, 'NewDeaths': 1, 'Confirmed': 29031, 'Recovered': 27668, 'Hospitalized': 1268, 'Deaths': 95}\n",
            "{'Date': '04/04/2021', 'NewConfirmed': 96, 'NewRecovered': 106, 'NewHospitalized': -10, 'NewDeaths': 0, 'Confirmed': 29127, 'Recovered': 27774, 'Hospitalized': 1258, 'Deaths': 95}\n",
            "{'Date': '04/05/2021', 'NewConfirmed': 194, 'NewRecovered': 66, 'NewHospitalized': 128, 'NewDeaths': 0, 'Confirmed': 29321, 'Recovered': 27840, 'Hospitalized': 1386, 'Deaths': 95}\n",
            "{'Date': '04/06/2021', 'NewConfirmed': 250, 'NewRecovered': 108, 'NewHospitalized': 142, 'NewDeaths': 0, 'Confirmed': 29571, 'Recovered': 27948, 'Hospitalized': 1528, 'Deaths': 95}\n",
            "{'Date': '04/07/2021', 'NewConfirmed': 334, 'NewRecovered': 121, 'NewHospitalized': 213, 'NewDeaths': 0, 'Confirmed': 29905, 'Recovered': 28069, 'Hospitalized': 1741, 'Deaths': 95}\n",
            "{'Date': '04/08/2021', 'NewConfirmed': 405, 'NewRecovered': 32, 'NewHospitalized': 373, 'NewDeaths': 0, 'Confirmed': 30310, 'Recovered': 28101, 'Hospitalized': 2114, 'Deaths': 95}\n",
            "{'Date': '04/09/2021', 'NewConfirmed': 559, 'NewRecovered': 27, 'NewHospitalized': 531, 'NewDeaths': 1, 'Confirmed': 30869, 'Recovered': 28128, 'Hospitalized': 2645, 'Deaths': 96}\n",
            "{'Date': '04/10/2021', 'NewConfirmed': 789, 'NewRecovered': 33, 'NewHospitalized': 755, 'NewDeaths': 1, 'Confirmed': 31658, 'Recovered': 28161, 'Hospitalized': 3400, 'Deaths': 97}\n",
            "{'Date': '04/11/2021', 'NewConfirmed': 967, 'NewRecovered': 53, 'NewHospitalized': 914, 'NewDeaths': 0, 'Confirmed': 32625, 'Recovered': 28214, 'Hospitalized': 4314, 'Deaths': 97}\n",
            "{'Date': '04/12/2021', 'NewConfirmed': 985, 'NewRecovered': 34, 'NewHospitalized': 951, 'NewDeaths': 0, 'Confirmed': 33610, 'Recovered': 28248, 'Hospitalized': 5265, 'Deaths': 97}\n",
            "{'Date': '04/13/2021', 'NewConfirmed': 965, 'NewRecovered': 40, 'NewHospitalized': 925, 'NewDeaths': 0, 'Confirmed': 34575, 'Recovered': 28288, 'Hospitalized': 6190, 'Deaths': 97}\n",
            "{'Date': '04/14/2021', 'NewConfirmed': 1338, 'NewRecovered': 34, 'NewHospitalized': 1304, 'NewDeaths': 0, 'Confirmed': 35913, 'Recovered': 28322, 'Hospitalized': 7494, 'Deaths': 97}\n",
            "{'Date': '04/15/2021', 'NewConfirmed': 1543, 'NewRecovered': 61, 'NewHospitalized': 1482, 'NewDeaths': 0, 'Confirmed': 37456, 'Recovered': 28383, 'Hospitalized': 8976, 'Deaths': 97}\n",
            "{'Date': '04/16/2021', 'NewConfirmed': 1582, 'NewRecovered': 97, 'NewHospitalized': 1485, 'NewDeaths': 0, 'Confirmed': 39038, 'Recovered': 28480, 'Hospitalized': 10461, 'Deaths': 97}\n",
            "{'Date': '04/17/2021', 'NewConfirmed': 1547, 'NewRecovered': 90, 'NewHospitalized': 1455, 'NewDeaths': 2, 'Confirmed': 40585, 'Recovered': 28570, 'Hospitalized': 11916, 'Deaths': 99}\n",
            "{'Date': '04/18/2021', 'NewConfirmed': 1767, 'NewRecovered': 113, 'NewHospitalized': 1652, 'NewDeaths': 2, 'Confirmed': 42352, 'Recovered': 28683, 'Hospitalized': 13568, 'Deaths': 101}\n",
            "{'Date': '04/19/2021', 'NewConfirmed': 1390, 'NewRecovered': 104, 'NewHospitalized': 1283, 'NewDeaths': 3, 'Confirmed': 43742, 'Recovered': 28787, 'Hospitalized': 14851, 'Deaths': 104}\n",
            "{'Date': '04/20/2021', 'NewConfirmed': 1443, 'NewRecovered': 171, 'NewHospitalized': 1268, 'NewDeaths': 4, 'Confirmed': 45185, 'Recovered': 28958, 'Hospitalized': 16119, 'Deaths': 108}\n",
            "{'Date': '04/21/2021', 'NewConfirmed': 1458, 'NewRecovered': 413, 'NewHospitalized': 1043, 'NewDeaths': 2, 'Confirmed': 46643, 'Recovered': 29371, 'Hospitalized': 17162, 'Deaths': 110}\n",
            "{'Date': '04/22/2021', 'NewConfirmed': 1470, 'NewRecovered': 477, 'NewHospitalized': 986, 'NewDeaths': 7, 'Confirmed': 48113, 'Recovered': 29848, 'Hospitalized': 18148, 'Deaths': 117}\n",
            "{'Date': '04/23/2021', 'NewConfirmed': 2070, 'NewRecovered': 341, 'NewHospitalized': 1725, 'NewDeaths': 4, 'Confirmed': 50183, 'Recovered': 30189, 'Hospitalized': 19873, 'Deaths': 121}\n",
            "{'Date': '04/24/2021', 'NewConfirmed': 2839, 'NewRecovered': 377, 'NewHospitalized': 2454, 'NewDeaths': 8, 'Confirmed': 53022, 'Recovered': 30566, 'Hospitalized': 22327, 'Deaths': 129}\n",
            "{'Date': '04/25/2021', 'NewConfirmed': 2438, 'NewRecovered': 547, 'NewHospitalized': 1880, 'NewDeaths': 11, 'Confirmed': 55460, 'Recovered': 31113, 'Hospitalized': 24207, 'Deaths': 140}\n"
          ],
          "name": "stdout"
        }
      ]
    },
    {
      "cell_type": "code",
      "metadata": {
        "id": "yBJ3sTudDoIM",
        "colab": {
          "base_uri": "https://localhost:8080/"
        },
        "outputId": "1b1ad8e8-2423-45cc-b70c-c777096f2bf7"
      },
      "source": [
        "list_date"
      ],
      "execution_count": null,
      "outputs": [
        {
          "output_type": "execute_result",
          "data": {
            "text/plain": [
              "['04/01/2021',\n",
              " '04/02/2021',\n",
              " '04/03/2021',\n",
              " '04/04/2021',\n",
              " '04/05/2021',\n",
              " '04/06/2021',\n",
              " '04/07/2021',\n",
              " '04/08/2021',\n",
              " '04/09/2021',\n",
              " '04/10/2021',\n",
              " '04/11/2021',\n",
              " '04/12/2021',\n",
              " '04/13/2021',\n",
              " '04/14/2021',\n",
              " '04/15/2021',\n",
              " '04/16/2021',\n",
              " '04/17/2021',\n",
              " '04/18/2021',\n",
              " '04/19/2021',\n",
              " '04/20/2021',\n",
              " '04/21/2021',\n",
              " '04/22/2021',\n",
              " '04/23/2021',\n",
              " '04/24/2021',\n",
              " '04/25/2021']"
            ]
          },
          "metadata": {
            "tags": []
          },
          "execution_count": 265
        }
      ]
    },
    {
      "cell_type": "code",
      "metadata": {
        "id": "Yylqj8nILXTk",
        "colab": {
          "base_uri": "https://localhost:8080/"
        },
        "outputId": "a225395e-8cfb-4f5f-892d-57f5fb47d89a"
      },
      "source": [
        "list_new_confirmed"
      ],
      "execution_count": null,
      "outputs": [
        {
          "output_type": "execute_result",
          "data": {
            "text/plain": [
              "[26,\n",
              " 58,\n",
              " 84,\n",
              " 96,\n",
              " 194,\n",
              " 250,\n",
              " 334,\n",
              " 405,\n",
              " 559,\n",
              " 789,\n",
              " 967,\n",
              " 985,\n",
              " 965,\n",
              " 1338,\n",
              " 1543,\n",
              " 1582,\n",
              " 1547,\n",
              " 1767,\n",
              " 1390,\n",
              " 1443,\n",
              " 1458,\n",
              " 1470,\n",
              " 2070,\n",
              " 2839,\n",
              " 2438]"
            ]
          },
          "metadata": {
            "tags": []
          },
          "execution_count": 266
        }
      ]
    },
    {
      "cell_type": "code",
      "metadata": {
        "id": "GMDQkmP3G9nT"
      },
      "source": [
        "import datetime as dt\n",
        "\n",
        "dates = ['01/02/1991','01/03/1991','01/04/1991']\n",
        "x = [dt.datetime.strptime(d,'%m/%d/%Y').date() for d in list_date]\n",
        "y = list_new_confirmed\n",
        "x_keep = x\n",
        "y_keep = y"
      ],
      "execution_count": null,
      "outputs": []
    },
    {
      "cell_type": "code",
      "metadata": {
        "id": "GFbBDO3oQQJF",
        "colab": {
          "base_uri": "https://localhost:8080/"
        },
        "outputId": "1931037f-4e44-43c7-9226-08652e259a15"
      },
      "source": [
        "x"
      ],
      "execution_count": null,
      "outputs": [
        {
          "output_type": "execute_result",
          "data": {
            "text/plain": [
              "[datetime.date(2021, 4, 1),\n",
              " datetime.date(2021, 4, 2),\n",
              " datetime.date(2021, 4, 3),\n",
              " datetime.date(2021, 4, 4),\n",
              " datetime.date(2021, 4, 5),\n",
              " datetime.date(2021, 4, 6),\n",
              " datetime.date(2021, 4, 7),\n",
              " datetime.date(2021, 4, 8),\n",
              " datetime.date(2021, 4, 9),\n",
              " datetime.date(2021, 4, 10),\n",
              " datetime.date(2021, 4, 11),\n",
              " datetime.date(2021, 4, 12),\n",
              " datetime.date(2021, 4, 13),\n",
              " datetime.date(2021, 4, 14),\n",
              " datetime.date(2021, 4, 15),\n",
              " datetime.date(2021, 4, 16),\n",
              " datetime.date(2021, 4, 17),\n",
              " datetime.date(2021, 4, 18),\n",
              " datetime.date(2021, 4, 19),\n",
              " datetime.date(2021, 4, 20),\n",
              " datetime.date(2021, 4, 21),\n",
              " datetime.date(2021, 4, 22),\n",
              " datetime.date(2021, 4, 23),\n",
              " datetime.date(2021, 4, 24),\n",
              " datetime.date(2021, 4, 25)]"
            ]
          },
          "metadata": {
            "tags": []
          },
          "execution_count": 268
        }
      ]
    },
    {
      "cell_type": "code",
      "metadata": {
        "id": "s4-ss3mgQTcd",
        "colab": {
          "base_uri": "https://localhost:8080/"
        },
        "outputId": "55be4f6e-e2a1-4148-e5ed-022413b134d5"
      },
      "source": [
        "y"
      ],
      "execution_count": null,
      "outputs": [
        {
          "output_type": "execute_result",
          "data": {
            "text/plain": [
              "[26,\n",
              " 58,\n",
              " 84,\n",
              " 96,\n",
              " 194,\n",
              " 250,\n",
              " 334,\n",
              " 405,\n",
              " 559,\n",
              " 789,\n",
              " 967,\n",
              " 985,\n",
              " 965,\n",
              " 1338,\n",
              " 1543,\n",
              " 1582,\n",
              " 1547,\n",
              " 1767,\n",
              " 1390,\n",
              " 1443,\n",
              " 1458,\n",
              " 1470,\n",
              " 2070,\n",
              " 2839,\n",
              " 2438]"
            ]
          },
          "metadata": {
            "tags": []
          },
          "execution_count": 269
        }
      ]
    },
    {
      "cell_type": "code",
      "metadata": {
        "id": "PTtLpB8VHEki",
        "colab": {
          "base_uri": "https://localhost:8080/",
          "height": 285
        },
        "outputId": "3025e1b1-144d-41b6-b37c-efdd2a036461"
      },
      "source": [
        "import matplotlib.pyplot as plt\n",
        "import matplotlib.dates as mdates\n",
        "plt.gca().xaxis.set_major_formatter(mdates.DateFormatter('%d/%m/%Y'))\n",
        "plt.gca().xaxis.set_major_locator(mdates.DayLocator())\n",
        "plt.bar(x,y, color = 'orange')\n",
        "plt.plot(x,y,'-o')\n",
        "plt.grid(True)\n",
        "plt.xlabel(\"Date\")\n",
        "plt.ylabel(\"NewConfirmed\")\n",
        "plt.gcf().autofmt_xdate()\n",
        "plt.show()"
      ],
      "execution_count": null,
      "outputs": [
        {
          "output_type": "display_data",
          "data": {
            "image/png": "[encoded data removed]",
            "text/plain": [
              "<Figure size 432x288 with 1 Axes>"
            ]
          },
          "metadata": {
            "tags": [],
            "needs_background": "light"
          }
        }
      ]
    },
    {
      "cell_type": "markdown",
      "metadata": {
        "id": "6X4xn3DngwAr"
      },
      "source": [
        "#Linear Regression"
      ]
    },
    {
      "cell_type": "code",
      "metadata": {
        "id": "efGBV2aysX3A"
      },
      "source": [
        "list_date = []\n",
        "list_new_confirmed = []\n",
        "for i in new_list_dict:\n",
        "  for key, value in i.items():\n",
        "    if key == 'Date':\n",
        "      list_date_sp = value.split('/')\n",
        "      list_date_sp = [int(i) for i in list_date_sp]\n",
        "      list_date.append(i['Date'])\n",
        "      list_new_confirmed.append(i['NewConfirmed'])"
      ],
      "execution_count": null,
      "outputs": []
    },
    {
      "cell_type": "code",
      "metadata": {
        "id": "p0BK9MLZsbTh"
      },
      "source": [
        "import datetime as dt\n",
        "# dates = ['01/02/1991','01/03/1991','01/04/1991']\n",
        "a = [dt.datetime.strptime(d,'%m/%d/%Y').date() for d in list_date]\n",
        "b = list_new_confirmed"
      ],
      "execution_count": null,
      "outputs": []
    },
    {
      "cell_type": "markdown",
      "metadata": {
        "id": "N4hypvXqrr3R"
      },
      "source": [
        "list to pd"
      ]
    },
    {
      "cell_type": "code",
      "metadata": {
        "id": "1Y1hmbZ2rk0Z",
        "colab": {
          "base_uri": "https://localhost:8080/",
          "height": 404
        },
        "outputId": "06550389-d418-4323-9dd2-c9e7013e1ebb"
      },
      "source": [
        "from pandas import DataFrame\n",
        "df = DataFrame(a,columns=['Date'])\n",
        "df['NewConfirmed'] = b\n",
        "df"
      ],
      "execution_count": null,
      "outputs": [
        {
          "output_type": "execute_result",
          "data": {
            "text/html": [
              "<div>\n",
              "<style scoped>\n",
              "    .dataframe tbody tr th:only-of-type {\n",
              "        vertical-align: middle;\n",
              "    }\n",
              "\n",
              "    .dataframe tbody tr th {\n",
              "        vertical-align: top;\n",
              "    }\n",
              "\n",
              "    .dataframe thead th {\n",
              "        text-align: right;\n",
              "    }\n",
              "</style>\n",
              "<table border=\"1\" class=\"dataframe\">\n",
              "  <thead>\n",
              "    <tr style=\"text-align: right;\">\n",
              "      <th></th>\n",
              "      <th>Date</th>\n",
              "      <th>NewConfirmed</th>\n",
              "    </tr>\n",
              "  </thead>\n",
              "  <tbody>\n",
              "    <tr>\n",
              "      <th>0</th>\n",
              "      <td>2020-01-01</td>\n",
              "      <td>0</td>\n",
              "    </tr>\n",
              "    <tr>\n",
              "      <th>1</th>\n",
              "      <td>2020-01-02</td>\n",
              "      <td>0</td>\n",
              "    </tr>\n",
              "    <tr>\n",
              "      <th>2</th>\n",
              "      <td>2020-01-03</td>\n",
              "      <td>0</td>\n",
              "    </tr>\n",
              "    <tr>\n",
              "      <th>3</th>\n",
              "      <td>2020-01-04</td>\n",
              "      <td>0</td>\n",
              "    </tr>\n",
              "    <tr>\n",
              "      <th>4</th>\n",
              "      <td>2020-01-05</td>\n",
              "      <td>0</td>\n",
              "    </tr>\n",
              "    <tr>\n",
              "      <th>...</th>\n",
              "      <td>...</td>\n",
              "      <td>...</td>\n",
              "    </tr>\n",
              "    <tr>\n",
              "      <th>475</th>\n",
              "      <td>2021-04-21</td>\n",
              "      <td>1458</td>\n",
              "    </tr>\n",
              "    <tr>\n",
              "      <th>476</th>\n",
              "      <td>2021-04-22</td>\n",
              "      <td>1470</td>\n",
              "    </tr>\n",
              "    <tr>\n",
              "      <th>477</th>\n",
              "      <td>2021-04-23</td>\n",
              "      <td>2070</td>\n",
              "    </tr>\n",
              "    <tr>\n",
              "      <th>478</th>\n",
              "      <td>2021-04-24</td>\n",
              "      <td>2839</td>\n",
              "    </tr>\n",
              "    <tr>\n",
              "      <th>479</th>\n",
              "      <td>2021-04-25</td>\n",
              "      <td>2438</td>\n",
              "    </tr>\n",
              "  </tbody>\n",
              "</table>\n",
              "<p>480 rows × 2 columns</p>\n",
              "</div>"
            ],
            "text/plain": [
              "           Date  NewConfirmed\n",
              "0    2020-01-01             0\n",
              "1    2020-01-02             0\n",
              "2    2020-01-03             0\n",
              "3    2020-01-04             0\n",
              "4    2020-01-05             0\n",
              "..          ...           ...\n",
              "475  2021-04-21          1458\n",
              "476  2021-04-22          1470\n",
              "477  2021-04-23          2070\n",
              "478  2021-04-24          2839\n",
              "479  2021-04-25          2438\n",
              "\n",
              "[480 rows x 2 columns]"
            ]
          },
          "metadata": {
            "tags": []
          },
          "execution_count": 273
        }
      ]
    },
    {
      "cell_type": "markdown",
      "metadata": {
        "id": "4zR6nJkeuQIR"
      },
      "source": [
        "select period of training set"
      ]
    },
    {
      "cell_type": "code",
      "metadata": {
        "id": "Mqvvz-aNbMfV",
        "colab": {
          "base_uri": "https://localhost:8080/",
          "height": 793
        },
        "outputId": "82e77d45-ee09-4d48-b108-55adba40a0dd"
      },
      "source": [
        "df['new_date'] = pd.to_datetime(df['Date'], format='%Y-%m-%d')\n",
        "df = df.loc[(df['new_date'] > '2021-03-31')]\n",
        "df"
      ],
      "execution_count": null,
      "outputs": [
        {
          "output_type": "execute_result",
          "data": {
            "text/html": [
              "<div>\n",
              "<style scoped>\n",
              "    .dataframe tbody tr th:only-of-type {\n",
              "        vertical-align: middle;\n",
              "    }\n",
              "\n",
              "    .dataframe tbody tr th {\n",
              "        vertical-align: top;\n",
              "    }\n",
              "\n",
              "    .dataframe thead th {\n",
              "        text-align: right;\n",
              "    }\n",
              "</style>\n",
              "<table border=\"1\" class=\"dataframe\">\n",
              "  <thead>\n",
              "    <tr style=\"text-align: right;\">\n",
              "      <th></th>\n",
              "      <th>Date</th>\n",
              "      <th>NewConfirmed</th>\n",
              "      <th>new_date</th>\n",
              "    </tr>\n",
              "  </thead>\n",
              "  <tbody>\n",
              "    <tr>\n",
              "      <th>455</th>\n",
              "      <td>2021-04-01</td>\n",
              "      <td>26</td>\n",
              "      <td>2021-04-01</td>\n",
              "    </tr>\n",
              "    <tr>\n",
              "      <th>456</th>\n",
              "      <td>2021-04-02</td>\n",
              "      <td>58</td>\n",
              "      <td>2021-04-02</td>\n",
              "    </tr>\n",
              "    <tr>\n",
              "      <th>457</th>\n",
              "      <td>2021-04-03</td>\n",
              "      <td>84</td>\n",
              "      <td>2021-04-03</td>\n",
              "    </tr>\n",
              "    <tr>\n",
              "      <th>458</th>\n",
              "      <td>2021-04-04</td>\n",
              "      <td>96</td>\n",
              "      <td>2021-04-04</td>\n",
              "    </tr>\n",
              "    <tr>\n",
              "      <th>459</th>\n",
              "      <td>2021-04-05</td>\n",
              "      <td>194</td>\n",
              "      <td>2021-04-05</td>\n",
              "    </tr>\n",
              "    <tr>\n",
              "      <th>460</th>\n",
              "      <td>2021-04-06</td>\n",
              "      <td>250</td>\n",
              "      <td>2021-04-06</td>\n",
              "    </tr>\n",
              "    <tr>\n",
              "      <th>461</th>\n",
              "      <td>2021-04-07</td>\n",
              "      <td>334</td>\n",
              "      <td>2021-04-07</td>\n",
              "    </tr>\n",
              "    <tr>\n",
              "      <th>462</th>\n",
              "      <td>2021-04-08</td>\n",
              "      <td>405</td>\n",
              "      <td>2021-04-08</td>\n",
              "    </tr>\n",
              "    <tr>\n",
              "      <th>463</th>\n",
              "      <td>2021-04-09</td>\n",
              "      <td>559</td>\n",
              "      <td>2021-04-09</td>\n",
              "    </tr>\n",
              "    <tr>\n",
              "      <th>464</th>\n",
              "      <td>2021-04-10</td>\n",
              "      <td>789</td>\n",
              "      <td>2021-04-10</td>\n",
              "    </tr>\n",
              "    <tr>\n",
              "      <th>465</th>\n",
              "      <td>2021-04-11</td>\n",
              "      <td>967</td>\n",
              "      <td>2021-04-11</td>\n",
              "    </tr>\n",
              "    <tr>\n",
              "      <th>466</th>\n",
              "      <td>2021-04-12</td>\n",
              "      <td>985</td>\n",
              "      <td>2021-04-12</td>\n",
              "    </tr>\n",
              "    <tr>\n",
              "      <th>467</th>\n",
              "      <td>2021-04-13</td>\n",
              "      <td>965</td>\n",
              "      <td>2021-04-13</td>\n",
              "    </tr>\n",
              "    <tr>\n",
              "      <th>468</th>\n",
              "      <td>2021-04-14</td>\n",
              "      <td>1338</td>\n",
              "      <td>2021-04-14</td>\n",
              "    </tr>\n",
              "    <tr>\n",
              "      <th>469</th>\n",
              "      <td>2021-04-15</td>\n",
              "      <td>1543</td>\n",
              "      <td>2021-04-15</td>\n",
              "    </tr>\n",
              "    <tr>\n",
              "      <th>470</th>\n",
              "      <td>2021-04-16</td>\n",
              "      <td>1582</td>\n",
              "      <td>2021-04-16</td>\n",
              "    </tr>\n",
              "    <tr>\n",
              "      <th>471</th>\n",
              "      <td>2021-04-17</td>\n",
              "      <td>1547</td>\n",
              "      <td>2021-04-17</td>\n",
              "    </tr>\n",
              "    <tr>\n",
              "      <th>472</th>\n",
              "      <td>2021-04-18</td>\n",
              "      <td>1767</td>\n",
              "      <td>2021-04-18</td>\n",
              "    </tr>\n",
              "    <tr>\n",
              "      <th>473</th>\n",
              "      <td>2021-04-19</td>\n",
              "      <td>1390</td>\n",
              "      <td>2021-04-19</td>\n",
              "    </tr>\n",
              "    <tr>\n",
              "      <th>474</th>\n",
              "      <td>2021-04-20</td>\n",
              "      <td>1443</td>\n",
              "      <td>2021-04-20</td>\n",
              "    </tr>\n",
              "    <tr>\n",
              "      <th>475</th>\n",
              "      <td>2021-04-21</td>\n",
              "      <td>1458</td>\n",
              "      <td>2021-04-21</td>\n",
              "    </tr>\n",
              "    <tr>\n",
              "      <th>476</th>\n",
              "      <td>2021-04-22</td>\n",
              "      <td>1470</td>\n",
              "      <td>2021-04-22</td>\n",
              "    </tr>\n",
              "    <tr>\n",
              "      <th>477</th>\n",
              "      <td>2021-04-23</td>\n",
              "      <td>2070</td>\n",
              "      <td>2021-04-23</td>\n",
              "    </tr>\n",
              "    <tr>\n",
              "      <th>478</th>\n",
              "      <td>2021-04-24</td>\n",
              "      <td>2839</td>\n",
              "      <td>2021-04-24</td>\n",
              "    </tr>\n",
              "    <tr>\n",
              "      <th>479</th>\n",
              "      <td>2021-04-25</td>\n",
              "      <td>2438</td>\n",
              "      <td>2021-04-25</td>\n",
              "    </tr>\n",
              "  </tbody>\n",
              "</table>\n",
              "</div>"
            ],
            "text/plain": [
              "           Date  NewConfirmed   new_date\n",
              "455  2021-04-01            26 2021-04-01\n",
              "456  2021-04-02            58 2021-04-02\n",
              "457  2021-04-03            84 2021-04-03\n",
              "458  2021-04-04            96 2021-04-04\n",
              "459  2021-04-05           194 2021-04-05\n",
              "460  2021-04-06           250 2021-04-06\n",
              "461  2021-04-07           334 2021-04-07\n",
              "462  2021-04-08           405 2021-04-08\n",
              "463  2021-04-09           559 2021-04-09\n",
              "464  2021-04-10           789 2021-04-10\n",
              "465  2021-04-11           967 2021-04-11\n",
              "466  2021-04-12           985 2021-04-12\n",
              "467  2021-04-13           965 2021-04-13\n",
              "468  2021-04-14          1338 2021-04-14\n",
              "469  2021-04-15          1543 2021-04-15\n",
              "470  2021-04-16          1582 2021-04-16\n",
              "471  2021-04-17          1547 2021-04-17\n",
              "472  2021-04-18          1767 2021-04-18\n",
              "473  2021-04-19          1390 2021-04-19\n",
              "474  2021-04-20          1443 2021-04-20\n",
              "475  2021-04-21          1458 2021-04-21\n",
              "476  2021-04-22          1470 2021-04-22\n",
              "477  2021-04-23          2070 2021-04-23\n",
              "478  2021-04-24          2839 2021-04-24\n",
              "479  2021-04-25          2438 2021-04-25"
            ]
          },
          "metadata": {
            "tags": []
          },
          "execution_count": 274
        }
      ]
    },
    {
      "cell_type": "code",
      "metadata": {
        "id": "mN95z8OzC2r3",
        "colab": {
          "base_uri": "https://localhost:8080/"
        },
        "outputId": "026551c8-927f-4cec-a971-185f6568216e"
      },
      "source": [
        "# import datetime as dt\n",
        "from datetime import datetime\n",
        "# df['Date'] = pd.to_datetime(df['Date'])\n",
        "df['Date'] = df['Date'].apply(datetime.toordinal)"
      ],
      "execution_count": null,
      "outputs": [
        {
          "output_type": "stream",
          "text": [
            "/usr/local/lib/python3.7/dist-packages/ipykernel_launcher.py:4: SettingWithCopyWarning: \n",
            "A value is trying to be set on a copy of a slice from a DataFrame.\n",
            "Try using .loc[row_indexer,col_indexer] = value instead\n",
            "\n",
            "See the caveats in the documentation: https://pandas.pydata.org/pandas-docs/stable/user_guide/indexing.html#returning-a-view-versus-a-copy\n",
            "  after removing the cwd from sys.path.\n"
          ],
          "name": "stderr"
        }
      ]
    },
    {
      "cell_type": "code",
      "metadata": {
        "id": "MGMPkuxAELFr",
        "colab": {
          "base_uri": "https://localhost:8080/",
          "height": 793
        },
        "outputId": "73ef4e2c-b80d-4599-e7cb-eda0cbf4cde4"
      },
      "source": [
        "df"
      ],
      "execution_count": null,
      "outputs": [
        {
          "output_type": "execute_result",
          "data": {
            "text/html": [
              "<div>\n",
              "<style scoped>\n",
              "    .dataframe tbody tr th:only-of-type {\n",
              "        vertical-align: middle;\n",
              "    }\n",
              "\n",
              "    .dataframe tbody tr th {\n",
              "        vertical-align: top;\n",
              "    }\n",
              "\n",
              "    .dataframe thead th {\n",
              "        text-align: right;\n",
              "    }\n",
              "</style>\n",
              "<table border=\"1\" class=\"dataframe\">\n",
              "  <thead>\n",
              "    <tr style=\"text-align: right;\">\n",
              "      <th></th>\n",
              "      <th>Date</th>\n",
              "      <th>NewConfirmed</th>\n",
              "      <th>new_date</th>\n",
              "    </tr>\n",
              "  </thead>\n",
              "  <tbody>\n",
              "    <tr>\n",
              "      <th>455</th>\n",
              "      <td>737881</td>\n",
              "      <td>26</td>\n",
              "      <td>2021-04-01</td>\n",
              "    </tr>\n",
              "    <tr>\n",
              "      <th>456</th>\n",
              "      <td>737882</td>\n",
              "      <td>58</td>\n",
              "      <td>2021-04-02</td>\n",
              "    </tr>\n",
              "    <tr>\n",
              "      <th>457</th>\n",
              "      <td>737883</td>\n",
              "      <td>84</td>\n",
              "      <td>2021-04-03</td>\n",
              "    </tr>\n",
              "    <tr>\n",
              "      <th>458</th>\n",
              "      <td>737884</td>\n",
              "      <td>96</td>\n",
              "      <td>2021-04-04</td>\n",
              "    </tr>\n",
              "    <tr>\n",
              "      <th>459</th>\n",
              "      <td>737885</td>\n",
              "      <td>194</td>\n",
              "      <td>2021-04-05</td>\n",
              "    </tr>\n",
              "    <tr>\n",
              "      <th>460</th>\n",
              "      <td>737886</td>\n",
              "      <td>250</td>\n",
              "      <td>2021-04-06</td>\n",
              "    </tr>\n",
              "    <tr>\n",
              "      <th>461</th>\n",
              "      <td>737887</td>\n",
              "      <td>334</td>\n",
              "      <td>2021-04-07</td>\n",
              "    </tr>\n",
              "    <tr>\n",
              "      <th>462</th>\n",
              "      <td>737888</td>\n",
              "      <td>405</td>\n",
              "      <td>2021-04-08</td>\n",
              "    </tr>\n",
              "    <tr>\n",
              "      <th>463</th>\n",
              "      <td>737889</td>\n",
              "      <td>559</td>\n",
              "      <td>2021-04-09</td>\n",
              "    </tr>\n",
              "    <tr>\n",
              "      <th>464</th>\n",
              "      <td>737890</td>\n",
              "      <td>789</td>\n",
              "      <td>2021-04-10</td>\n",
              "    </tr>\n",
              "    <tr>\n",
              "      <th>465</th>\n",
              "      <td>737891</td>\n",
              "      <td>967</td>\n",
              "      <td>2021-04-11</td>\n",
              "    </tr>\n",
              "    <tr>\n",
              "      <th>466</th>\n",
              "      <td>737892</td>\n",
              "      <td>985</td>\n",
              "      <td>2021-04-12</td>\n",
              "    </tr>\n",
              "    <tr>\n",
              "      <th>467</th>\n",
              "      <td>737893</td>\n",
              "      <td>965</td>\n",
              "      <td>2021-04-13</td>\n",
              "    </tr>\n",
              "    <tr>\n",
              "      <th>468</th>\n",
              "      <td>737894</td>\n",
              "      <td>1338</td>\n",
              "      <td>2021-04-14</td>\n",
              "    </tr>\n",
              "    <tr>\n",
              "      <th>469</th>\n",
              "      <td>737895</td>\n",
              "      <td>1543</td>\n",
              "      <td>2021-04-15</td>\n",
              "    </tr>\n",
              "    <tr>\n",
              "      <th>470</th>\n",
              "      <td>737896</td>\n",
              "      <td>1582</td>\n",
              "      <td>2021-04-16</td>\n",
              "    </tr>\n",
              "    <tr>\n",
              "      <th>471</th>\n",
              "      <td>737897</td>\n",
              "      <td>1547</td>\n",
              "      <td>2021-04-17</td>\n",
              "    </tr>\n",
              "    <tr>\n",
              "      <th>472</th>\n",
              "      <td>737898</td>\n",
              "      <td>1767</td>\n",
              "      <td>2021-04-18</td>\n",
              "    </tr>\n",
              "    <tr>\n",
              "      <th>473</th>\n",
              "      <td>737899</td>\n",
              "      <td>1390</td>\n",
              "      <td>2021-04-19</td>\n",
              "    </tr>\n",
              "    <tr>\n",
              "      <th>474</th>\n",
              "      <td>737900</td>\n",
              "      <td>1443</td>\n",
              "      <td>2021-04-20</td>\n",
              "    </tr>\n",
              "    <tr>\n",
              "      <th>475</th>\n",
              "      <td>737901</td>\n",
              "      <td>1458</td>\n",
              "      <td>2021-04-21</td>\n",
              "    </tr>\n",
              "    <tr>\n",
              "      <th>476</th>\n",
              "      <td>737902</td>\n",
              "      <td>1470</td>\n",
              "      <td>2021-04-22</td>\n",
              "    </tr>\n",
              "    <tr>\n",
              "      <th>477</th>\n",
              "      <td>737903</td>\n",
              "      <td>2070</td>\n",
              "      <td>2021-04-23</td>\n",
              "    </tr>\n",
              "    <tr>\n",
              "      <th>478</th>\n",
              "      <td>737904</td>\n",
              "      <td>2839</td>\n",
              "      <td>2021-04-24</td>\n",
              "    </tr>\n",
              "    <tr>\n",
              "      <th>479</th>\n",
              "      <td>737905</td>\n",
              "      <td>2438</td>\n",
              "      <td>2021-04-25</td>\n",
              "    </tr>\n",
              "  </tbody>\n",
              "</table>\n",
              "</div>"
            ],
            "text/plain": [
              "       Date  NewConfirmed   new_date\n",
              "455  737881            26 2021-04-01\n",
              "456  737882            58 2021-04-02\n",
              "457  737883            84 2021-04-03\n",
              "458  737884            96 2021-04-04\n",
              "459  737885           194 2021-04-05\n",
              "460  737886           250 2021-04-06\n",
              "461  737887           334 2021-04-07\n",
              "462  737888           405 2021-04-08\n",
              "463  737889           559 2021-04-09\n",
              "464  737890           789 2021-04-10\n",
              "465  737891           967 2021-04-11\n",
              "466  737892           985 2021-04-12\n",
              "467  737893           965 2021-04-13\n",
              "468  737894          1338 2021-04-14\n",
              "469  737895          1543 2021-04-15\n",
              "470  737896          1582 2021-04-16\n",
              "471  737897          1547 2021-04-17\n",
              "472  737898          1767 2021-04-18\n",
              "473  737899          1390 2021-04-19\n",
              "474  737900          1443 2021-04-20\n",
              "475  737901          1458 2021-04-21\n",
              "476  737902          1470 2021-04-22\n",
              "477  737903          2070 2021-04-23\n",
              "478  737904          2839 2021-04-24\n",
              "479  737905          2438 2021-04-25"
            ]
          },
          "metadata": {
            "tags": []
          },
          "execution_count": 276
        }
      ]
    },
    {
      "cell_type": "code",
      "metadata": {
        "id": "3U725q_Nr1T7",
        "colab": {
          "base_uri": "https://localhost:8080/"
        },
        "outputId": "b4d219f9-c791-47e7-a4ab-5be690d42ddc"
      },
      "source": [
        "from sklearn.model_selection import train_test_split\n",
        "from sklearn.linear_model import LinearRegression\n",
        "\n",
        "x_train = df[['Date']]\n",
        "y_train = df[['NewConfirmed']]\n",
        "\n",
        "# X_train, X_test, y_train, y_test = train_test_split(df[['Date']],df[['NewConfirmed']],train_size=.7,random_state=42)\n",
        "model = LinearRegression() #create linear regression object\n",
        "model.fit(x_train, y_train) #train model on train data\n",
        "# model.score(X_train, y_train) #check score"
      ],
      "execution_count": null,
      "outputs": [
        {
          "output_type": "execute_result",
          "data": {
            "text/plain": [
              "LinearRegression(copy_X=True, fit_intercept=True, n_jobs=None, normalize=False)"
            ]
          },
          "metadata": {
            "tags": []
          },
          "execution_count": 277
        }
      ]
    },
    {
      "cell_type": "code",
      "metadata": {
        "id": "NwCud2kQxTCL",
        "colab": {
          "base_uri": "https://localhost:8080/"
        },
        "outputId": "3ab1d8e3-1bac-4ef5-be1f-ab50cccb262b"
      },
      "source": [
        "model.predict([[737891], [737892]])"
      ],
      "execution_count": null,
      "outputs": [
        {
          "output_type": "execute_result",
          "data": {
            "text/plain": [
              "array([[862.02461538],\n",
              "       [962.95230769]])"
            ]
          },
          "metadata": {
            "tags": []
          },
          "execution_count": 278
        }
      ]
    },
    {
      "cell_type": "markdown",
      "metadata": {
        "id": "PWpvUTDspO4I"
      },
      "source": [
        "เลือกวันนี้, วันที่ต้องการทำนาย"
      ]
    },
    {
      "cell_type": "code",
      "metadata": {
        "id": "fHiDuCPFDdAx"
      },
      "source": [
        "from datetime import datetime\n",
        "# predict = ['2021-04-11','2021-04-12','2021-04-13','2021-04-14','2021-04-15']\n",
        "predict = ['04/%d/2021'%i for i in range(26,30)]\n",
        "date = [[(datetime.strptime(i, '%m/%d/%Y')).toordinal()] for i in predict]\n",
        "# date"
      ],
      "execution_count": null,
      "outputs": []
    },
    {
      "cell_type": "code",
      "metadata": {
        "id": "0Eu4PunErisS",
        "colab": {
          "base_uri": "https://localhost:8080/"
        },
        "outputId": "35efaf73-cccd-4d9b-93fe-8e5411eb45aa"
      },
      "source": [
        "date_for_append = [dt.datetime.strptime(d,'%m/%d/%Y').date() for d in predict]\n",
        "date_for_append"
      ],
      "execution_count": null,
      "outputs": [
        {
          "output_type": "execute_result",
          "data": {
            "text/plain": [
              "[datetime.date(2021, 4, 26),\n",
              " datetime.date(2021, 4, 27),\n",
              " datetime.date(2021, 4, 28),\n",
              " datetime.date(2021, 4, 29)]"
            ]
          },
          "metadata": {
            "tags": []
          },
          "execution_count": 280
        }
      ]
    },
    {
      "cell_type": "code",
      "metadata": {
        "id": "knelX10LYFyX",
        "colab": {
          "base_uri": "https://localhost:8080/"
        },
        "outputId": "4a352176-d190-45ed-d67b-bf14f20f6a73"
      },
      "source": [
        "model.predict(date)"
      ],
      "execution_count": null,
      "outputs": [
        {
          "output_type": "execute_result",
          "data": {
            "text/plain": [
              "array([[2375.93999998],\n",
              "       [2476.86769229],\n",
              "       [2577.7953846 ],\n",
              "       [2678.72307691]])"
            ]
          },
          "metadata": {
            "tags": []
          },
          "execution_count": 281
        }
      ]
    },
    {
      "cell_type": "code",
      "metadata": {
        "id": "2Cu_GESJwyZT"
      },
      "source": [
        "import matplotlib.pyplot as plt\n",
        "import numpy as np\n",
        "from scipy.stats import expon"
      ],
      "execution_count": null,
      "outputs": []
    },
    {
      "cell_type": "code",
      "metadata": {
        "id": "cwAbS0dkqUSv"
      },
      "source": [
        "for i in date_for_append:\n",
        "  x_keep.append(i)\n",
        "\n",
        "for i in model.predict(date):\n",
        "  y_keep.append(int(i))"
      ],
      "execution_count": null,
      "outputs": []
    },
    {
      "cell_type": "code",
      "metadata": {
        "id": "tIrmj2Vytq60"
      },
      "source": [
        "x_ = [str(i) for i in range(1, 22)]"
      ],
      "execution_count": null,
      "outputs": []
    },
    {
      "cell_type": "code",
      "metadata": {
        "id": "LI3O3lRaq8KS",
        "colab": {
          "base_uri": "https://localhost:8080/",
          "height": 422
        },
        "outputId": "66893d47-65ac-4c7a-e7c3-6863097b8c99"
      },
      "source": [
        "import matplotlib.pyplot as plt\n",
        "import matplotlib.dates as mdates\n",
        "from matplotlib.pyplot import figure\n",
        "figure(figsize=(15, 6), dpi=80)\n",
        "plt.gca().xaxis.set_major_formatter(mdates.DateFormatter('%d/%m/%Y'))\n",
        "plt.gca().xaxis.set_major_locator(mdates.DayLocator())\n",
        "plt.bar(x_keep,y_keep, color = 'orange')\n",
        "plt.plot(x_keep,y_keep,'-o')\n",
        "plt.grid(True)\n",
        "plt.xlabel(\"Date\")\n",
        "plt.ylabel(\"NewConfirmed\")\n",
        "plt.gcf().autofmt_xdate()\n",
        "plt.show()"
      ],
      "execution_count": null,
      "outputs": [
        {
          "output_type": "display_data",
          "data": {
            "image/png": "[encoded data removed]",
            "text/plain": [
              "<Figure size 1200x480 with 1 Axes>"
            ]
          },
          "metadata": {
            "tags": [],
            "needs_background": "light"
          }
        }
      ]
    },
    {
      "cell_type": "markdown",
      "metadata": {
        "id": "SnBv9cPrQ-C-"
      },
      "source": [
        "#LSTM"
      ]
    },
    {
      "cell_type": "code",
      "metadata": {
        "id": "6vC5-CtbZAfs",
        "colab": {
          "base_uri": "https://localhost:8080/"
        },
        "outputId": "6e54cf6c-7263-4325-9c7c-f1cdafa257ef"
      },
      "source": [
        "import numpy as np\n",
        "import matplotlib.pyplot as plt\n",
        "import pandas\n",
        "import math\n",
        "from keras.models import Sequential\n",
        "from keras.layers import LSTM,Dense ,Dropout\n",
        "from sklearn.preprocessing import MinMaxScaler\n",
        "from sklearn.metrics import mean_squared_error\n",
        "%tensorflow_version 1.x\n",
        "# Make sure that you have all these libaries available to run the code successfully\n",
        "from pandas_datareader import data\n",
        "import matplotlib.pyplot as plt\n",
        "import pandas as pd\n",
        "import datetime as dt\n",
        "import urllib.request, json\n",
        "import os\n",
        "import numpy as np\n",
        "import tensorflow as tf # This code has been tested with TensorFlow 1.6\n",
        "from sklearn.preprocessing import MinMaxScaler"
      ],
      "execution_count": null,
      "outputs": [
        {
          "output_type": "stream",
          "text": [
            "TensorFlow is already loaded. Please restart the runtime to change versions.\n"
          ],
          "name": "stdout"
        }
      ]
    },
    {
      "cell_type": "code",
      "metadata": {
        "id": "SXikv1ddad5N"
      },
      "source": [
        "L = 10\n",
        "N = 500"
      ],
      "execution_count": null,
      "outputs": []
    },
    {
      "cell_type": "markdown",
      "metadata": {
        "id": "ISTQDfheYmKp"
      },
      "source": [
        "pre-process"
      ]
    },
    {
      "cell_type": "code",
      "metadata": {
        "id": "hu1akK0-Q_1s"
      },
      "source": [
        "list_date = []\n",
        "list_new_confirmed = []\n",
        "for i in new_list_dict:\n",
        "  for key, value in i.items():\n",
        "    if key == 'Date':\n",
        "      list_date_sp = value.split('/')\n",
        "      list_date_sp = [int(i) for i in list_date_sp]\n",
        "      list_date.append(i['Date'])\n",
        "      list_new_confirmed.append(i['NewConfirmed'])"
      ],
      "execution_count": null,
      "outputs": []
    },
    {
      "cell_type": "code",
      "metadata": {
        "id": "nsvGhYu_TgJq"
      },
      "source": [
        "import datetime as dt\n",
        "# dates = ['01/02/1991','01/03/1991','01/04/1991']\n",
        "a = [dt.datetime.strptime(d,'%m/%d/%Y').date() for d in list_date]\n",
        "b = list_new_confirmed"
      ],
      "execution_count": null,
      "outputs": []
    },
    {
      "cell_type": "code",
      "metadata": {
        "id": "iTvCuzMpYXnm"
      },
      "source": [
        "from pandas import DataFrame\n",
        "df = DataFrame(a,columns=['Date'])\n",
        "df['NewConfirmed'] = b\n",
        "df['new_date'] = pd.to_datetime(df['Date'], format='%Y-%m-%d')"
      ],
      "execution_count": null,
      "outputs": []
    },
    {
      "cell_type": "code",
      "metadata": {
        "id": "C2nWnI_SYiv8"
      },
      "source": [
        "from datetime import datetime\n",
        "array_predict = df['NewConfirmed'].to_numpy()"
      ],
      "execution_count": null,
      "outputs": []
    },
    {
      "cell_type": "code",
      "metadata": {
        "id": "gMRqq95IZRmj",
        "colab": {
          "base_uri": "https://localhost:8080/"
        },
        "outputId": "5595e8f9-7fef-448f-8906-9b7fc2bc0d7e"
      },
      "source": [
        "array_predict = array_predict.reshape(-1,1)\n",
        "array_predict"
      ],
      "execution_count": null,
      "outputs": [
        {
          "output_type": "execute_result",
          "data": {
            "text/plain": [
              "array([[   0],\n",
              "       [   0],\n",
              "       [   0],\n",
              "       [   0],\n",
              "       [   0],\n",
              "       [   0],\n",
              "       [   0],\n",
              "       [   0],\n",
              "       [   0],\n",
              "       [   0],\n",
              "       [   0],\n",
              "       [   1],\n",
              "       [   0],\n",
              "       [   0],\n",
              "       [   0],\n",
              "       [   0],\n",
              "       [   1],\n",
              "       [   0],\n",
              "       [   0],\n",
              "       [   0],\n",
              "       [   0],\n",
              "       [   2],\n",
              "       [   0],\n",
              "       [   1],\n",
              "       [   1],\n",
              "       [   2],\n",
              "       [   0],\n",
              "       [   6],\n",
              "       [   0],\n",
              "       [   0],\n",
              "       [   5],\n",
              "       [   0],\n",
              "       [   0],\n",
              "       [   0],\n",
              "       [   6],\n",
              "       [   0],\n",
              "       [   0],\n",
              "       [   0],\n",
              "       [   7],\n",
              "       [   0],\n",
              "       [   0],\n",
              "       [   1],\n",
              "       [   0],\n",
              "       [   0],\n",
              "       [   0],\n",
              "       [   1],\n",
              "       [   0],\n",
              "       [   1],\n",
              "       [   0],\n",
              "       [   0],\n",
              "       [   0],\n",
              "       [   0],\n",
              "       [   0],\n",
              "       [   0],\n",
              "       [   0],\n",
              "       [   2],\n",
              "       [   3],\n",
              "       [   0],\n",
              "       [   1],\n",
              "       [   1],\n",
              "       [   0],\n",
              "       [   1],\n",
              "       [   0],\n",
              "       [   0],\n",
              "       [   4],\n",
              "       [   1],\n",
              "       [   2],\n",
              "       [   0],\n",
              "       [   0],\n",
              "       [   3],\n",
              "       [   6],\n",
              "       [  11],\n",
              "       [   5],\n",
              "       [   7],\n",
              "       [  32],\n",
              "       [  33],\n",
              "       [  30],\n",
              "       [  35],\n",
              "       [  60],\n",
              "       [  50],\n",
              "       [  89],\n",
              "       [ 188],\n",
              "       [ 122],\n",
              "       [ 106],\n",
              "       [ 107],\n",
              "       [ 111],\n",
              "       [  91],\n",
              "       [ 109],\n",
              "       [ 143],\n",
              "       [ 136],\n",
              "       [ 127],\n",
              "       [ 120],\n",
              "       [ 104],\n",
              "       [ 103],\n",
              "       [  89],\n",
              "       [ 102],\n",
              "       [  51],\n",
              "       [  38],\n",
              "       [ 111],\n",
              "       [  54],\n",
              "       [  50],\n",
              "       [  45],\n",
              "       [  33],\n",
              "       [  28],\n",
              "       [  34],\n",
              "       [  30],\n",
              "       [  29],\n",
              "       [  28],\n",
              "       [  33],\n",
              "       [  32],\n",
              "       [  27],\n",
              "       [  19],\n",
              "       [  15],\n",
              "       [  13],\n",
              "       [  15],\n",
              "       [  53],\n",
              "       [  15],\n",
              "       [   9],\n",
              "       [   7],\n",
              "       [   9],\n",
              "       [   7],\n",
              "       [   6],\n",
              "       [   6],\n",
              "       [   3],\n",
              "       [  18],\n",
              "       [   1],\n",
              "       [   1],\n",
              "       [   3],\n",
              "       [   8],\n",
              "       [   4],\n",
              "       [   5],\n",
              "       [   6],\n",
              "       [   2],\n",
              "       [   0],\n",
              "       [   1],\n",
              "       [   7],\n",
              "       [   0],\n",
              "       [   3],\n",
              "       [   3],\n",
              "       [   2],\n",
              "       [   1],\n",
              "       [   3],\n",
              "       [   0],\n",
              "       [   3],\n",
              "       [   0],\n",
              "       [   2],\n",
              "       [   3],\n",
              "       [   9],\n",
              "       [  11],\n",
              "       [  11],\n",
              "       [   1],\n",
              "       [   4],\n",
              "       [   1],\n",
              "       [   1],\n",
              "       [   1],\n",
              "       [  17],\n",
              "       [   1],\n",
              "       [   2],\n",
              "       [   8],\n",
              "       [   7],\n",
              "       [   2],\n",
              "       [   4],\n",
              "       [   0],\n",
              "       [   4],\n",
              "       [   5],\n",
              "       [   1],\n",
              "       [   0],\n",
              "       [   0],\n",
              "       [   0],\n",
              "       [   6],\n",
              "       [   5],\n",
              "       [   1],\n",
              "       [   1],\n",
              "       [   3],\n",
              "       [   5],\n",
              "       [   1],\n",
              "       [   1],\n",
              "       [   4],\n",
              "       [   0],\n",
              "       [   0],\n",
              "       [   7],\n",
              "       [   2],\n",
              "       [   2],\n",
              "       [   6],\n",
              "       [   1],\n",
              "       [   5],\n",
              "       [   5],\n",
              "       [   5],\n",
              "       [   0],\n",
              "       [   2],\n",
              "       [   5],\n",
              "       [   0],\n",
              "       [  14],\n",
              "       [   1],\n",
              "       [   3],\n",
              "       [   7],\n",
              "       [   5],\n",
              "       [   4],\n",
              "       [   3],\n",
              "       [   7],\n",
              "       [   3],\n",
              "       [   1],\n",
              "       [   5],\n",
              "       [   6],\n",
              "       [   8],\n",
              "       [  10],\n",
              "       [   3],\n",
              "       [   9],\n",
              "       [   4],\n",
              "       [   2],\n",
              "       [   1],\n",
              "       [   6],\n",
              "       [   6],\n",
              "       [   2],\n",
              "       [   5],\n",
              "       [   3],\n",
              "       [   1],\n",
              "       [   7],\n",
              "       [   2],\n",
              "       [  15],\n",
              "       [   3],\n",
              "       [   3],\n",
              "       [   0],\n",
              "       [   0],\n",
              "       [   5],\n",
              "       [   3],\n",
              "       [  17],\n",
              "       [   0],\n",
              "       [   1],\n",
              "       [   1],\n",
              "       [   3],\n",
              "       [   1],\n",
              "       [   7],\n",
              "       [   1],\n",
              "       [   0],\n",
              "       [   5],\n",
              "       [   2],\n",
              "       [   5],\n",
              "       [   1],\n",
              "       [   1],\n",
              "       [   6],\n",
              "       [   1],\n",
              "       [   0],\n",
              "       [   1],\n",
              "       [   5],\n",
              "       [   8],\n",
              "       [   2],\n",
              "       [   4],\n",
              "       [   7],\n",
              "       [   6],\n",
              "       [   1],\n",
              "       [   1],\n",
              "       [   1],\n",
              "       [   7],\n",
              "       [   7],\n",
              "       [   5],\n",
              "       [   7],\n",
              "       [   2],\n",
              "       [   5],\n",
              "       [  10],\n",
              "       [   0],\n",
              "       [   7],\n",
              "       [   3],\n",
              "       [   6],\n",
              "       [   5],\n",
              "       [   3],\n",
              "       [   2],\n",
              "       [   3],\n",
              "       [   3],\n",
              "       [   1],\n",
              "       [  22],\n",
              "       [  14],\n",
              "       [   5],\n",
              "       [   5],\n",
              "       [   6],\n",
              "       [   8],\n",
              "       [   2],\n",
              "       [   5],\n",
              "       [  10],\n",
              "       [  15],\n",
              "       [   7],\n",
              "       [   6],\n",
              "       [   6],\n",
              "       [   2],\n",
              "       [   5],\n",
              "       [   2],\n",
              "       [   9],\n",
              "       [  13],\n",
              "       [  10],\n",
              "       [   4],\n",
              "       [   7],\n",
              "       [   5],\n",
              "       [   9],\n",
              "       [   9],\n",
              "       [  10],\n",
              "       [   8],\n",
              "       [   4],\n",
              "       [   5],\n",
              "       [   7],\n",
              "       [   3],\n",
              "       [  13],\n",
              "       [   4],\n",
              "       [  12],\n",
              "       [   5],\n",
              "       [   4],\n",
              "       [   3],\n",
              "       [  10],\n",
              "       [   7],\n",
              "       [   6],\n",
              "       [   8],\n",
              "       [  12],\n",
              "       [   7],\n",
              "       [   3],\n",
              "       [   4],\n",
              "       [   3],\n",
              "       [   5],\n",
              "       [   9],\n",
              "       [   5],\n",
              "       [   8],\n",
              "       [   1],\n",
              "       [   3],\n",
              "       [   2],\n",
              "       [   8],\n",
              "       [   4],\n",
              "       [   7],\n",
              "       [  11],\n",
              "       [  10],\n",
              "       [   2],\n",
              "       [   4],\n",
              "       [  16],\n",
              "       [  19],\n",
              "       [   5],\n",
              "       [  11],\n",
              "       [  21],\n",
              "       [  10],\n",
              "       [  18],\n",
              "       [  13],\n",
              "       [  14],\n",
              "       [  19],\n",
              "       [  14],\n",
              "       [  21],\n",
              "       [  19],\n",
              "       [  25],\n",
              "       [  18],\n",
              "       [  11],\n",
              "       [  12],\n",
              "       [  17],\n",
              "       [  28],\n",
              "       [   9],\n",
              "       [  15],\n",
              "       [  20],\n",
              "       [  16],\n",
              "       [  34],\n",
              "       [ 576],\n",
              "       [ 382],\n",
              "       [ 427],\n",
              "       [  46],\n",
              "       [  67],\n",
              "       [  81],\n",
              "       [ 110],\n",
              "       [ 121],\n",
              "       [ 144],\n",
              "       [ 155],\n",
              "       [ 250],\n",
              "       [ 194],\n",
              "       [ 279],\n",
              "       [ 216],\n",
              "       [ 315],\n",
              "       [ 745],\n",
              "       [ 527],\n",
              "       [ 365],\n",
              "       [ 305],\n",
              "       [ 205],\n",
              "       [ 212],\n",
              "       [ 245],\n",
              "       [ 249],\n",
              "       [ 287],\n",
              "       [ 157],\n",
              "       [ 271],\n",
              "       [ 188],\n",
              "       [ 230],\n",
              "       [ 374],\n",
              "       [ 369],\n",
              "       [ 171],\n",
              "       [  59],\n",
              "       [ 142],\n",
              "       [ 309],\n",
              "       [ 198],\n",
              "       [ 198],\n",
              "       [ 187],\n",
              "       [ 959],\n",
              "       [ 819],\n",
              "       [ 756],\n",
              "       [ 802],\n",
              "       [ 930],\n",
              "       [ 829],\n",
              "       [ 836],\n",
              "       [ 836],\n",
              "       [ 795],\n",
              "       [ 809],\n",
              "       [ 586],\n",
              "       [ 490],\n",
              "       [ 237],\n",
              "       [ 186],\n",
              "       [ 189],\n",
              "       [ 157],\n",
              "       [ 201],\n",
              "       [ 175],\n",
              "       [ 126],\n",
              "       [ 166],\n",
              "       [ 143],\n",
              "       [  72],\n",
              "       [ 175],\n",
              "       [ 150],\n",
              "       [ 130],\n",
              "       [  82],\n",
              "       [  92],\n",
              "       [  89],\n",
              "       [  95],\n",
              "       [  93],\n",
              "       [  72],\n",
              "       [  45],\n",
              "       [  72],\n",
              "       [  70],\n",
              "       [  80],\n",
              "       [  42],\n",
              "       [  35],\n",
              "       [  54],\n",
              "       [  79],\n",
              "       [  64],\n",
              "       [  65],\n",
              "       [  71],\n",
              "       [  60],\n",
              "       [  39],\n",
              "       [  58],\n",
              "       [  81],\n",
              "       [  78],\n",
              "       [ 170],\n",
              "       [  78],\n",
              "       [ 149],\n",
              "       [ 248],\n",
              "       [  92],\n",
              "       [ 100],\n",
              "       [ 119],\n",
              "       [  90],\n",
              "       [  73],\n",
              "       [ 401],\n",
              "       [  69],\n",
              "       [  97],\n",
              "       [ 134],\n",
              "       [  80],\n",
              "       [  77],\n",
              "       [  39],\n",
              "       [  48],\n",
              "       [  42],\n",
              "       [  26],\n",
              "       [  58],\n",
              "       [  84],\n",
              "       [  96],\n",
              "       [ 194],\n",
              "       [ 250],\n",
              "       [ 334],\n",
              "       [ 405],\n",
              "       [ 559],\n",
              "       [ 789],\n",
              "       [ 967],\n",
              "       [ 985],\n",
              "       [ 965],\n",
              "       [1338],\n",
              "       [1543],\n",
              "       [1582],\n",
              "       [1547],\n",
              "       [1767],\n",
              "       [1390],\n",
              "       [1443],\n",
              "       [1458],\n",
              "       [1470],\n",
              "       [2070],\n",
              "       [2839],\n",
              "       [2438]])"
            ]
          },
          "metadata": {
            "tags": []
          },
          "execution_count": 292
        }
      ]
    },
    {
      "cell_type": "code",
      "metadata": {
        "id": "GhqKo5MMYjMF"
      },
      "source": [
        "scaler = MinMaxScaler(feature_range=(0, 1))\n",
        "dataframe = scaler.fit_transform(array_predict)"
      ],
      "execution_count": null,
      "outputs": []
    },
    {
      "cell_type": "code",
      "metadata": {
        "id": "B6fbRwXWY7nn",
        "colab": {
          "base_uri": "https://localhost:8080/"
        },
        "outputId": "b04203b6-6f37-4605-a7a5-89113b67d197"
      },
      "source": [
        "# convert value between 0-1\n",
        "scaler = MinMaxScaler(feature_range=(0, 1))\n",
        "dataframe = scaler.fit_transform(dataframe)\n",
        "len(dataframe)"
      ],
      "execution_count": null,
      "outputs": [
        {
          "output_type": "execute_result",
          "data": {
            "text/plain": [
              "480"
            ]
          },
          "metadata": {
            "tags": []
          },
          "execution_count": 294
        }
      ]
    },
    {
      "cell_type": "code",
      "metadata": {
        "id": "OQd-qHO3bk73"
      },
      "source": [
        "df['normalize_value'] = pd.DataFrame.from_records(dataframe)\n",
        "# df"
      ],
      "execution_count": null,
      "outputs": []
    },
    {
      "cell_type": "code",
      "metadata": {
        "id": "oyrs9Aq9cZIA"
      },
      "source": [
        "x_train = []\n",
        "y_train = []\n",
        "\n",
        "n_future = 7 # next 7 days temperature forecast\n",
        "n_past = 20 # Past 120 days \n",
        " \n",
        "for i in range(0,len(dataframe)-n_past-n_future+1): # จำนวน feature - วันในอดีตที่ต้องการนำมาเรียนรู้ - วันในอนาคต + 1\n",
        "  x_train.append(dataframe[i : i + n_past , 0])     \n",
        "  y_train.append(dataframe[i + n_past : i + n_past + n_future , 0 ])\n",
        "\n",
        "x_train , y_train = np.array(x_train), np.array(y_train)\n",
        "x_train = np.reshape(x_train, (x_train.shape[0] , x_train.shape[1], 1) )"
      ],
      "execution_count": null,
      "outputs": []
    },
    {
      "cell_type": "code",
      "metadata": {
        "id": "jQp5_X3Heo4A",
        "colab": {
          "base_uri": "https://localhost:8080/"
        },
        "outputId": "bd170635-dafa-465f-b4a9-3b17f0701de8"
      },
      "source": [
        "regressor = Sequential()\n",
        "regressor.add(LSTM(units = 3, return_sequences = True, input_shape = (x_train.shape[1], 1)))\n",
        "regressor.add(Dropout(rate = 0.2))\n",
        "##add 3 lstm layer\n",
        "regressor.add(LSTM(units = 3, return_sequences = False))\n",
        "regressor.add(Dropout(rate = 0.2))\n",
        "\n",
        "regressor.add(Dense(units = 1))\n",
        "\n",
        "regressor.compile(optimizer = 'adam', loss = 'mean_squared_error')\n",
        "\n",
        "regressor.fit(x = x_train, y = y_train, batch_size = 3, epochs = 50)"
      ],
      "execution_count": null,
      "outputs": [
        {
          "output_type": "stream",
          "text": [
            "Epoch 1/50\n",
            "152/152 [==============================] - 6s 15ms/step - loss: 0.0063\n",
            "Epoch 2/50\n",
            "152/152 [==============================] - 3s 17ms/step - loss: 0.0075\n",
            "Epoch 3/50\n",
            "152/152 [==============================] - 3s 16ms/step - loss: 0.0053\n",
            "Epoch 4/50\n",
            "152/152 [==============================] - 2s 16ms/step - loss: 0.0062\n",
            "Epoch 5/50\n",
            "152/152 [==============================] - 2s 15ms/step - loss: 0.0063\n",
            "Epoch 6/50\n",
            "152/152 [==============================] - 2s 15ms/step - loss: 0.0088\n",
            "Epoch 7/50\n",
            "152/152 [==============================] - 2s 15ms/step - loss: 0.0054\n",
            "Epoch 8/50\n",
            "152/152 [==============================] - 2s 15ms/step - loss: 0.0059\n",
            "Epoch 9/50\n",
            "152/152 [==============================] - 2s 15ms/step - loss: 0.0054\n",
            "Epoch 10/50\n",
            "152/152 [==============================] - 2s 16ms/step - loss: 0.0056\n",
            "Epoch 11/50\n",
            "152/152 [==============================] - 2s 15ms/step - loss: 0.0044\n",
            "Epoch 12/50\n",
            "152/152 [==============================] - 2s 16ms/step - loss: 0.0037\n",
            "Epoch 13/50\n",
            "152/152 [==============================] - 2s 16ms/step - loss: 0.0062\n",
            "Epoch 14/50\n",
            "152/152 [==============================] - 2s 16ms/step - loss: 0.0057\n",
            "Epoch 15/50\n",
            "152/152 [==============================] - 2s 16ms/step - loss: 0.0058\n",
            "Epoch 16/50\n",
            "152/152 [==============================] - 2s 15ms/step - loss: 0.0057\n",
            "Epoch 17/50\n",
            "152/152 [==============================] - 2s 16ms/step - loss: 0.0059\n",
            "Epoch 18/50\n",
            "152/152 [==============================] - 2s 16ms/step - loss: 0.0068\n",
            "Epoch 19/50\n",
            "152/152 [==============================] - 2s 16ms/step - loss: 0.0052\n",
            "Epoch 20/50\n",
            "152/152 [==============================] - 2s 16ms/step - loss: 0.0051\n",
            "Epoch 21/50\n",
            "152/152 [==============================] - 3s 16ms/step - loss: 0.0042\n",
            "Epoch 22/50\n",
            "152/152 [==============================] - 2s 16ms/step - loss: 0.0041\n",
            "Epoch 23/50\n",
            "152/152 [==============================] - 2s 16ms/step - loss: 0.0039\n",
            "Epoch 24/50\n",
            "152/152 [==============================] - 2s 16ms/step - loss: 0.0056\n",
            "Epoch 25/50\n",
            "152/152 [==============================] - 2s 16ms/step - loss: 0.0038\n",
            "Epoch 26/50\n",
            "152/152 [==============================] - 2s 16ms/step - loss: 0.0038\n",
            "Epoch 27/50\n",
            "152/152 [==============================] - 2s 16ms/step - loss: 0.0056\n",
            "Epoch 28/50\n",
            "152/152 [==============================] - 2s 16ms/step - loss: 0.0050\n",
            "Epoch 29/50\n",
            "152/152 [==============================] - 2s 16ms/step - loss: 0.0038\n",
            "Epoch 30/50\n",
            "152/152 [==============================] - 2s 15ms/step - loss: 0.0043\n",
            "Epoch 31/50\n",
            "152/152 [==============================] - 2s 16ms/step - loss: 0.0036\n",
            "Epoch 32/50\n",
            "152/152 [==============================] - 2s 16ms/step - loss: 0.0047\n",
            "Epoch 33/50\n",
            "152/152 [==============================] - 2s 16ms/step - loss: 0.0030\n",
            "Epoch 34/50\n",
            "152/152 [==============================] - 2s 16ms/step - loss: 0.0038\n",
            "Epoch 35/50\n",
            "152/152 [==============================] - 2s 15ms/step - loss: 0.0039\n",
            "Epoch 36/50\n",
            "152/152 [==============================] - 2s 16ms/step - loss: 0.0044\n",
            "Epoch 37/50\n",
            "152/152 [==============================] - 2s 15ms/step - loss: 0.0036\n",
            "Epoch 38/50\n",
            "152/152 [==============================] - 2s 15ms/step - loss: 0.0044\n",
            "Epoch 39/50\n",
            "152/152 [==============================] - 2s 15ms/step - loss: 0.0035\n",
            "Epoch 40/50\n",
            "152/152 [==============================] - 2s 15ms/step - loss: 0.0059\n",
            "Epoch 41/50\n",
            "152/152 [==============================] - 2s 15ms/step - loss: 0.0047\n",
            "Epoch 42/50\n",
            "152/152 [==============================] - 2s 15ms/step - loss: 0.0035\n",
            "Epoch 43/50\n",
            "152/152 [==============================] - 2s 15ms/step - loss: 0.0035\n",
            "Epoch 44/50\n",
            "152/152 [==============================] - 2s 15ms/step - loss: 0.0034\n",
            "Epoch 45/50\n",
            "152/152 [==============================] - 2s 15ms/step - loss: 0.0040\n",
            "Epoch 46/50\n",
            "152/152 [==============================] - 2s 15ms/step - loss: 0.0064\n",
            "Epoch 47/50\n",
            "152/152 [==============================] - 2s 15ms/step - loss: 0.0038\n",
            "Epoch 48/50\n",
            "152/152 [==============================] - 2s 14ms/step - loss: 0.0035\n",
            "Epoch 49/50\n",
            "152/152 [==============================] - 2s 14ms/step - loss: 0.0047\n",
            "Epoch 50/50\n",
            "152/152 [==============================] - 2s 15ms/step - loss: 0.0051\n"
          ],
          "name": "stdout"
        },
        {
          "output_type": "execute_result",
          "data": {
            "text/plain": [
              "<tensorflow.python.keras.callbacks.History at 0x7f639c3cd450>"
            ]
          },
          "metadata": {
            "tags": []
          },
          "execution_count": 297
        }
      ]
    },
    {
      "cell_type": "code",
      "metadata": {
        "id": "A5KsyIz_pO4C",
        "colab": {
          "base_uri": "https://localhost:8080/",
          "height": 404
        },
        "outputId": "50601c73-23bb-4946-ce07-c356996336b4"
      },
      "source": [
        "df"
      ],
      "execution_count": null,
      "outputs": [
        {
          "output_type": "execute_result",
          "data": {
            "text/html": [
              "<div>\n",
              "<style scoped>\n",
              "    .dataframe tbody tr th:only-of-type {\n",
              "        vertical-align: middle;\n",
              "    }\n",
              "\n",
              "    .dataframe tbody tr th {\n",
              "        vertical-align: top;\n",
              "    }\n",
              "\n",
              "    .dataframe thead th {\n",
              "        text-align: right;\n",
              "    }\n",
              "</style>\n",
              "<table border=\"1\" class=\"dataframe\">\n",
              "  <thead>\n",
              "    <tr style=\"text-align: right;\">\n",
              "      <th></th>\n",
              "      <th>Date</th>\n",
              "      <th>NewConfirmed</th>\n",
              "      <th>new_date</th>\n",
              "      <th>normalize_value</th>\n",
              "    </tr>\n",
              "  </thead>\n",
              "  <tbody>\n",
              "    <tr>\n",
              "      <th>0</th>\n",
              "      <td>2020-01-01</td>\n",
              "      <td>0</td>\n",
              "      <td>2020-01-01</td>\n",
              "      <td>0.000000</td>\n",
              "    </tr>\n",
              "    <tr>\n",
              "      <th>1</th>\n",
              "      <td>2020-01-02</td>\n",
              "      <td>0</td>\n",
              "      <td>2020-01-02</td>\n",
              "      <td>0.000000</td>\n",
              "    </tr>\n",
              "    <tr>\n",
              "      <th>2</th>\n",
              "      <td>2020-01-03</td>\n",
              "      <td>0</td>\n",
              "      <td>2020-01-03</td>\n",
              "      <td>0.000000</td>\n",
              "    </tr>\n",
              "    <tr>\n",
              "      <th>3</th>\n",
              "      <td>2020-01-04</td>\n",
              "      <td>0</td>\n",
              "      <td>2020-01-04</td>\n",
              "      <td>0.000000</td>\n",
              "    </tr>\n",
              "    <tr>\n",
              "      <th>4</th>\n",
              "      <td>2020-01-05</td>\n",
              "      <td>0</td>\n",
              "      <td>2020-01-05</td>\n",
              "      <td>0.000000</td>\n",
              "    </tr>\n",
              "    <tr>\n",
              "      <th>...</th>\n",
              "      <td>...</td>\n",
              "      <td>...</td>\n",
              "      <td>...</td>\n",
              "      <td>...</td>\n",
              "    </tr>\n",
              "    <tr>\n",
              "      <th>475</th>\n",
              "      <td>2021-04-21</td>\n",
              "      <td>1458</td>\n",
              "      <td>2021-04-21</td>\n",
              "      <td>0.513561</td>\n",
              "    </tr>\n",
              "    <tr>\n",
              "      <th>476</th>\n",
              "      <td>2021-04-22</td>\n",
              "      <td>1470</td>\n",
              "      <td>2021-04-22</td>\n",
              "      <td>0.517788</td>\n",
              "    </tr>\n",
              "    <tr>\n",
              "      <th>477</th>\n",
              "      <td>2021-04-23</td>\n",
              "      <td>2070</td>\n",
              "      <td>2021-04-23</td>\n",
              "      <td>0.729130</td>\n",
              "    </tr>\n",
              "    <tr>\n",
              "      <th>478</th>\n",
              "      <td>2021-04-24</td>\n",
              "      <td>2839</td>\n",
              "      <td>2021-04-24</td>\n",
              "      <td>1.000000</td>\n",
              "    </tr>\n",
              "    <tr>\n",
              "      <th>479</th>\n",
              "      <td>2021-04-25</td>\n",
              "      <td>2438</td>\n",
              "      <td>2021-04-25</td>\n",
              "      <td>0.858753</td>\n",
              "    </tr>\n",
              "  </tbody>\n",
              "</table>\n",
              "<p>480 rows × 4 columns</p>\n",
              "</div>"
            ],
            "text/plain": [
              "           Date  NewConfirmed   new_date  normalize_value\n",
              "0    2020-01-01             0 2020-01-01         0.000000\n",
              "1    2020-01-02             0 2020-01-02         0.000000\n",
              "2    2020-01-03             0 2020-01-03         0.000000\n",
              "3    2020-01-04             0 2020-01-04         0.000000\n",
              "4    2020-01-05             0 2020-01-05         0.000000\n",
              "..          ...           ...        ...              ...\n",
              "475  2021-04-21          1458 2021-04-21         0.513561\n",
              "476  2021-04-22          1470 2021-04-22         0.517788\n",
              "477  2021-04-23          2070 2021-04-23         0.729130\n",
              "478  2021-04-24          2839 2021-04-24         1.000000\n",
              "479  2021-04-25          2438 2021-04-25         0.858753\n",
              "\n",
              "[480 rows x 4 columns]"
            ]
          },
          "metadata": {
            "tags": []
          },
          "execution_count": 298
        }
      ]
    },
    {
      "cell_type": "code",
      "metadata": {
        "id": "Jg78bGDonTgO"
      },
      "source": [
        "def rev_min_max_func(scaled_val):\n",
        "    max_val = max(df['NewConfirmed'])\n",
        "    min_val = min(df['NewConfirmed'])\n",
        "    og_val = (scaled_val*(max_val - min_val)) + min_val\n",
        "    return og_val"
      ],
      "execution_count": null,
      "outputs": []
    },
    {
      "cell_type": "code",
      "metadata": {
        "id": "hDVXa6f7mui8",
        "colab": {
          "base_uri": "https://localhost:8080/"
        },
        "outputId": "4af4ff20-d1c6-41d9-a166-9544f8cd76bc"
      },
      "source": [
        "testdataset = df.iloc[100:,3:4].values # ต้องการทำนาย 7 วันเลย เอาข้อมูล shift ไป 7 วัน\n",
        "testdataset"
      ],
      "execution_count": null,
      "outputs": [
        {
          "output_type": "execute_result",
          "data": {
            "text/plain": [
              "array([[1.76118352e-02],\n",
              "       [1.58506516e-02],\n",
              "       [1.16238112e-02],\n",
              "       [9.86262769e-03],\n",
              "       [1.19760479e-02],\n",
              "       [1.05671011e-02],\n",
              "       [1.02148644e-02],\n",
              "       [9.86262769e-03],\n",
              "       [1.16238112e-02],\n",
              "       [1.12715745e-02],\n",
              "       [9.51039098e-03],\n",
              "       [6.69249736e-03],\n",
              "       [5.28355055e-03],\n",
              "       [4.57907714e-03],\n",
              "       [5.28355055e-03],\n",
              "       [1.86685453e-02],\n",
              "       [5.28355055e-03],\n",
              "       [3.17013033e-03],\n",
              "       [2.46565692e-03],\n",
              "       [3.17013033e-03],\n",
              "       [2.46565692e-03],\n",
              "       [2.11342022e-03],\n",
              "       [2.11342022e-03],\n",
              "       [1.05671011e-03],\n",
              "       [6.34026066e-03],\n",
              "       [3.52236703e-04],\n",
              "       [3.52236703e-04],\n",
              "       [1.05671011e-03],\n",
              "       [2.81789362e-03],\n",
              "       [1.40894681e-03],\n",
              "       [1.76118352e-03],\n",
              "       [2.11342022e-03],\n",
              "       [7.04473406e-04],\n",
              "       [0.00000000e+00],\n",
              "       [3.52236703e-04],\n",
              "       [2.46565692e-03],\n",
              "       [0.00000000e+00],\n",
              "       [1.05671011e-03],\n",
              "       [1.05671011e-03],\n",
              "       [7.04473406e-04],\n",
              "       [3.52236703e-04],\n",
              "       [1.05671011e-03],\n",
              "       [0.00000000e+00],\n",
              "       [1.05671011e-03],\n",
              "       [0.00000000e+00],\n",
              "       [7.04473406e-04],\n",
              "       [1.05671011e-03],\n",
              "       [3.17013033e-03],\n",
              "       [3.87460373e-03],\n",
              "       [3.87460373e-03],\n",
              "       [3.52236703e-04],\n",
              "       [1.40894681e-03],\n",
              "       [3.52236703e-04],\n",
              "       [3.52236703e-04],\n",
              "       [3.52236703e-04],\n",
              "       [5.98802395e-03],\n",
              "       [3.52236703e-04],\n",
              "       [7.04473406e-04],\n",
              "       [2.81789362e-03],\n",
              "       [2.46565692e-03],\n",
              "       [7.04473406e-04],\n",
              "       [1.40894681e-03],\n",
              "       [0.00000000e+00],\n",
              "       [1.40894681e-03],\n",
              "       [1.76118352e-03],\n",
              "       [3.52236703e-04],\n",
              "       [0.00000000e+00],\n",
              "       [0.00000000e+00],\n",
              "       [0.00000000e+00],\n",
              "       [2.11342022e-03],\n",
              "       [1.76118352e-03],\n",
              "       [3.52236703e-04],\n",
              "       [3.52236703e-04],\n",
              "       [1.05671011e-03],\n",
              "       [1.76118352e-03],\n",
              "       [3.52236703e-04],\n",
              "       [3.52236703e-04],\n",
              "       [1.40894681e-03],\n",
              "       [0.00000000e+00],\n",
              "       [0.00000000e+00],\n",
              "       [2.46565692e-03],\n",
              "       [7.04473406e-04],\n",
              "       [7.04473406e-04],\n",
              "       [2.11342022e-03],\n",
              "       [3.52236703e-04],\n",
              "       [1.76118352e-03],\n",
              "       [1.76118352e-03],\n",
              "       [1.76118352e-03],\n",
              "       [0.00000000e+00],\n",
              "       [7.04473406e-04],\n",
              "       [1.76118352e-03],\n",
              "       [0.00000000e+00],\n",
              "       [4.93131384e-03],\n",
              "       [3.52236703e-04],\n",
              "       [1.05671011e-03],\n",
              "       [2.46565692e-03],\n",
              "       [1.76118352e-03],\n",
              "       [1.40894681e-03],\n",
              "       [1.05671011e-03],\n",
              "       [2.46565692e-03],\n",
              "       [1.05671011e-03],\n",
              "       [3.52236703e-04],\n",
              "       [1.76118352e-03],\n",
              "       [2.11342022e-03],\n",
              "       [2.81789362e-03],\n",
              "       [3.52236703e-03],\n",
              "       [1.05671011e-03],\n",
              "       [3.17013033e-03],\n",
              "       [1.40894681e-03],\n",
              "       [7.04473406e-04],\n",
              "       [3.52236703e-04],\n",
              "       [2.11342022e-03],\n",
              "       [2.11342022e-03],\n",
              "       [7.04473406e-04],\n",
              "       [1.76118352e-03],\n",
              "       [1.05671011e-03],\n",
              "       [3.52236703e-04],\n",
              "       [2.46565692e-03],\n",
              "       [7.04473406e-04],\n",
              "       [5.28355055e-03],\n",
              "       [1.05671011e-03],\n",
              "       [1.05671011e-03],\n",
              "       [0.00000000e+00],\n",
              "       [0.00000000e+00],\n",
              "       [1.76118352e-03],\n",
              "       [1.05671011e-03],\n",
              "       [5.98802395e-03],\n",
              "       [0.00000000e+00],\n",
              "       [3.52236703e-04],\n",
              "       [3.52236703e-04],\n",
              "       [1.05671011e-03],\n",
              "       [3.52236703e-04],\n",
              "       [2.46565692e-03],\n",
              "       [3.52236703e-04],\n",
              "       [0.00000000e+00],\n",
              "       [1.76118352e-03],\n",
              "       [7.04473406e-04],\n",
              "       [1.76118352e-03],\n",
              "       [3.52236703e-04],\n",
              "       [3.52236703e-04],\n",
              "       [2.11342022e-03],\n",
              "       [3.52236703e-04],\n",
              "       [0.00000000e+00],\n",
              "       [3.52236703e-04],\n",
              "       [1.76118352e-03],\n",
              "       [2.81789362e-03],\n",
              "       [7.04473406e-04],\n",
              "       [1.40894681e-03],\n",
              "       [2.46565692e-03],\n",
              "       [2.11342022e-03],\n",
              "       [3.52236703e-04],\n",
              "       [3.52236703e-04],\n",
              "       [3.52236703e-04],\n",
              "       [2.46565692e-03],\n",
              "       [2.46565692e-03],\n",
              "       [1.76118352e-03],\n",
              "       [2.46565692e-03],\n",
              "       [7.04473406e-04],\n",
              "       [1.76118352e-03],\n",
              "       [3.52236703e-03],\n",
              "       [0.00000000e+00],\n",
              "       [2.46565692e-03],\n",
              "       [1.05671011e-03],\n",
              "       [2.11342022e-03],\n",
              "       [1.76118352e-03],\n",
              "       [1.05671011e-03],\n",
              "       [7.04473406e-04],\n",
              "       [1.05671011e-03],\n",
              "       [1.05671011e-03],\n",
              "       [3.52236703e-04],\n",
              "       [7.74920747e-03],\n",
              "       [4.93131384e-03],\n",
              "       [1.76118352e-03],\n",
              "       [1.76118352e-03],\n",
              "       [2.11342022e-03],\n",
              "       [2.81789362e-03],\n",
              "       [7.04473406e-04],\n",
              "       [1.76118352e-03],\n",
              "       [3.52236703e-03],\n",
              "       [5.28355055e-03],\n",
              "       [2.46565692e-03],\n",
              "       [2.11342022e-03],\n",
              "       [2.11342022e-03],\n",
              "       [7.04473406e-04],\n",
              "       [1.76118352e-03],\n",
              "       [7.04473406e-04],\n",
              "       [3.17013033e-03],\n",
              "       [4.57907714e-03],\n",
              "       [3.52236703e-03],\n",
              "       [1.40894681e-03],\n",
              "       [2.46565692e-03],\n",
              "       [1.76118352e-03],\n",
              "       [3.17013033e-03],\n",
              "       [3.17013033e-03],\n",
              "       [3.52236703e-03],\n",
              "       [2.81789362e-03],\n",
              "       [1.40894681e-03],\n",
              "       [1.76118352e-03],\n",
              "       [2.46565692e-03],\n",
              "       [1.05671011e-03],\n",
              "       [4.57907714e-03],\n",
              "       [1.40894681e-03],\n",
              "       [4.22684044e-03],\n",
              "       [1.76118352e-03],\n",
              "       [1.40894681e-03],\n",
              "       [1.05671011e-03],\n",
              "       [3.52236703e-03],\n",
              "       [2.46565692e-03],\n",
              "       [2.11342022e-03],\n",
              "       [2.81789362e-03],\n",
              "       [4.22684044e-03],\n",
              "       [2.46565692e-03],\n",
              "       [1.05671011e-03],\n",
              "       [1.40894681e-03],\n",
              "       [1.05671011e-03],\n",
              "       [1.76118352e-03],\n",
              "       [3.17013033e-03],\n",
              "       [1.76118352e-03],\n",
              "       [2.81789362e-03],\n",
              "       [3.52236703e-04],\n",
              "       [1.05671011e-03],\n",
              "       [7.04473406e-04],\n",
              "       [2.81789362e-03],\n",
              "       [1.40894681e-03],\n",
              "       [2.46565692e-03],\n",
              "       [3.87460373e-03],\n",
              "       [3.52236703e-03],\n",
              "       [7.04473406e-04],\n",
              "       [1.40894681e-03],\n",
              "       [5.63578725e-03],\n",
              "       [6.69249736e-03],\n",
              "       [1.76118352e-03],\n",
              "       [3.87460373e-03],\n",
              "       [7.39697076e-03],\n",
              "       [3.52236703e-03],\n",
              "       [6.34026066e-03],\n",
              "       [4.57907714e-03],\n",
              "       [4.93131384e-03],\n",
              "       [6.69249736e-03],\n",
              "       [4.93131384e-03],\n",
              "       [7.39697076e-03],\n",
              "       [6.69249736e-03],\n",
              "       [8.80591758e-03],\n",
              "       [6.34026066e-03],\n",
              "       [3.87460373e-03],\n",
              "       [4.22684044e-03],\n",
              "       [5.98802395e-03],\n",
              "       [9.86262769e-03],\n",
              "       [3.17013033e-03],\n",
              "       [5.28355055e-03],\n",
              "       [7.04473406e-03],\n",
              "       [5.63578725e-03],\n",
              "       [1.19760479e-02],\n",
              "       [2.02888341e-01],\n",
              "       [1.34554421e-01],\n",
              "       [1.50405072e-01],\n",
              "       [1.62028883e-02],\n",
              "       [2.35998591e-02],\n",
              "       [2.85311729e-02],\n",
              "       [3.87460373e-02],\n",
              "       [4.26206411e-02],\n",
              "       [5.07220852e-02],\n",
              "       [5.45966890e-02],\n",
              "       [8.80591758e-02],\n",
              "       [6.83339204e-02],\n",
              "       [9.82740402e-02],\n",
              "       [7.60831279e-02],\n",
              "       [1.10954561e-01],\n",
              "       [2.62416344e-01],\n",
              "       [1.85628743e-01],\n",
              "       [1.28566397e-01],\n",
              "       [1.07432194e-01],\n",
              "       [7.22085241e-02],\n",
              "       [7.46741810e-02],\n",
              "       [8.62979923e-02],\n",
              "       [8.77069391e-02],\n",
              "       [1.01091934e-01],\n",
              "       [5.53011624e-02],\n",
              "       [9.54561465e-02],\n",
              "       [6.62205002e-02],\n",
              "       [8.10144417e-02],\n",
              "       [1.31736527e-01],\n",
              "       [1.29975343e-01],\n",
              "       [6.02324762e-02],\n",
              "       [2.07819655e-02],\n",
              "       [5.00176118e-02],\n",
              "       [1.08841141e-01],\n",
              "       [6.97428672e-02],\n",
              "       [6.97428672e-02],\n",
              "       [6.58682635e-02],\n",
              "       [3.37794998e-01],\n",
              "       [2.88481860e-01],\n",
              "       [2.66290948e-01],\n",
              "       [2.82493836e-01],\n",
              "       [3.27580134e-01],\n",
              "       [2.92004227e-01],\n",
              "       [2.94469884e-01],\n",
              "       [2.94469884e-01],\n",
              "       [2.80028179e-01],\n",
              "       [2.84959493e-01],\n",
              "       [2.06410708e-01],\n",
              "       [1.72595985e-01],\n",
              "       [8.34800986e-02],\n",
              "       [6.55160268e-02],\n",
              "       [6.65727369e-02],\n",
              "       [5.53011624e-02],\n",
              "       [7.07995773e-02],\n",
              "       [6.16414230e-02],\n",
              "       [4.43818246e-02],\n",
              "       [5.84712927e-02],\n",
              "       [5.03698485e-02],\n",
              "       [2.53610426e-02],\n",
              "       [6.16414230e-02],\n",
              "       [5.28355055e-02],\n",
              "       [4.57907714e-02],\n",
              "       [2.88834097e-02],\n",
              "       [3.24057767e-02],\n",
              "       [3.13490666e-02],\n",
              "       [3.34624868e-02],\n",
              "       [3.27580134e-02],\n",
              "       [2.53610426e-02],\n",
              "       [1.58506516e-02],\n",
              "       [2.53610426e-02],\n",
              "       [2.46565692e-02],\n",
              "       [2.81789362e-02],\n",
              "       [1.47939415e-02],\n",
              "       [1.23282846e-02],\n",
              "       [1.90207820e-02],\n",
              "       [2.78266995e-02],\n",
              "       [2.25431490e-02],\n",
              "       [2.28953857e-02],\n",
              "       [2.50088059e-02],\n",
              "       [2.11342022e-02],\n",
              "       [1.37372314e-02],\n",
              "       [2.04297288e-02],\n",
              "       [2.85311729e-02],\n",
              "       [2.74744628e-02],\n",
              "       [5.98802395e-02],\n",
              "       [2.74744628e-02],\n",
              "       [5.24832688e-02],\n",
              "       [8.73547024e-02],\n",
              "       [3.24057767e-02],\n",
              "       [3.52236703e-02],\n",
              "       [4.19161677e-02],\n",
              "       [3.17013033e-02],\n",
              "       [2.57132793e-02],\n",
              "       [1.41246918e-01],\n",
              "       [2.43043325e-02],\n",
              "       [3.41669602e-02],\n",
              "       [4.71997182e-02],\n",
              "       [2.81789362e-02],\n",
              "       [2.71222261e-02],\n",
              "       [1.37372314e-02],\n",
              "       [1.69073617e-02],\n",
              "       [1.47939415e-02],\n",
              "       [9.15815428e-03],\n",
              "       [2.04297288e-02],\n",
              "       [2.95878831e-02],\n",
              "       [3.38147235e-02],\n",
              "       [6.83339204e-02],\n",
              "       [8.80591758e-02],\n",
              "       [1.17647059e-01],\n",
              "       [1.42655865e-01],\n",
              "       [1.96900317e-01],\n",
              "       [2.77914759e-01],\n",
              "       [3.40612892e-01],\n",
              "       [3.46953153e-01],\n",
              "       [3.39908418e-01],\n",
              "       [4.71292709e-01],\n",
              "       [5.43501233e-01],\n",
              "       [5.57238464e-01],\n",
              "       [5.44910180e-01],\n",
              "       [6.22402254e-01],\n",
              "       [4.89609017e-01],\n",
              "       [5.08277563e-01],\n",
              "       [5.13561113e-01],\n",
              "       [5.17787954e-01],\n",
              "       [7.29129975e-01],\n",
              "       [1.00000000e+00],\n",
              "       [8.58753082e-01]])"
            ]
          },
          "metadata": {
            "tags": []
          },
          "execution_count": 300
        }
      ]
    },
    {
      "cell_type": "code",
      "metadata": {
        "id": "Y3b8u4GhlBI3"
      },
      "source": [
        "testing = scaler.transform(testdataset)\n",
        "testing = np.array(testing)\n",
        "testing = np.reshape(testing,(testing.shape[1],testing.shape[0],1))"
      ],
      "execution_count": null,
      "outputs": []
    },
    {
      "cell_type": "code",
      "metadata": {
        "colab": {
          "base_uri": "https://localhost:8080/"
        },
        "id": "1Ik7uFwzlQfw",
        "outputId": "66e4b5ec-5a1f-46df-c5b7-7cb995a8c590"
      },
      "source": [
        "predicted_covid = regressor.predict(testing)"
      ],
      "execution_count": null,
      "outputs": [
        {
          "output_type": "stream",
          "text": [
            "WARNING:tensorflow:Model was constructed with shape (None, 20, 1) for input KerasTensor(type_spec=TensorSpec(shape=(None, 20, 1), dtype=tf.float32, name='lstm_10_input'), name='lstm_10_input', description=\"created by layer 'lstm_10_input'\"), but it was called on an input with incompatible shape (None, 380, 1).\n",
            "WARNING:tensorflow:8 out of the last 8 calls to <function Model.make_predict_function.<locals>.predict_function at 0x7f639b9f77a0> triggered tf.function retracing. Tracing is expensive and the excessive number of tracings could be due to (1) creating @tf.function repeatedly in a loop, (2) passing tensors with different shapes, (3) passing Python objects instead of tensors. For (1), please define your @tf.function outside of the loop. For (2), @tf.function has experimental_relax_shapes=True option that relaxes argument shapes that can avoid unnecessary retracing. For (3), please refer to https://www.tensorflow.org/guide/function#controlling_retracing and https://www.tensorflow.org/api_docs/python/tf/function for  more details.\n"
          ],
          "name": "stdout"
        }
      ]
    },
    {
      "cell_type": "code",
      "metadata": {
        "colab": {
          "base_uri": "https://localhost:8080/"
        },
        "id": "HVw1vTi7DXBA",
        "outputId": "b948e7fd-a4b7-4cb5-de1a-ce576507835f"
      },
      "source": [
        "predicted_covid"
      ],
      "execution_count": null,
      "outputs": [
        {
          "output_type": "execute_result",
          "data": {
            "text/plain": [
              "array([[0.7035586]], dtype=float32)"
            ]
          },
          "metadata": {
            "tags": []
          },
          "execution_count": 303
        }
      ]
    },
    {
      "cell_type": "code",
      "metadata": {
        "colab": {
          "base_uri": "https://localhost:8080/"
        },
        "id": "K5CELD5IDZMo",
        "outputId": "07bbc525-4679-449c-8c04-565c8dd02349"
      },
      "source": [
        "predicted_covid = rev_min_max_func(predicted_covid)\n",
        "predicted_covid"
      ],
      "execution_count": null,
      "outputs": [
        {
          "output_type": "execute_result",
          "data": {
            "text/plain": [
              "array([[1997.403]], dtype=float32)"
            ]
          },
          "metadata": {
            "tags": []
          },
          "execution_count": 304
        }
      ]
    }
  ]
}